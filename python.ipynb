{
  "nbformat": 4,
  "nbformat_minor": 0,
  "metadata": {
    "colab": {
      "provenance": [],
      "collapsed_sections": [
        "tE8aHnrXAjs2",
        "Rpes4lqbYarI",
        "AKt4qmK_h6tO",
        "m2n2RQsnPr5Z",
        "rDE-8pS5TOwM",
        "o_zlkMKlVue5",
        "L-mtJnhCA6kB",
        "out99dszHIlr",
        "vQ84QJJ1ufT-",
        "kbYheXZ530yG",
        "oObcWgkx595U",
        "2F2IrBVuXyhN",
        "3eOvVErZRtMi",
        "MZ5nY5tTWszh"
      ]
    },
    "kernelspec": {
      "name": "python3",
      "display_name": "Python 3"
    },
    "language_info": {
      "name": "python"
    }
  },
  "cells": [
    {
      "cell_type": "markdown",
      "source": [
        "# Python\n",
        "  - case sensitive\n",
        "  - implicit typed language\n",
        "  - To see documentation of any function use `help(func_name)`"
      ],
      "metadata": {
        "id": "VpQ06x5d-T_S"
      }
    },
    {
      "cell_type": "markdown",
      "source": [
        "# Variables and Data types"
      ],
      "metadata": {
        "id": "kY_Z-9LCtuaN"
      }
    },
    {
      "cell_type": "code",
      "execution_count": 9,
      "metadata": {
        "colab": {
          "base_uri": "https://localhost:8080/"
        },
        "id": "xnRh_ETTtaS_",
        "outputId": "cb660e70-7686-4c45-a952-db37b8b4414f"
      },
      "outputs": [
        {
          "output_type": "stream",
          "name": "stdout",
          "text": [
            "Hello Champ. How are you. 23 40 23+17\n"
          ]
        }
      ],
      "source": [
        "print(\"Hello Champ.\", \"How are you.\",23,23+17,\"23+17\")"
      ]
    },
    {
      "cell_type": "markdown",
      "source": [
        "* A variable is a name given to a memory location in a program"
      ],
      "metadata": {
        "id": "BHGaDjQ32RtR"
      }
    },
    {
      "cell_type": "code",
      "source": [
        "name=\"Ujjwal\" # string\n",
        "age=23  # integer\n",
        "stock=109.34  # float"
      ],
      "metadata": {
        "id": "z173I-NhwBY1"
      },
      "execution_count": 10,
      "outputs": []
    },
    {
      "cell_type": "markdown",
      "source": [
        "**type(varible)** return *datatypes*"
      ],
      "metadata": {
        "id": "iL7RepmM6wT7"
      }
    },
    {
      "cell_type": "code",
      "source": [
        "print(type(name),type(age),type(stock))"
      ],
      "metadata": {
        "colab": {
          "base_uri": "https://localhost:8080/"
        },
        "id": "EHqN07Ou4IrB",
        "outputId": "e08e5923-4d95-4bac-d4f3-2355f9280c58"
      },
      "execution_count": 11,
      "outputs": [
        {
          "output_type": "stream",
          "name": "stdout",
          "text": [
            "<class 'str'> <class 'int'> <class 'float'>\n"
          ]
        }
      ]
    },
    {
      "cell_type": "code",
      "source": [
        "print(name,age,stock)\n",
        "print(\"My name is \",name,\". My age is \",age,\". My stock is \",stock,\".\")"
      ],
      "metadata": {
        "colab": {
          "base_uri": "https://localhost:8080/"
        },
        "id": "ckFeKyqG4OHP",
        "outputId": "b5a5fbd7-d2da-4034-bfdc-5583d592000b"
      },
      "execution_count": 12,
      "outputs": [
        {
          "output_type": "stream",
          "name": "stdout",
          "text": [
            "Ujjwal 23 109.34\n",
            "My name is  Ujjwal . My age is  23 . My stock is  109.34 .\n"
          ]
        }
      ]
    },
    {
      "cell_type": "markdown",
      "source": [
        "* Rules for identifiers\n",
        "  - combination of *uppercase*, *lowercase*, *digits* and *underscore*\n",
        "  - can't start with digit\n",
        "  - can't use special character"
      ],
      "metadata": {
        "id": "Y2-zY7-35g01"
      }
    },
    {
      "cell_type": "markdown",
      "source": [
        "* Data types\n",
        "  - Integers\n",
        "  - String\n",
        "  - Float\n",
        "  - Boolean : **True False**  : Case sensitive\n",
        "  - None"
      ],
      "metadata": {
        "id": "dUm4SPOT7p0B"
      }
    },
    {
      "cell_type": "code",
      "source": [
        "old=False\n",
        "a=None\n",
        "print(type(old),type(a))"
      ],
      "metadata": {
        "colab": {
          "base_uri": "https://localhost:8080/"
        },
        "id": "xJMtM0104oNN",
        "outputId": "7165935e-f12a-4a40-b903-d8eaba33b931"
      },
      "execution_count": 13,
      "outputs": [
        {
          "output_type": "stream",
          "name": "stdout",
          "text": [
            "<class 'bool'> <class 'NoneType'>\n"
          ]
        }
      ]
    },
    {
      "cell_type": "markdown",
      "source": [
        "* Keywords : rserved words , can't use as variable name\n",
        "  `and as assert break class continue def del elif else except finally False for from global if import in lambda nonlocal None not or pass raise return True try with while yield`"
      ],
      "metadata": {
        "id": "8T9a8OMC8nLd"
      }
    },
    {
      "cell_type": "markdown",
      "source": [
        "* Punctuators : symbols to organise structure in programming `() , {} , @ , [] , # etc`"
      ],
      "metadata": {
        "id": "xiKYOyFJ-HOZ"
      }
    },
    {
      "cell_type": "markdown",
      "source": [
        "## Expression Execution"
      ],
      "metadata": {
        "id": "tE8aHnrXAjs2"
      }
    },
    {
      "cell_type": "markdown",
      "source": [
        "* **Repeatation** : String and numeric values can operate together with `*`"
      ],
      "metadata": {
        "id": "KpR3pnqrAuc7"
      }
    },
    {
      "cell_type": "code",
      "source": [
        "A,B=2,3\n",
        "txt=\"@\"\n",
        "print(A*txt,B*txt)\n",
        "print(A*txt*B)"
      ],
      "metadata": {
        "colab": {
          "base_uri": "https://localhost:8080/"
        },
        "id": "yva0k6t88Y7D",
        "outputId": "b8bcd7e7-55aa-4abb-fa0c-5e0051f31432"
      },
      "execution_count": 14,
      "outputs": [
        {
          "output_type": "stream",
          "name": "stdout",
          "text": [
            "@@ @@@\n",
            "@@@@@@\n"
          ]
        }
      ]
    },
    {
      "cell_type": "markdown",
      "source": [
        "* **Concatination** : String and String can operate with `+`"
      ],
      "metadata": {
        "id": "DdQj_UDKB77p"
      }
    },
    {
      "cell_type": "code",
      "source": [
        "C=\"Zs\"\n",
        "D,E=\"L\",2\n",
        "print((C+txt+D)*E)"
      ],
      "metadata": {
        "colab": {
          "base_uri": "https://localhost:8080/"
        },
        "id": "6ZJoLrjVBYg-",
        "outputId": "2a83acae-0dde-4417-87c8-be05ab011f28"
      },
      "execution_count": 15,
      "outputs": [
        {
          "output_type": "stream",
          "name": "stdout",
          "text": [
            "Zs@LZs@L\n"
          ]
        }
      ]
    },
    {
      "cell_type": "markdown",
      "source": [
        "* Numeric values can operate with all arithmetic operators `+ , - , / , % , // , **`"
      ],
      "metadata": {
        "id": "p4TKmZl5DAQ8"
      }
    },
    {
      "cell_type": "code",
      "source": [
        "print(A+B*E)"
      ],
      "metadata": {
        "colab": {
          "base_uri": "https://localhost:8080/"
        },
        "id": "urrUGDbgCg8m",
        "outputId": "dda11359-2554-421d-a103-9b7d0177d3fe"
      },
      "execution_count": 16,
      "outputs": [
        {
          "output_type": "stream",
          "name": "stdout",
          "text": [
            "8\n"
          ]
        }
      ]
    },
    {
      "cell_type": "code",
      "source": [
        "print(B**E)"
      ],
      "metadata": {
        "colab": {
          "base_uri": "https://localhost:8080/"
        },
        "id": "xjzkJ7PeOgn9",
        "outputId": "ac7a18fc-7db3-4efe-842b-c7ff09af39de"
      },
      "execution_count": 17,
      "outputs": [
        {
          "output_type": "stream",
          "name": "stdout",
          "text": [
            "9\n"
          ]
        }
      ]
    },
    {
      "cell_type": "markdown",
      "source": [
        "* Arithmetic opration with integer and float will results in `float`"
      ],
      "metadata": {
        "id": "JSvVXTXdOtSG"
      }
    },
    {
      "cell_type": "code",
      "source": [
        "a,b=5.1,10\n",
        "print(a*b)"
      ],
      "metadata": {
        "colab": {
          "base_uri": "https://localhost:8080/"
        },
        "id": "D8f6R5GmOnJY",
        "outputId": "2c215810-95e0-4e69-b661-d56fb020a65e"
      },
      "execution_count": 18,
      "outputs": [
        {
          "output_type": "stream",
          "name": "stdout",
          "text": [
            "51.0\n"
          ]
        }
      ]
    },
    {
      "cell_type": "markdown",
      "source": [
        "* Result of division operator with two integer will be `float`"
      ],
      "metadata": {
        "id": "_uWtTkjJPHAn"
      }
    },
    {
      "cell_type": "code",
      "source": [
        "a,b=1,2\n",
        "print(a/b)"
      ],
      "metadata": {
        "colab": {
          "base_uri": "https://localhost:8080/"
        },
        "id": "QJzTHB7EPEfU",
        "outputId": "22e3e2bf-f758-47d8-ed72-0adee557aef2"
      },
      "execution_count": 19,
      "outputs": [
        {
          "output_type": "stream",
          "name": "stdout",
          "text": [
            "0.5\n"
          ]
        }
      ]
    },
    {
      "cell_type": "markdown",
      "source": [
        "* Integer division `//` , with float and int will give `int` displayed as `float`\n",
        "* `A//B` gives floor value of `A/B` i.e works as `Greatest Integer Function`"
      ],
      "metadata": {
        "id": "L8jxYF2MP5V1"
      }
    },
    {
      "cell_type": "code",
      "source": [
        "a=1.0\n",
        "print(a//b)\n",
        "print(a/b)"
      ],
      "metadata": {
        "colab": {
          "base_uri": "https://localhost:8080/"
        },
        "id": "z7pz4OGpPc_W",
        "outputId": "db0a7ba2-c8ad-48fc-9336-00ad4b279127"
      },
      "execution_count": 20,
      "outputs": [
        {
          "output_type": "stream",
          "name": "stdout",
          "text": [
            "0.0\n",
            "0.5\n"
          ]
        }
      ]
    },
    {
      "cell_type": "markdown",
      "source": [
        "* `Remainder is negative` if we have  `negative denominator`"
      ],
      "metadata": {
        "id": "6WfHQ9cMU7XP"
      }
    },
    {
      "cell_type": "code",
      "source": [
        "a=4\n",
        "b=6\n",
        "c=-3\n",
        "d=-7\n",
        "print(a%b)  # both +ve\n",
        "print(a%c)  # -ve denominator and +ve numerator\n",
        "print(d%c)  # both -ve\n",
        "print(d%a)  # +ve denominator and -ve numerator\n"
      ],
      "metadata": {
        "colab": {
          "base_uri": "https://localhost:8080/"
        },
        "id": "gE1dwryMU6_g",
        "outputId": "2f865f3b-d2aa-40a8-e44a-d670f2dcd4ea"
      },
      "execution_count": 21,
      "outputs": [
        {
          "output_type": "stream",
          "name": "stdout",
          "text": [
            "4\n",
            "-2\n",
            "-1\n",
            "1\n"
          ]
        }
      ]
    },
    {
      "cell_type": "markdown",
      "source": [
        "## Comments"
      ],
      "metadata": {
        "id": "Rpes4lqbYarI"
      }
    },
    {
      "cell_type": "markdown",
      "source": [
        "* `#` : Single line comment\n",
        "* `\"\"\"  dummy text   \"\"\"` : multi lines comment : having three double quote at initial and last"
      ],
      "metadata": {
        "id": "v7_J-0tNYimT"
      }
    },
    {
      "cell_type": "markdown",
      "source": [
        "## Input\n",
        "* `input()` default input is string"
      ],
      "metadata": {
        "id": "ly309IRuT7Rf"
      }
    },
    {
      "cell_type": "markdown",
      "source": [
        "* string input"
      ],
      "metadata": {
        "id": "V1BQDkgnZUhN"
      }
    },
    {
      "cell_type": "code",
      "source": [
        "name=input(\"Enter your name : \")\n",
        "print(\"Your name is \",name)"
      ],
      "metadata": {
        "colab": {
          "base_uri": "https://localhost:8080/"
        },
        "id": "XpFzvfRbQQLH",
        "outputId": "8553a2fc-f4a8-4d96-c5b4-3b551ce82335"
      },
      "execution_count": 22,
      "outputs": [
        {
          "output_type": "stream",
          "name": "stdout",
          "text": [
            "Enter your name : Ujjwal\n",
            "Your name is  Ujjwal\n"
          ]
        }
      ]
    },
    {
      "cell_type": "markdown",
      "source": [
        "* int input"
      ],
      "metadata": {
        "id": "yRFfp1AvZe9J"
      }
    },
    {
      "cell_type": "code",
      "source": [
        "age=int(input(\"Enter your age : \"))\n",
        "print(\"Your age is \",age)"
      ],
      "metadata": {
        "colab": {
          "base_uri": "https://localhost:8080/"
        },
        "id": "TUTFM9bAZZ93",
        "outputId": "173c03b0-54db-4a4f-ac47-e2baeed0cd7b"
      },
      "execution_count": 23,
      "outputs": [
        {
          "output_type": "stream",
          "name": "stdout",
          "text": [
            "Enter your age : 22\n",
            "Your age is  22\n"
          ]
        }
      ]
    },
    {
      "cell_type": "markdown",
      "source": [
        "* float input"
      ],
      "metadata": {
        "id": "hIIDF-XnZ7jd"
      }
    },
    {
      "cell_type": "code",
      "source": [
        "frac=float(input(\"Enter your fraction : \"))\n",
        "print(\"Your fraction is \",frac)"
      ],
      "metadata": {
        "colab": {
          "base_uri": "https://localhost:8080/"
        },
        "id": "r_lPlxW1ZsZv",
        "outputId": "18c391e2-9344-4bb9-be0e-cd8da3320245"
      },
      "execution_count": 24,
      "outputs": [
        {
          "output_type": "stream",
          "name": "stdout",
          "text": [
            "Enter your fraction : 3.16\n",
            "Your fraction is  3.16\n"
          ]
        }
      ]
    },
    {
      "cell_type": "markdown",
      "source": [
        "## Operators\n",
        "- Airthmetic : `+, -, *, /, %, **`\n",
        "- Relational : `==, !=, >, <, >=, <=`\n",
        "- Assignment : `=, +=, -=, *=, /=, %=, **=`\n",
        "- Logical : `not, and, or` it is also same precedence order, first not then and then or"
      ],
      "metadata": {
        "id": "IDsY3sXxN8gc"
      }
    },
    {
      "cell_type": "code",
      "source": [
        "# airthmetic operators\n",
        "a,b=5,2\n",
        "print(a+b,a-b,a*b,a/b,a%b,a**b)"
      ],
      "metadata": {
        "colab": {
          "base_uri": "https://localhost:8080/"
        },
        "id": "wAUdBVJmgZft",
        "outputId": "66c84666-1323-48d3-f87a-9e691d72ae8a"
      },
      "execution_count": 25,
      "outputs": [
        {
          "output_type": "stream",
          "name": "stdout",
          "text": [
            "7 3 10 2.5 1 25\n"
          ]
        }
      ]
    },
    {
      "cell_type": "code",
      "source": [
        "# Relational operator, returns boolean\n",
        "print(a==b,a!=b,a>b,a<b,a>=b,a<=b)"
      ],
      "metadata": {
        "colab": {
          "base_uri": "https://localhost:8080/"
        },
        "id": "phL1vJ8MgpJ9",
        "outputId": "8c149bf1-0d8c-4cea-c84c-20d9c0c5241f"
      },
      "execution_count": 26,
      "outputs": [
        {
          "output_type": "stream",
          "name": "stdout",
          "text": [
            "False True True False True False\n"
          ]
        }
      ]
    },
    {
      "cell_type": "code",
      "source": [
        "# Assignment operator\n",
        "print(a,b)\n",
        "a+=b\n",
        "print(a,b)"
      ],
      "metadata": {
        "colab": {
          "base_uri": "https://localhost:8080/"
        },
        "id": "EvLh_xmUgznn",
        "outputId": "4d7fef67-7de5-4020-f195-c2a56e26a969"
      },
      "execution_count": 27,
      "outputs": [
        {
          "output_type": "stream",
          "name": "stdout",
          "text": [
            "5 2\n",
            "7 2\n"
          ]
        }
      ]
    },
    {
      "cell_type": "code",
      "source": [
        "# Logical operator, works on boolean only\n",
        "print(not True and False or True) # F ^ F v T => F v T => T\n",
        "print(not True)\n",
        "print(not(a>b))"
      ],
      "metadata": {
        "colab": {
          "base_uri": "https://localhost:8080/"
        },
        "id": "cjXT1zeiaHIu",
        "outputId": "3136e6ed-150c-4d5e-e26f-94a36b9e2416"
      },
      "execution_count": 28,
      "outputs": [
        {
          "output_type": "stream",
          "name": "stdout",
          "text": [
            "True\n",
            "False\n",
            "False\n"
          ]
        }
      ]
    },
    {
      "cell_type": "markdown",
      "source": [
        "## Type conversion\n",
        "- Automatically converts the datatype"
      ],
      "metadata": {
        "id": "AKt4qmK_h6tO"
      }
    },
    {
      "cell_type": "code",
      "source": [
        "a,b=5.2,3\n",
        "sum=a+b\n",
        "print(sum)"
      ],
      "metadata": {
        "colab": {
          "base_uri": "https://localhost:8080/"
        },
        "id": "8ySbAOkdiDVL",
        "outputId": "e1890d21-18f5-4a43-bb06-e52bc1ca6363"
      },
      "execution_count": 29,
      "outputs": [
        {
          "output_type": "stream",
          "name": "stdout",
          "text": [
            "8.2\n"
          ]
        }
      ]
    },
    {
      "cell_type": "markdown",
      "source": [
        "## Type casting\n",
        "- `int(y[base])` : y to integer with given base. ex- string to decimal have base 10\n",
        "- `float(y)` : y to floating point number\n",
        "- `complex(real[imag])` : create complex number\n",
        "- `str(y)`  : y to a string\n",
        "- `tuple(y)`: y to a tuple\n",
        "- `list(y)`: y to a list\n",
        "- `set(y)` : y to a set\n",
        "- `dict(y)`: create dictionary and y should be a sequence of (key, value) tuples\n",
        "- `ord(y)` : character to an integer\n",
        "- `hex(y)` : integer to hexadecimal string\n",
        "- `oct(y)` : integer to octal string"
      ],
      "metadata": {
        "id": "m2n2RQsnPr5Z"
      }
    },
    {
      "cell_type": "code",
      "source": [
        "a,b=\"2\",3\n",
        "a=int(a)\n",
        "print(a+b)"
      ],
      "metadata": {
        "colab": {
          "base_uri": "https://localhost:8080/"
        },
        "id": "E12ogHkxPYwg",
        "outputId": "404baf3e-3404-4737-b6d2-cf73d3738204"
      },
      "execution_count": 30,
      "outputs": [
        {
          "output_type": "stream",
          "name": "stdout",
          "text": [
            "5\n"
          ]
        }
      ]
    },
    {
      "cell_type": "code",
      "source": [],
      "metadata": {
        "id": "DkX-ZahrRpdw"
      },
      "execution_count": 30,
      "outputs": []
    },
    {
      "cell_type": "markdown",
      "source": [
        "## Conditional\n",
        "- `if elif else`\n",
        "- `intendation` : proper spacing : `4` space"
      ],
      "metadata": {
        "id": "EBi8FkbWSmqn"
      }
    },
    {
      "cell_type": "markdown",
      "source": [
        "### Trafic light code"
      ],
      "metadata": {
        "id": "rDE-8pS5TOwM"
      }
    },
    {
      "cell_type": "code",
      "source": [
        "light=input(\"light colour : \")\n",
        "if(light==\"red\"):\n",
        "    print(\"stop\")\n",
        "elif(light==\"yellow\"):\n",
        "    print(\"ready\")\n",
        "elif(light==\"green\"):\n",
        "    print(\"go\")\n",
        "else:\n",
        "    print(\"wrong colour\")"
      ],
      "metadata": {
        "colab": {
          "base_uri": "https://localhost:8080/"
        },
        "id": "taJW0f67SpJk",
        "outputId": "c4f2fad3-0c53-4e2f-a58b-fedec0eec7de"
      },
      "execution_count": 31,
      "outputs": [
        {
          "output_type": "stream",
          "name": "stdout",
          "text": [
            "light colour : green\n",
            "go\n"
          ]
        }
      ]
    },
    {
      "cell_type": "markdown",
      "source": [
        "### Single line if / Ternary operator"
      ],
      "metadata": {
        "id": "o_zlkMKlVue5"
      }
    },
    {
      "cell_type": "markdown",
      "source": [
        "`<var> = <val1> if <condition> else <val2>`\n",
        "\n",
        "\n"
      ],
      "metadata": {
        "id": "KA4MZtXoZFCN"
      }
    },
    {
      "cell_type": "code",
      "source": [
        "sweet=input(\"what is your favorite sweet? : \")\n",
        "result=\"yes\" if(sweet==\"rosgulla\") else \"no\"\n",
        "print(result)"
      ],
      "metadata": {
        "colab": {
          "base_uri": "https://localhost:8080/"
        },
        "id": "0Y1-CVFXV8bh",
        "outputId": "17b9d6e0-784b-4e2a-8423-89a0656fa077"
      },
      "execution_count": 32,
      "outputs": [
        {
          "output_type": "stream",
          "name": "stdout",
          "text": [
            "what is your favorite sweet? : gulab jamun\n",
            "no\n"
          ]
        }
      ]
    },
    {
      "cell_type": "markdown",
      "source": [
        "if we directly want to print\n",
        "- `<str1> if <condition1> else <str2>`"
      ],
      "metadata": {
        "id": "X8sCEPMgcNZM"
      }
    },
    {
      "cell_type": "code",
      "source": [
        "print(\"yes\") if(sweet==\"rosgulla\" or sweet==\"rasmadhuri\") else print(\"bad choice\")"
      ],
      "metadata": {
        "colab": {
          "base_uri": "https://localhost:8080/"
        },
        "id": "NYgcU9W1cFvy",
        "outputId": "3b3f4149-fa4a-47c1-bdbe-36fbfd340c3b"
      },
      "execution_count": 33,
      "outputs": [
        {
          "output_type": "stream",
          "name": "stdout",
          "text": [
            "bad choice\n"
          ]
        }
      ]
    },
    {
      "cell_type": "markdown",
      "source": [
        "### clever if / Ternary operator\n",
        "- used to assign value to a variable on given condition in minimum loc\n",
        "- `<var> = (false_val, true_val) [<condition>]`"
      ],
      "metadata": {
        "id": "3dtHRAZkdRkC"
      }
    },
    {
      "cell_type": "code",
      "source": [
        "age=int(input(\"Enter your age : \"))\n",
        "height=(\"tall\",\"short\") [age>=18]\n",
        "print(height)"
      ],
      "metadata": {
        "colab": {
          "base_uri": "https://localhost:8080/"
        },
        "id": "BxOiRz9kcuTJ",
        "outputId": "793ac91c-cbbd-46c7-f3a9-c41b3f11563f"
      },
      "execution_count": 34,
      "outputs": [
        {
          "output_type": "stream",
          "name": "stdout",
          "text": [
            "Enter your age : 22\n",
            "short\n"
          ]
        }
      ]
    },
    {
      "cell_type": "markdown",
      "source": [
        "# Strings"
      ],
      "metadata": {
        "id": "VakZA7M9kwcv"
      }
    },
    {
      "cell_type": "code",
      "source": [
        "# creating string\n",
        "str1=\"This is a string \"\n",
        "str2='ujjwalSingh'\n",
        "str3=\"\"\"this is also a string\"\"\""
      ],
      "metadata": {
        "id": "QqWD7bsekyOm"
      },
      "execution_count": 35,
      "outputs": []
    },
    {
      "cell_type": "markdown",
      "source": [
        "if we have multiple way for defining string so that we can use symbol `' \"` easily"
      ],
      "metadata": {
        "id": "_ajOkuFw9lif"
      }
    },
    {
      "cell_type": "code",
      "source": [
        "str3=\"this is ram's house\"\n",
        "print(str3)"
      ],
      "metadata": {
        "colab": {
          "base_uri": "https://localhost:8080/"
        },
        "id": "If85kj-Z8ofx",
        "outputId": "d7392e42-6908-48df-b1ad-0352c6daa1f4"
      },
      "execution_count": 36,
      "outputs": [
        {
          "output_type": "stream",
          "name": "stdout",
          "text": [
            "this is ram's house\n"
          ]
        }
      ]
    },
    {
      "cell_type": "markdown",
      "source": [
        "* Concatination : `+`"
      ],
      "metadata": {
        "id": "dQorjyvw954k"
      }
    },
    {
      "cell_type": "code",
      "source": [
        "str4=str1+str2\n",
        "print(str4)"
      ],
      "metadata": {
        "colab": {
          "base_uri": "https://localhost:8080/"
        },
        "id": "nhCJVN6S9kPx",
        "outputId": "4a5bb508-5886-40c5-d130-7e8fd3be4696"
      },
      "execution_count": 37,
      "outputs": [
        {
          "output_type": "stream",
          "name": "stdout",
          "text": [
            "This is a string ujjwalSingh\n"
          ]
        }
      ]
    },
    {
      "cell_type": "markdown",
      "source": [
        "* Length of string : `len(str_name)`\n",
        "  - it also counts spaces"
      ],
      "metadata": {
        "id": "RKchj1jc-HdB"
      }
    },
    {
      "cell_type": "code",
      "source": [
        "len1=len(str4)\n",
        "print(len1)"
      ],
      "metadata": {
        "colab": {
          "base_uri": "https://localhost:8080/"
        },
        "id": "HgmNAAfi-CFM",
        "outputId": "5d890be8-68be-4357-f89e-7248e195146d"
      },
      "execution_count": 38,
      "outputs": [
        {
          "output_type": "stream",
          "name": "stdout",
          "text": [
            "28\n"
          ]
        }
      ]
    },
    {
      "cell_type": "markdown",
      "source": [
        "* Indexing\n",
        "  - only used for accessing\n",
        "  - can't used for modification"
      ],
      "metadata": {
        "id": "jAPRhdGE-mv7"
      }
    },
    {
      "cell_type": "code",
      "source": [
        "ch=str4[3]\n",
        "print(ch)"
      ],
      "metadata": {
        "colab": {
          "base_uri": "https://localhost:8080/"
        },
        "id": "Ur-wXnKF-Tc4",
        "outputId": "e32f3af5-f3a4-490b-a91b-17e6223b5f33"
      },
      "execution_count": 39,
      "outputs": [
        {
          "output_type": "stream",
          "name": "stdout",
          "text": [
            "s\n"
          ]
        }
      ]
    },
    {
      "cell_type": "markdown",
      "source": [
        "* Slicing : Accessing parts of a string\n",
        "  - `Str[StartingIndex, EndingIndex]`  *EndingIndex is not included*"
      ],
      "metadata": {
        "id": "9HDRHzsG_SkH"
      }
    },
    {
      "cell_type": "code",
      "source": [
        "string=\"UjjwalSingh\"\n",
        "str1=string[0:6]\n",
        "print(str1)"
      ],
      "metadata": {
        "id": "mGe6Z5c9-98I",
        "colab": {
          "base_uri": "https://localhost:8080/"
        },
        "outputId": "4c80fc52-ee4b-4cce-d515-a113e21f8da1"
      },
      "execution_count": 40,
      "outputs": [
        {
          "output_type": "stream",
          "name": "stdout",
          "text": [
            "Ujjwal\n"
          ]
        }
      ]
    },
    {
      "cell_type": "markdown",
      "source": [
        "* `Str[ : 4]` is same as `Str[0:4]`\n",
        "* `Str[1: ]` is same as `Str[1:len(Str)]`\n",
        "* if we didn't mention the index, it will consider extreme"
      ],
      "metadata": {
        "id": "9jladt54w4US"
      }
    },
    {
      "cell_type": "code",
      "source": [
        "print(string[:6],string[1:],string[1:len(string)])"
      ],
      "metadata": {
        "colab": {
          "base_uri": "https://localhost:8080/"
        },
        "id": "dO_pqO4WG2rU",
        "outputId": "c2334049-30d8-42de-8b2e-088808bff0cd"
      },
      "execution_count": 41,
      "outputs": [
        {
          "output_type": "stream",
          "name": "stdout",
          "text": [
            "Ujjwal jjwalSingh jjwalSingh\n"
          ]
        }
      ]
    },
    {
      "cell_type": "code",
      "source": [
        "# we didn't mention index on both side, so take 0 and len as index as extremes\n",
        "print(string[:])"
      ],
      "metadata": {
        "colab": {
          "base_uri": "https://localhost:8080/"
        },
        "id": "p9Gc_tCg6vQ-",
        "outputId": "8ecfd14b-c180-4afa-fc68-2f7013c02b04"
      },
      "execution_count": 42,
      "outputs": [
        {
          "output_type": "stream",
          "name": "stdout",
          "text": [
            "UjjwalSingh\n"
          ]
        }
      ]
    },
    {
      "cell_type": "markdown",
      "source": [
        "* **Negative indexing**\n",
        "  - starts in reverse direction and indexing starts from `-1`\n",
        "  - `A   p  p  l  e`\n",
        "  - `-5 -4 -3 -2 -1`\n",
        "  - `Str[-4:-1]` will include `-4` but exclude `-1`"
      ],
      "metadata": {
        "id": "SybpB6l37OQ0"
      }
    },
    {
      "cell_type": "code",
      "source": [
        "string=\"Apple\"\n",
        "print(string[-4:-1])"
      ],
      "metadata": {
        "colab": {
          "base_uri": "https://localhost:8080/"
        },
        "id": "aeYHsRHK68a8",
        "outputId": "362ef000-363e-4c89-f48b-9cc5328fc73b"
      },
      "execution_count": 43,
      "outputs": [
        {
          "output_type": "stream",
          "name": "stdout",
          "text": [
            "ppl\n"
          ]
        }
      ]
    },
    {
      "cell_type": "markdown",
      "source": [
        "## string functions"
      ],
      "metadata": {
        "id": "QEYZvxQE8S0L"
      }
    },
    {
      "cell_type": "markdown",
      "source": [
        "* `str.endswith(\"substr\")` returns true if string `ends` with substr"
      ],
      "metadata": {
        "id": "-nGMJID58iLi"
      }
    },
    {
      "cell_type": "code",
      "source": [
        "string=\"i am champ-ujjwal\"\n",
        "print(string.endswith(\"ujjwal\"))\n",
        "print(string.endswith(\"ujjwaL\"))"
      ],
      "metadata": {
        "colab": {
          "base_uri": "https://localhost:8080/"
        },
        "id": "CtmdaP318QMW",
        "outputId": "031ef217-8163-4ca5-ae0e-25a9f30de82f"
      },
      "execution_count": 44,
      "outputs": [
        {
          "output_type": "stream",
          "name": "stdout",
          "text": [
            "True\n",
            "False\n"
          ]
        }
      ]
    },
    {
      "cell_type": "markdown",
      "source": [
        "* `str.capitalize()` capitalizes 1st char\n",
        "  - it doesn't change in original string\n",
        "  - make changes in original string, we need to store in same string as `str= str.capitalize() `"
      ],
      "metadata": {
        "id": "nB6KXGUc9KGd"
      }
    },
    {
      "cell_type": "code",
      "source": [
        "print(string.capitalize())\n",
        "print(string)"
      ],
      "metadata": {
        "colab": {
          "base_uri": "https://localhost:8080/"
        },
        "id": "v3NGGauH9CbG",
        "outputId": "2d90b1de-bc12-4710-bed6-2495ac22f550"
      },
      "execution_count": 45,
      "outputs": [
        {
          "output_type": "stream",
          "name": "stdout",
          "text": [
            "I am champ-ujjwal\n",
            "i am champ-ujjwal\n"
          ]
        }
      ]
    },
    {
      "cell_type": "code",
      "source": [
        "string=string.capitalize()\n",
        "print(string)"
      ],
      "metadata": {
        "colab": {
          "base_uri": "https://localhost:8080/"
        },
        "id": "eDLkb5UW9dD8",
        "outputId": "031c7318-6f8f-4cd4-a38b-0264bcc35d85"
      },
      "execution_count": 46,
      "outputs": [
        {
          "output_type": "stream",
          "name": "stdout",
          "text": [
            "I am champ-ujjwal\n"
          ]
        }
      ]
    },
    {
      "cell_type": "markdown",
      "source": [
        "* `str.replace(old,new)` : replaces `all occurences` of old by new\n",
        "  - old and new can be character or string or both\n",
        "  - also doesn't changes in same string"
      ],
      "metadata": {
        "id": "Bnz-WDvU-Ike"
      }
    },
    {
      "cell_type": "code",
      "source": [
        "print(string.replace(\"j\",\"z\"))\n"
      ],
      "metadata": {
        "colab": {
          "base_uri": "https://localhost:8080/"
        },
        "id": "Hte2WJsJ-BX_",
        "outputId": "5f8317d9-7ccb-4900-f660-4106f459380e"
      },
      "execution_count": 47,
      "outputs": [
        {
          "output_type": "stream",
          "name": "stdout",
          "text": [
            "I am champ-uzzwal\n"
          ]
        }
      ]
    },
    {
      "cell_type": "markdown",
      "source": [
        "* `str.find(word)` return 1st index of 1st occurance\n",
        "* return `-1` for unvalid index"
      ],
      "metadata": {
        "id": "lE6sNtwu-6PR"
      }
    },
    {
      "cell_type": "code",
      "source": [
        "print(string.find(\"champ\"))"
      ],
      "metadata": {
        "colab": {
          "base_uri": "https://localhost:8080/"
        },
        "id": "ryTk_egl-kNc",
        "outputId": "8fbf395f-5c03-4dc5-a0ba-9bbb375b8344"
      },
      "execution_count": 48,
      "outputs": [
        {
          "output_type": "stream",
          "name": "stdout",
          "text": [
            "5\n"
          ]
        }
      ]
    },
    {
      "cell_type": "markdown",
      "source": [
        "* `str.count(\"word\")` counts the occurance of count of word"
      ],
      "metadata": {
        "id": "T7HYwLwi_Xxo"
      }
    },
    {
      "cell_type": "code",
      "source": [
        "print(string)\n",
        "print(string.count(\"a\"))"
      ],
      "metadata": {
        "colab": {
          "base_uri": "https://localhost:8080/"
        },
        "id": "sS57dehF_NxP",
        "outputId": "b0fb360d-b98f-42de-da7b-8fbb17389d0f"
      },
      "execution_count": 49,
      "outputs": [
        {
          "output_type": "stream",
          "name": "stdout",
          "text": [
            "I am champ-ujjwal\n",
            "3\n"
          ]
        }
      ]
    },
    {
      "cell_type": "markdown",
      "source": [
        "### basic prac"
      ],
      "metadata": {
        "id": "L-mtJnhCA6kB"
      }
    },
    {
      "cell_type": "code",
      "source": [
        "# WAP to input user's name and print its length\n",
        "name=input(\"Enter your name : \")\n",
        "print(len(name))"
      ],
      "metadata": {
        "colab": {
          "base_uri": "https://localhost:8080/"
        },
        "id": "x2QhBPk6AeNz",
        "outputId": "1a914de3-90c4-49b3-bdd7-b934a1121f51"
      },
      "execution_count": 50,
      "outputs": [
        {
          "output_type": "stream",
          "name": "stdout",
          "text": [
            "Enter your name : Ujjwal\n",
            "6\n"
          ]
        }
      ]
    },
    {
      "cell_type": "code",
      "source": [
        "# WAP to find occurance of $ in a string and its first occurance index\n",
        "string=input(\"enter a string : \")\n",
        "print(string.count(\"$\"))\n",
        "print(string.find(\"$\"))"
      ],
      "metadata": {
        "colab": {
          "base_uri": "https://localhost:8080/"
        },
        "id": "THo86iuRDog7",
        "outputId": "779f15f7-ab0b-48aa-da8c-891507a540ce"
      },
      "execution_count": 51,
      "outputs": [
        {
          "output_type": "stream",
          "name": "stdout",
          "text": [
            "enter a string : ufjd dhfjb $hdsbf $hdsf\n",
            "2\n",
            "11\n"
          ]
        }
      ]
    },
    {
      "cell_type": "code",
      "source": [],
      "metadata": {
        "id": "Mfe4StjREEje"
      },
      "execution_count": 51,
      "outputs": []
    },
    {
      "cell_type": "markdown",
      "source": [
        "# List"
      ],
      "metadata": {
        "id": "out99dszHIlr"
      }
    },
    {
      "cell_type": "markdown",
      "source": [
        "* It stores elements of different types (integer, float string etc)\n",
        "* list are mutable while strings are immutable\n",
        "* elements can be accesible only within the range  \n",
        "* Slicing of list is also possible like string, it also allows negative indexing.\n",
        "* while slicing if we go outof range, still it will print"
      ],
      "metadata": {
        "id": "AK_ij4VRkalM"
      }
    },
    {
      "cell_type": "code",
      "source": [
        "students = [\"Varun\", 95.4, 17, \"Delhi\"]  # making list\n",
        "print(students)       # print list\n",
        "print(students[0])    # accesing 0 index\n",
        "students[0]=\"Ujjwal\"  # changing index 0\n",
        "print(students)       # print list"
      ],
      "metadata": {
        "colab": {
          "base_uri": "https://localhost:8080/"
        },
        "id": "4OB6KCe9HK1w",
        "outputId": "6dad99a7-a2c0-40a0-959d-e708862c05ee"
      },
      "execution_count": 52,
      "outputs": [
        {
          "output_type": "stream",
          "name": "stdout",
          "text": [
            "['Varun', 95.4, 17, 'Delhi']\n",
            "Varun\n",
            "['Ujjwal', 95.4, 17, 'Delhi']\n"
          ]
        }
      ]
    },
    {
      "cell_type": "code",
      "source": [
        "# Slicing of list\n",
        "print(students[1:3])\n",
        "print(students[1:])\n",
        "print(students[:3])\n",
        "print(students[:])"
      ],
      "metadata": {
        "colab": {
          "base_uri": "https://localhost:8080/"
        },
        "id": "EMlA1Navk5h_",
        "outputId": "8e915fd9-84fa-43b6-fa15-2463fabe0cce"
      },
      "execution_count": 53,
      "outputs": [
        {
          "output_type": "stream",
          "name": "stdout",
          "text": [
            "[95.4, 17]\n",
            "[95.4, 17, 'Delhi']\n",
            "['Ujjwal', 95.4, 17]\n",
            "['Ujjwal', 95.4, 17, 'Delhi']\n"
          ]
        }
      ]
    },
    {
      "cell_type": "markdown",
      "source": [
        "## Methods of list"
      ],
      "metadata": {
        "id": "zxVgP4d2mXOT"
      }
    },
    {
      "cell_type": "markdown",
      "source": [
        "* list=[2,1,3]\n",
        "* `list.append(4)`  adds one element at the end `[2,1,3,4]`\n",
        "* `list.sort()`     sorts in ascending order `[1,2,3]` , make changes in original list and return `None`\n",
        "* `list.sort(reverse=True)` sorts in descending order `[3,2,1]`\n",
        "* `list.reverse()` reverse list `[3,1,2]`\n",
        "* `list.insert(idx,el)` insert element at index\n"
      ],
      "metadata": {
        "id": "6THA_cWPmfT2"
      }
    },
    {
      "cell_type": "code",
      "source": [
        "# creating list\n",
        "list=[3,1,2]\n",
        "print(list)"
      ],
      "metadata": {
        "colab": {
          "base_uri": "https://localhost:8080/"
        },
        "id": "EGwIvjyWl35i",
        "outputId": "2a379c30-c931-4994-bda3-88ad3793abcf"
      },
      "execution_count": 54,
      "outputs": [
        {
          "output_type": "stream",
          "name": "stdout",
          "text": [
            "[3, 1, 2]\n"
          ]
        }
      ]
    },
    {
      "cell_type": "code",
      "source": [
        "list.append(4) # append 4\n",
        "print(list)"
      ],
      "metadata": {
        "colab": {
          "base_uri": "https://localhost:8080/"
        },
        "id": "msqxQgqjsPyT",
        "outputId": "03caa6a1-3cb5-4bc8-a363-7df2e175eb22"
      },
      "execution_count": 55,
      "outputs": [
        {
          "output_type": "stream",
          "name": "stdout",
          "text": [
            "[3, 1, 2, 4]\n"
          ]
        }
      ]
    },
    {
      "cell_type": "code",
      "source": [
        "list.sort()  # sorting\n",
        "print(list)"
      ],
      "metadata": {
        "colab": {
          "base_uri": "https://localhost:8080/"
        },
        "id": "r6v_vODcsjs8",
        "outputId": "1e4e4434-f23a-4ec4-e495-1a296c399db1"
      },
      "execution_count": 56,
      "outputs": [
        {
          "output_type": "stream",
          "name": "stdout",
          "text": [
            "[1, 2, 3, 4]\n"
          ]
        }
      ]
    },
    {
      "cell_type": "code",
      "source": [
        "list.sort(reverse=True)  # sorting in descending order\n",
        "print(list)"
      ],
      "metadata": {
        "colab": {
          "base_uri": "https://localhost:8080/"
        },
        "id": "ny0j2m5kst6O",
        "outputId": "ab4490f1-c0fc-4eb8-f57b-ef47aab26634"
      },
      "execution_count": 57,
      "outputs": [
        {
          "output_type": "stream",
          "name": "stdout",
          "text": [
            "[4, 3, 2, 1]\n"
          ]
        }
      ]
    },
    {
      "cell_type": "code",
      "source": [
        "list.reverse()  # reversing list\n",
        "print(list)"
      ],
      "metadata": {
        "colab": {
          "base_uri": "https://localhost:8080/"
        },
        "id": "g4cGDLlTsx-L",
        "outputId": "b280cb73-c0a1-46a8-c267-adec51d4b5a5"
      },
      "execution_count": 58,
      "outputs": [
        {
          "output_type": "stream",
          "name": "stdout",
          "text": [
            "[1, 2, 3, 4]\n"
          ]
        }
      ]
    },
    {
      "cell_type": "code",
      "source": [
        "list.insert(1,1.5) # insert element at specific index\n",
        "print(list)"
      ],
      "metadata": {
        "colab": {
          "base_uri": "https://localhost:8080/"
        },
        "id": "e9B704H5s0_k",
        "outputId": "20c52273-0f21-428d-c61c-23b0d8b8255d"
      },
      "execution_count": 59,
      "outputs": [
        {
          "output_type": "stream",
          "name": "stdout",
          "text": [
            "[1, 1.5, 2, 3, 4]\n"
          ]
        }
      ]
    },
    {
      "cell_type": "markdown",
      "source": [
        "* list[2,1,3,1]\n",
        "* `list.remove(1)` remove first occurance of element [2,3,1]\n",
        "* `list.pop(index)` removes element at index"
      ],
      "metadata": {
        "id": "QRItxITztsx8"
      }
    },
    {
      "cell_type": "code",
      "source": [
        "list=[2,1,3,1]\n",
        "list.remove(1)\n",
        "print(list)"
      ],
      "metadata": {
        "colab": {
          "base_uri": "https://localhost:8080/"
        },
        "id": "9UWLK3r8tS8L",
        "outputId": "3fee6794-d24c-4fb6-facd-dd482077fb3a"
      },
      "execution_count": 60,
      "outputs": [
        {
          "output_type": "stream",
          "name": "stdout",
          "text": [
            "[2, 3, 1]\n"
          ]
        }
      ]
    },
    {
      "cell_type": "code",
      "source": [
        "list.pop(1)\n",
        "print(list)"
      ],
      "metadata": {
        "colab": {
          "base_uri": "https://localhost:8080/"
        },
        "id": "N9yJggBPuCCu",
        "outputId": "06642b87-6b5b-4792-a4b3-ebbec0a6ea6f"
      },
      "execution_count": 61,
      "outputs": [
        {
          "output_type": "stream",
          "name": "stdout",
          "text": [
            "[2, 1]\n"
          ]
        }
      ]
    },
    {
      "cell_type": "code",
      "source": [],
      "metadata": {
        "id": "dVt3GKWjuMjW"
      },
      "execution_count": 61,
      "outputs": []
    },
    {
      "cell_type": "markdown",
      "source": [
        "# Tuples"
      ],
      "metadata": {
        "id": "vQ84QJJ1ufT-"
      }
    },
    {
      "cell_type": "markdown",
      "source": [
        "* it is quite similar to list but it is immutable, just like strings\n",
        "* while creation tuple we use `parenthesis()` instead of `square braces[]`"
      ],
      "metadata": {
        "id": "tjLVdJW-ujlc"
      }
    },
    {
      "cell_type": "code",
      "source": [
        "tup=(2,1,3,1)\n",
        "print(tup)\n",
        "print(type(tup))\n",
        "\n",
        "print(tup[1])"
      ],
      "metadata": {
        "colab": {
          "base_uri": "https://localhost:8080/"
        },
        "id": "EyGQHOAvug7u",
        "outputId": "ef10dbf0-e203-4f5c-b957-f0fc0d052e29"
      },
      "execution_count": 62,
      "outputs": [
        {
          "output_type": "stream",
          "name": "stdout",
          "text": [
            "(2, 1, 3, 1)\n",
            "<class 'tuple'>\n",
            "1\n"
          ]
        }
      ]
    },
    {
      "cell_type": "code",
      "source": [
        "# creating empty typle\n",
        "tupl=()\n",
        "print(type(tupl))\n",
        "print(tupl)"
      ],
      "metadata": {
        "colab": {
          "base_uri": "https://localhost:8080/"
        },
        "id": "UzMYKTU5vLcR",
        "outputId": "9f37b3de-f2f2-41e4-f9b3-5852d3c62867"
      },
      "execution_count": 63,
      "outputs": [
        {
          "output_type": "stream",
          "name": "stdout",
          "text": [
            "<class 'tuple'>\n",
            "()\n"
          ]
        }
      ]
    },
    {
      "cell_type": "markdown",
      "source": [
        "* While creating tuple of one element, it should be end by `comma ,`\n",
        "* if we didn;t add `comma ,` then considered as simple datatype like int float or string etc\n",
        "* tuple for more than 1 element then its optional end with `comma ,`"
      ],
      "metadata": {
        "id": "_EjTPZ-Gvvci"
      }
    },
    {
      "cell_type": "code",
      "source": [
        "tupl=(1)\n",
        "print(type(tupl))\n",
        "print(tupl)"
      ],
      "metadata": {
        "colab": {
          "base_uri": "https://localhost:8080/"
        },
        "id": "3HVujlBkvqqL",
        "outputId": "3db177a2-a080-426c-8dea-e1eb79962a5c"
      },
      "execution_count": 64,
      "outputs": [
        {
          "output_type": "stream",
          "name": "stdout",
          "text": [
            "<class 'int'>\n",
            "1\n"
          ]
        }
      ]
    },
    {
      "cell_type": "code",
      "source": [
        "tupl=(1,)\n",
        "print(type(tupl))\n",
        "print(tupl)"
      ],
      "metadata": {
        "colab": {
          "base_uri": "https://localhost:8080/"
        },
        "id": "AcR2revLwbjr",
        "outputId": "43cd0382-9b7c-4122-cba2-f85b75172d28"
      },
      "execution_count": 65,
      "outputs": [
        {
          "output_type": "stream",
          "name": "stdout",
          "text": [
            "<class 'tuple'>\n",
            "(1,)\n"
          ]
        }
      ]
    },
    {
      "cell_type": "code",
      "source": [
        "tup1=(1,2,3,4)\n",
        "tup2=(1,3,2,4,)\n",
        "print(type(tup1),type(tup2))"
      ],
      "metadata": {
        "colab": {
          "base_uri": "https://localhost:8080/"
        },
        "id": "C0rVOSDvwe1O",
        "outputId": "075c460d-dd25-40ee-f168-5ad3e0e7d27e"
      },
      "execution_count": 66,
      "outputs": [
        {
          "output_type": "stream",
          "name": "stdout",
          "text": [
            "<class 'tuple'> <class 'tuple'>\n"
          ]
        }
      ]
    },
    {
      "cell_type": "markdown",
      "source": [
        "* Tuple also supports `slicing` like list and string"
      ],
      "metadata": {
        "id": "SU2NUYFlyPYv"
      }
    },
    {
      "cell_type": "code",
      "source": [
        "print(tup2[1:3])"
      ],
      "metadata": {
        "colab": {
          "base_uri": "https://localhost:8080/"
        },
        "id": "BfTbRN14w-Wh",
        "outputId": "780381ee-11ae-4d86-cb9f-2b99f4d99b68"
      },
      "execution_count": 67,
      "outputs": [
        {
          "output_type": "stream",
          "name": "stdout",
          "text": [
            "(3, 2)\n"
          ]
        }
      ]
    },
    {
      "cell_type": "markdown",
      "source": [
        "### Tuples methods"
      ],
      "metadata": {
        "id": "va9Dl-kVyjbH"
      }
    },
    {
      "cell_type": "markdown",
      "source": [
        "* tup = (2,1,3,1)\n",
        "* `tup.index(element)` returns index of first occurance of element\n",
        "  - `tup.index(1)` 1\n",
        "* `tup.count(element)` counts total occurance of element\n",
        "  - `tup.count(1)` 2"
      ],
      "metadata": {
        "id": "DF4LSgazymxu"
      }
    },
    {
      "cell_type": "code",
      "source": [
        "tup=(1,2,3,4,1,1)\n",
        "print(tup.index(2))\n",
        "print(tup.count(1))"
      ],
      "metadata": {
        "colab": {
          "base_uri": "https://localhost:8080/"
        },
        "id": "c590Zy2QybL5",
        "outputId": "5b09ed37-feda-4b90-95da-db898d52378a"
      },
      "execution_count": 68,
      "outputs": [
        {
          "output_type": "stream",
          "name": "stdout",
          "text": [
            "1\n",
            "3\n"
          ]
        }
      ]
    },
    {
      "cell_type": "markdown",
      "source": [
        "### practice\n"
      ],
      "metadata": {
        "id": "BHc1S0E2zsSE"
      }
    },
    {
      "cell_type": "markdown",
      "source": [
        "* WAP to ask user to enter names of their 3 favorite cricters and store them in list"
      ],
      "metadata": {
        "id": "yd2-QL1Hzupi"
      }
    },
    {
      "cell_type": "code",
      "source": [
        "list=[]\n",
        "for i in range(3):\n",
        "    name=input(\"Enter name of your favorite crickter :\")\n",
        "    list.append(name)\n",
        "print(list)"
      ],
      "metadata": {
        "colab": {
          "base_uri": "https://localhost:8080/"
        },
        "id": "aJVPTb9RzZV6",
        "outputId": "84983ef5-33b1-4ae0-e4b0-cb1118f2b4c1"
      },
      "execution_count": 69,
      "outputs": [
        {
          "output_type": "stream",
          "name": "stdout",
          "text": [
            "Enter name of your favorite crickter :Dale Steyn\n",
            "Enter name of your favorite crickter :Virat Kohli\n",
            "Enter name of your favorite crickter :Lasith Malinga\n",
            "['Dale Steyn', 'Virat Kohli', 'Lasith Malinga']\n"
          ]
        }
      ]
    },
    {
      "cell_type": "markdown",
      "source": [
        "* WAP to check if a list contains a palindrome of elements"
      ],
      "metadata": {
        "id": "EC2GfP901HAd"
      }
    },
    {
      "cell_type": "code",
      "source": [
        "list=[1,2,3,4]\n",
        "list1=list.copy()  # we used copy function\n",
        "list1.reverse()\n",
        "if(list==list1):\n",
        "    print(\"palindrome yes\")\n",
        "else:\n",
        "    print(\"palindrome no\")"
      ],
      "metadata": {
        "colab": {
          "base_uri": "https://localhost:8080/"
        },
        "id": "sQwxrZFN0rNU",
        "outputId": "6f9b48dc-d29b-4785-c55d-0c7e3fc33ef3"
      },
      "execution_count": 70,
      "outputs": [
        {
          "output_type": "stream",
          "name": "stdout",
          "text": [
            "palindrome no\n"
          ]
        }
      ]
    },
    {
      "cell_type": "code",
      "source": [
        "help(list.copy)"
      ],
      "metadata": {
        "colab": {
          "base_uri": "https://localhost:8080/"
        },
        "id": "5vEAHyXM19SM",
        "outputId": "227cdd86-3277-4474-ab40-b53fd6304a2d"
      },
      "execution_count": 71,
      "outputs": [
        {
          "output_type": "stream",
          "name": "stdout",
          "text": [
            "Help on built-in function copy:\n",
            "\n",
            "copy() method of builtins.list instance\n",
            "    Return a shallow copy of the list.\n",
            "\n"
          ]
        }
      ]
    },
    {
      "cell_type": "markdown",
      "source": [
        "* WAP to count the number of students with the \"A\" grade in the tuple"
      ],
      "metadata": {
        "id": "f0qjq5L_2wAd"
      }
    },
    {
      "cell_type": "code",
      "source": [
        "tup=(\"C\",\"D\",\"A\",\"A\",\"B\",\"B\",\"A\")\n",
        "cnt=tup.count(\"A\")\n",
        "print(cnt)"
      ],
      "metadata": {
        "colab": {
          "base_uri": "https://localhost:8080/"
        },
        "id": "nvioJmP_2Rx9",
        "outputId": "f4293e26-96bf-4c96-936c-8f3f37c4e049"
      },
      "execution_count": 72,
      "outputs": [
        {
          "output_type": "stream",
          "name": "stdout",
          "text": [
            "3\n"
          ]
        }
      ]
    },
    {
      "cell_type": "markdown",
      "source": [
        "  - Store the above values in a list and sort them from A to D"
      ],
      "metadata": {
        "id": "98PNCHYd3Hyr"
      }
    },
    {
      "cell_type": "code",
      "source": [
        "list1=[\"C\",\"D\",\"A\",\"A\",\"B\",\"B\",\"A\"]\n",
        "list1.sort()\n",
        "print(list1)"
      ],
      "metadata": {
        "colab": {
          "base_uri": "https://localhost:8080/"
        },
        "id": "4qkOagMH3Gcm",
        "outputId": "20ce5f54-2237-4af2-e2e6-4f13f9eccd6e"
      },
      "execution_count": 73,
      "outputs": [
        {
          "output_type": "stream",
          "name": "stdout",
          "text": [
            "['A', 'A', 'A', 'B', 'B', 'C', 'D']\n"
          ]
        }
      ]
    },
    {
      "cell_type": "markdown",
      "source": [
        "# Dictionary"
      ],
      "metadata": {
        "id": "kbYheXZ530yG"
      }
    },
    {
      "cell_type": "markdown",
      "source": [
        "* Used to store data in `key:value` pairs\n",
        "* they are `unordered`, `mutable` and `don't allow duplicate keys`\n",
        "* it cantain different datatypes as `values`\n",
        "* in `key`, we can't use `list and dictionary` as they are mutable in nature."
      ],
      "metadata": {
        "id": "PFYgoTnoBmEZ"
      }
    },
    {
      "cell_type": "code",
      "source": [
        "dict = {\n",
        "    \"name\" : \"ujjwal\",\n",
        "    \"cgpa\" : 8.1,\n",
        "    \"subject\": [\"LO\", \"ADSA\",\"DL\",\"FOML\",\"Intoduction to japanese\"],\n",
        "    \"Course\" : \"PhD\"\n",
        "}"
      ],
      "metadata": {
        "id": "wBhY7f5Y3SlZ"
      },
      "execution_count": 74,
      "outputs": []
    },
    {
      "cell_type": "code",
      "source": [
        "print(dict)\n",
        "print(type(dict))"
      ],
      "metadata": {
        "colab": {
          "base_uri": "https://localhost:8080/"
        },
        "id": "oHoMq-vrCkpY",
        "outputId": "17108e62-6649-4e54-85f3-381dbfb18a6c"
      },
      "execution_count": 75,
      "outputs": [
        {
          "output_type": "stream",
          "name": "stdout",
          "text": [
            "{'name': 'ujjwal', 'cgpa': 8.1, 'subject': ['LO', 'ADSA', 'DL', 'FOML', 'Intoduction to japanese'], 'Course': 'PhD'}\n",
            "<class 'dict'>\n"
          ]
        }
      ]
    },
    {
      "cell_type": "markdown",
      "source": [
        "* `dict[\"key\"] = \"value\"` to assign new key value"
      ],
      "metadata": {
        "id": "OT_IeJegCtec"
      }
    },
    {
      "cell_type": "code",
      "source": [
        "dict[\"dob\"]=\"22-04-2002\"\n",
        "print(dict)"
      ],
      "metadata": {
        "colab": {
          "base_uri": "https://localhost:8080/"
        },
        "id": "z1o5u8nmCmMM",
        "outputId": "0fa66172-f705-4f76-b058-5cea12192e11"
      },
      "execution_count": 76,
      "outputs": [
        {
          "output_type": "stream",
          "name": "stdout",
          "text": [
            "{'name': 'ujjwal', 'cgpa': 8.1, 'subject': ['LO', 'ADSA', 'DL', 'FOML', 'Intoduction to japanese'], 'Course': 'PhD', 'dob': '22-04-2002'}\n"
          ]
        }
      ]
    },
    {
      "cell_type": "markdown",
      "source": [
        "* To access elements, we use keys  instead of index as they are unoredered\n",
        "* `dict[\"key\"]`\n",
        "* we can also create empty dictionary"
      ],
      "metadata": {
        "id": "iOinYds5D9hS"
      }
    },
    {
      "cell_type": "code",
      "source": [
        "print(dict[\"dob\"])"
      ],
      "metadata": {
        "colab": {
          "base_uri": "https://localhost:8080/"
        },
        "id": "379_LsJDD3Ey",
        "outputId": "8a902cec-35e2-4679-b660-712824d1cd0a"
      },
      "execution_count": 77,
      "outputs": [
        {
          "output_type": "stream",
          "name": "stdout",
          "text": [
            "22-04-2002\n"
          ]
        }
      ]
    },
    {
      "cell_type": "code",
      "source": [
        "# creating empty dictionary and then adding elements\n",
        "dict1={}\n",
        "dict1[\"name\"]=\"ujjwal\"\n",
        "dict1[\"cgpa\"]=8.1\n",
        "print(dict1)"
      ],
      "metadata": {
        "colab": {
          "base_uri": "https://localhost:8080/"
        },
        "id": "RQaT83I8Ef3M",
        "outputId": "03ba1c43-75a1-4c26-94eb-da74e68a773d"
      },
      "execution_count": 78,
      "outputs": [
        {
          "output_type": "stream",
          "name": "stdout",
          "text": [
            "{'name': 'ujjwal', 'cgpa': 8.1}\n"
          ]
        }
      ]
    },
    {
      "cell_type": "markdown",
      "source": [
        "### Nested dictionary"
      ],
      "metadata": {
        "id": "HhSbQn9AEsr5"
      }
    },
    {
      "cell_type": "markdown",
      "source": [
        "* we will make value as a internal dictionay, thus it works as nested dictionary"
      ],
      "metadata": {
        "id": "tpSC_VnSD3W7"
      }
    },
    {
      "cell_type": "code",
      "source": [
        "student = {\n",
        "    \"name\" : \"Ujjwal singh\",\n",
        "    \"subjects\" : {\n",
        "        \"LO\" : 74,\n",
        "        \"ADSA\" : 69,\n",
        "        \"DL\" : 73,\n",
        "        \"FOML\":86\n",
        "    },\n",
        "    \"cgpa\" : 8.1\n",
        "}"
      ],
      "metadata": {
        "id": "Fwvs5mEoEqwn"
      },
      "execution_count": 79,
      "outputs": []
    },
    {
      "cell_type": "markdown",
      "source": [
        "* Accesing elements"
      ],
      "metadata": {
        "id": "C-zMLzCNFTEc"
      }
    },
    {
      "cell_type": "code",
      "source": [
        "print(student)\n",
        "print(student[\"subjects\"])\n",
        "print(student[\"subjects\"][\"FOML\"])"
      ],
      "metadata": {
        "colab": {
          "base_uri": "https://localhost:8080/"
        },
        "id": "J3xNGipCE3_s",
        "outputId": "a02f9295-0457-4d76-f6a9-ae520958027a"
      },
      "execution_count": 80,
      "outputs": [
        {
          "output_type": "stream",
          "name": "stdout",
          "text": [
            "{'name': 'Ujjwal singh', 'subjects': {'LO': 74, 'ADSA': 69, 'DL': 73, 'FOML': 86}, 'cgpa': 8.1}\n",
            "{'LO': 74, 'ADSA': 69, 'DL': 73, 'FOML': 86}\n",
            "86\n"
          ]
        }
      ]
    },
    {
      "cell_type": "markdown",
      "source": [
        "### Dictionary methods"
      ],
      "metadata": {
        "id": "8XUWqS3RFWn3"
      }
    },
    {
      "cell_type": "markdown",
      "source": [
        "* `myDict.keys()` return all keys\n",
        "* `myDict.values()` returns all values\n",
        "* `myDict.items()` returns all `(key,val)` pairs as tuples\n",
        "* `myDict.get(\"key\")` returns the key according to value\n",
        "* `myDict.update(newDict)` insert the specified items to the dictionary"
      ],
      "metadata": {
        "id": "H73oNdJPFZ-o"
      }
    },
    {
      "cell_type": "code",
      "source": [
        "# printing all keys\n",
        "print(student.keys())\n",
        "print(type(student))"
      ],
      "metadata": {
        "id": "TxwW6-MQFJmz",
        "colab": {
          "base_uri": "https://localhost:8080/"
        },
        "outputId": "8d6999ee-acc8-450b-e485-8bb3705ca64d"
      },
      "execution_count": 81,
      "outputs": [
        {
          "output_type": "stream",
          "name": "stdout",
          "text": [
            "dict_keys(['name', 'subjects', 'cgpa'])\n",
            "<class 'dict'>\n"
          ]
        }
      ]
    },
    {
      "cell_type": "code",
      "source": [
        "# total number of keys\n",
        "print(len(student.keys()))"
      ],
      "metadata": {
        "colab": {
          "base_uri": "https://localhost:8080/"
        },
        "id": "hcHaX2gR2jXe",
        "outputId": "2111c003-c774-4a6f-9b04-094a0ce48481"
      },
      "execution_count": 85,
      "outputs": [
        {
          "output_type": "stream",
          "name": "stdout",
          "text": [
            "3\n"
          ]
        }
      ]
    },
    {
      "cell_type": "code",
      "source": [
        "# printing all values\n",
        "print(student.values())"
      ],
      "metadata": {
        "colab": {
          "base_uri": "https://localhost:8080/"
        },
        "id": "AXkVIrBk2s7X",
        "outputId": "da26253c-7c09-45b8-b3bc-64a6192177fc"
      },
      "execution_count": 86,
      "outputs": [
        {
          "output_type": "stream",
          "name": "stdout",
          "text": [
            "dict_values(['Ujjwal singh', {'LO': 74, 'ADSA': 69, 'DL': 73, 'FOML': 86}, 8.1])\n"
          ]
        }
      ]
    },
    {
      "cell_type": "code",
      "source": [
        "# print all keys and values as tuples\n",
        "print(student.items())\n",
        "\n",
        "# we can also typecast them in to list\n",
        "print(list(student.items()))\n",
        "\n",
        "# in list we can access its elements by indexing\n",
        "print(list(student.items())[0])\n"
      ],
      "metadata": {
        "id": "4kSDW8p73Fey"
      },
      "execution_count": null,
      "outputs": []
    },
    {
      "cell_type": "markdown",
      "source": [
        "* to access value we have two ways\n",
        "  - `myDict.get(\"key\")` return None if key is not valid and program will execute succesfully\n",
        "  - `myDict[\"key\"]` return error if key is not valid"
      ],
      "metadata": {
        "id": "PIKFxMYg4TDy"
      }
    },
    {
      "cell_type": "code",
      "source": [
        "print(student[\"name\"])\n",
        "print(student.get(\"name\"))"
      ],
      "metadata": {
        "colab": {
          "base_uri": "https://localhost:8080/"
        },
        "id": "_6JmNP2a3RQ_",
        "outputId": "c2da50b8-bd6c-47cd-c5eb-0ad3825be340"
      },
      "execution_count": 92,
      "outputs": [
        {
          "output_type": "stream",
          "name": "stdout",
          "text": [
            "Ujjwal Singh\n",
            "Ujjwal Singh\n"
          ]
        }
      ]
    },
    {
      "cell_type": "code",
      "source": [
        "# invalid key\n",
        "print(student.get(\"birthplace\"))"
      ],
      "metadata": {
        "colab": {
          "base_uri": "https://localhost:8080/"
        },
        "id": "4NN6ps5i4w5N",
        "outputId": "976389ea-e909-4594-dfaf-5d1a6050339c"
      },
      "execution_count": 93,
      "outputs": [
        {
          "output_type": "stream",
          "name": "stdout",
          "text": [
            "None\n"
          ]
        }
      ]
    },
    {
      "cell_type": "markdown",
      "source": [
        "* `myDict.update(newDict)` insert the specified items to the dictionary using `{}`braces"
      ],
      "metadata": {
        "id": "Qkn7zl595JPx"
      }
    },
    {
      "cell_type": "code",
      "source": [
        "student.update({\"birthplace\":\"Sitamarhi\", \"actor\":\"mahesh babu\"})\n",
        "print(student)"
      ],
      "metadata": {
        "colab": {
          "base_uri": "https://localhost:8080/"
        },
        "id": "AYb4uKLd4-9S",
        "outputId": "645836f2-9109-4e8a-8f3b-d7666fae7a09"
      },
      "execution_count": 94,
      "outputs": [
        {
          "output_type": "stream",
          "name": "stdout",
          "text": [
            "{'name': 'Ujjwal Singh', 'subjects': {'LO': 74, 'ADSA': 69, 'DL': 73, 'FOML': 86}, 'cgpa': 8.1, 'birthplace': 'Sitamarhi', 'actor': 'mahesh babu'}\n"
          ]
        }
      ]
    },
    {
      "cell_type": "markdown",
      "source": [
        "* since in dictionary we have unique keys so, if we add existing key, it will update its value instead of adding new key value pair"
      ],
      "metadata": {
        "id": "G5j13IzO5n5P"
      }
    },
    {
      "cell_type": "code",
      "source": [
        "student.update({\"name\":\"ujjwal kumar singh\"})\n",
        "print(student)"
      ],
      "metadata": {
        "colab": {
          "base_uri": "https://localhost:8080/"
        },
        "id": "Pavcef-c5glI",
        "outputId": "7312bd31-a38c-4106-e2b6-ddc3b9d9034f"
      },
      "execution_count": 95,
      "outputs": [
        {
          "output_type": "stream",
          "name": "stdout",
          "text": [
            "{'name': 'ujjwal kumar singh', 'subjects': {'LO': 74, 'ADSA': 69, 'DL': 73, 'FOML': 86}, 'cgpa': 8.1, 'birthplace': 'Sitamarhi', 'actor': 'mahesh babu'}\n"
          ]
        }
      ]
    },
    {
      "cell_type": "code",
      "source": [],
      "metadata": {
        "id": "LesNiLu655FA"
      },
      "execution_count": 95,
      "outputs": []
    },
    {
      "cell_type": "markdown",
      "source": [
        "# Set"
      ],
      "metadata": {
        "id": "oObcWgkx595U"
      }
    },
    {
      "cell_type": "markdown",
      "source": [
        "* set is the collection of `unoredered` items\n",
        "* each element in the set must be `unique` and `immutable`\n",
        "* we can't store `list and dictionary` in set because they are mutable in nature\n",
        "* we initialize it like dictionary as `curly braces {}`\n",
        "\n"
      ],
      "metadata": {
        "id": "3nj-GkVV6Da4"
      }
    },
    {
      "cell_type": "code",
      "source": [
        "collection = {1,2,3,4,\"hello\", \"world\"}\n",
        "print(collection)\n",
        "print(type(collection))"
      ],
      "metadata": {
        "colab": {
          "base_uri": "https://localhost:8080/"
        },
        "id": "j5IRBvSz5_mr",
        "outputId": "882f8d4f-43fb-474f-9473-0064b0430b5c"
      },
      "execution_count": 96,
      "outputs": [
        {
          "output_type": "stream",
          "name": "stdout",
          "text": [
            "{1, 2, 3, 4, 'world', 'hello'}\n",
            "<class 'set'>\n"
          ]
        }
      ]
    },
    {
      "cell_type": "markdown",
      "source": [
        "* if we add duplicate items , then it will ignore it and don't give any error"
      ],
      "metadata": {
        "id": "_hylEJ98DRkB"
      }
    },
    {
      "cell_type": "markdown",
      "source": [
        "* empty set"
      ],
      "metadata": {
        "id": "3qiCR8KLDnAz"
      }
    },
    {
      "cell_type": "code",
      "source": [
        "# for set\n",
        "collection = set()\n",
        "print(type(collection))\n",
        "\n",
        "# for dictionary\n",
        "collection = {}\n",
        "print(type(collection))"
      ],
      "metadata": {
        "colab": {
          "base_uri": "https://localhost:8080/"
        },
        "id": "DVn3DRuZDMQM",
        "outputId": "22c89e59-a1a7-41dd-981e-57534008d048"
      },
      "execution_count": 97,
      "outputs": [
        {
          "output_type": "stream",
          "name": "stdout",
          "text": [
            "<class 'set'>\n",
            "<class 'dict'>\n"
          ]
        }
      ]
    },
    {
      "cell_type": "markdown",
      "source": [
        "* `Note` : `sets are mutable but its elements are immutable`"
      ],
      "metadata": {
        "id": "sU35hLv7GM2r"
      }
    },
    {
      "cell_type": "markdown",
      "source": [
        "### set methods"
      ],
      "metadata": {
        "id": "_wrz0aWsD_SR"
      }
    },
    {
      "cell_type": "markdown",
      "source": [
        "* `set.add(el)` adds an element : can pass tuple but `not list and dictionary`\n",
        "* `set.remove(el)` removes the element\n",
        "* `set.clear()` empties the set\n",
        "* `set.pop()` removes a random value"
      ],
      "metadata": {
        "id": "1kZAQ2v6HpRq"
      }
    },
    {
      "cell_type": "code",
      "source": [
        "set1 = set()  # creating empty set\n",
        "set1.add(1)   # adding value 1\n",
        "set1.add(2)   # adding value 2\n",
        "set1.add(3)   # adding value 3\n",
        "set1.add(2)   # adding duplicate value 2, it will be ignored\n",
        "set1.add(5)   # adding value 5\n",
        "print(set1)"
      ],
      "metadata": {
        "colab": {
          "base_uri": "https://localhost:8080/"
        },
        "id": "IXaLd6sKD1G3",
        "outputId": "5dd4afd8-5cdf-4f2f-9141-ba6ec6551a1f"
      },
      "execution_count": 98,
      "outputs": [
        {
          "output_type": "stream",
          "name": "stdout",
          "text": [
            "{1, 2, 3, 5}\n"
          ]
        }
      ]
    },
    {
      "cell_type": "code",
      "source": [
        "set1.remove(5)    # remove elemnent 5\n",
        "print(set1)"
      ],
      "metadata": {
        "colab": {
          "base_uri": "https://localhost:8080/"
        },
        "id": "ffSn7TILI50c",
        "outputId": "bbdf3205-d339-4fc4-e361-9ab4b38a701e"
      },
      "execution_count": 99,
      "outputs": [
        {
          "output_type": "stream",
          "name": "stdout",
          "text": [
            "{1, 2, 3}\n"
          ]
        }
      ]
    },
    {
      "cell_type": "markdown",
      "source": [
        "* if we remove unvalid(non-existing) value, then it will throw error\n",
        "* `immutable value` also known as `hashable value`"
      ],
      "metadata": {
        "id": "LpkiYQuaJSw9"
      }
    },
    {
      "cell_type": "code",
      "source": [
        "# adding tuple to a set\n",
        "set1.add((7,8,9))\n",
        "print(set1)"
      ],
      "metadata": {
        "colab": {
          "base_uri": "https://localhost:8080/"
        },
        "id": "xS5SnvdXJHQ6",
        "outputId": "3a7a5456-9312-4976-d80c-108781b37e54"
      },
      "execution_count": 100,
      "outputs": [
        {
          "output_type": "stream",
          "name": "stdout",
          "text": [
            "{1, 2, 3, (7, 8, 9)}\n"
          ]
        }
      ]
    },
    {
      "cell_type": "code",
      "source": [
        "# calculate the length of set\n",
        "print(len(set1))"
      ],
      "metadata": {
        "colab": {
          "base_uri": "https://localhost:8080/"
        },
        "id": "a_wjx5KzQAaI",
        "outputId": "7be47568-acdd-4144-a5c5-fdb9704498fd"
      },
      "execution_count": 101,
      "outputs": [
        {
          "output_type": "stream",
          "name": "stdout",
          "text": [
            "4\n"
          ]
        }
      ]
    },
    {
      "cell_type": "code",
      "source": [
        "# emting the set\n",
        "set1.clear()\n",
        "print(set1)\n",
        "print(len(set1))"
      ],
      "metadata": {
        "colab": {
          "base_uri": "https://localhost:8080/"
        },
        "id": "scYxWh21Qo7o",
        "outputId": "66324821-c639-4404-c919-e8f1e8374fa3"
      },
      "execution_count": 102,
      "outputs": [
        {
          "output_type": "stream",
          "name": "stdout",
          "text": [
            "set()\n",
            "0\n"
          ]
        }
      ]
    },
    {
      "cell_type": "code",
      "source": [
        "# poping random values\n",
        "set1 = {\"ujjwal\",6,1,2,3,4,5}\n",
        "x=set1.pop()\n",
        "print(x)\n",
        "print(set1)"
      ],
      "metadata": {
        "colab": {
          "base_uri": "https://localhost:8080/"
        },
        "id": "NDBfq4AXQsft",
        "outputId": "16891cd8-9700-4593-f0a1-a9c4f07c8112"
      },
      "execution_count": 103,
      "outputs": [
        {
          "output_type": "stream",
          "name": "stdout",
          "text": [
            "1\n",
            "{2, 3, 4, 5, 6, 'ujjwal'}\n"
          ]
        }
      ]
    },
    {
      "cell_type": "markdown",
      "source": [
        "* `set.union(set2)` combines both set and return `new values`\n",
        "* `set.intersection(set2)` combines common values and returns `new`"
      ],
      "metadata": {
        "id": "vjQX_ji8RUf9"
      }
    },
    {
      "cell_type": "code",
      "source": [
        "set1={1,2,3,4,5,6}\n",
        "set2={4,5,6,7,8,9}\n",
        "print(set1.union(set2))\n",
        "print(set1.intersection(set2))\n",
        "\n",
        "# printing existing set\n",
        "print(set1)\n",
        "print(set2)"
      ],
      "metadata": {
        "colab": {
          "base_uri": "https://localhost:8080/"
        },
        "id": "RhoTDDUjQ_Dv",
        "outputId": "a8458573-807e-4735-b57b-180dd44aec1f"
      },
      "execution_count": 104,
      "outputs": [
        {
          "output_type": "stream",
          "name": "stdout",
          "text": [
            "{1, 2, 3, 4, 5, 6, 7, 8, 9}\n",
            "{4, 5, 6}\n",
            "{1, 2, 3, 4, 5, 6}\n",
            "{4, 5, 6, 7, 8, 9}\n"
          ]
        }
      ]
    },
    {
      "cell_type": "markdown",
      "source": [
        "### practice problem"
      ],
      "metadata": {
        "id": "YRDCC-TQSYla"
      }
    },
    {
      "cell_type": "markdown",
      "source": [
        "*q1. store word meaning in a dictionary\n",
        "  - table - a piece of furniture , list of facts and figures\n",
        "  - cat- a small animal"
      ],
      "metadata": {
        "id": "kf3lHY_XTDAy"
      }
    },
    {
      "cell_type": "code",
      "source": [
        "dict={\n",
        "    \"table\":[\"a piece of furniture\" , \"list of facts and figures\"],\n",
        "    \"cat\":\"a small animal\"\n",
        "}\n",
        "print(dict)"
      ],
      "metadata": {
        "colab": {
          "base_uri": "https://localhost:8080/"
        },
        "id": "trN7G69tRvbq",
        "outputId": "ab857f63-bb64-439a-c5b6-12258d323d36"
      },
      "execution_count": 105,
      "outputs": [
        {
          "output_type": "stream",
          "name": "stdout",
          "text": [
            "{'table': ['a piece of furniture', 'list of facts and figures'], 'cat': 'a small animal'}\n"
          ]
        }
      ]
    },
    {
      "cell_type": "markdown",
      "source": [
        "* q2. you are given a list of subjects for studnets. Assume one classroom is required for 1 subject. how mmany classrooms are needed by all students.\n",
        "\"python\",\"java\",\"C++\",\"python\",\"javascript\",\"java\",\"python\",\"java\",\"C++\",\"C\""
      ],
      "metadata": {
        "id": "fvwxZzeAT5vr"
      }
    },
    {
      "cell_type": "code",
      "source": [
        "# we will create a set and add all subjects then count the length of subjects\n",
        "subject = {\"python\",\"java\",\"C++\",\"python\",\"javascript\",\"java\",\"python\",\"java\",\"C++\",\"C\"}\n",
        "print(subject)\n",
        "print(len(subject))"
      ],
      "metadata": {
        "colab": {
          "base_uri": "https://localhost:8080/"
        },
        "id": "QP2iBcp7TnMK",
        "outputId": "6d0569d7-2cd4-44be-b459-cefb04b15a29"
      },
      "execution_count": 106,
      "outputs": [
        {
          "output_type": "stream",
          "name": "stdout",
          "text": [
            "{'java', 'C++', 'javascript', 'C', 'python'}\n",
            "5\n"
          ]
        }
      ]
    },
    {
      "cell_type": "markdown",
      "source": [
        "* q3. WAP to enter marks of 3 subjects from the user and store them in a dictionary. Start with an empty dictionary and add one by one. Use subject name as key and marks as value"
      ],
      "metadata": {
        "id": "fy4b7sqRVJ5N"
      }
    },
    {
      "cell_type": "code",
      "source": [
        "dict={}\n",
        "sub1=input(\"Eneter name of first subject : \")\n",
        "marks1=(input(\"Enter marks of first subject :\"))\n",
        "sub2=input(\"Eneter name of second subject : \")\n",
        "marks2=(input(\"Enter marks of first subject :\"))\n",
        "sub3=input(\"Eneter name of third subject : \")\n",
        "marks3=(input(\"Enter marks of first subject :\"))\n",
        "dict[sub1]=marks1\n",
        "dict[sub2]=marks2\n",
        "dict[sub3]=marks3\n",
        "print(dict)"
      ],
      "metadata": {
        "colab": {
          "base_uri": "https://localhost:8080/"
        },
        "id": "x0qXcFxNUpIC",
        "outputId": "e8da93a4-0405-4cbe-a29b-5f2f74e64df2"
      },
      "execution_count": 107,
      "outputs": [
        {
          "output_type": "stream",
          "name": "stdout",
          "text": [
            "Eneter name of first subject : foml\n",
            "Enter marks of first subject :39\n",
            "Eneter name of second subject : adsa\n",
            "Enter marks of first subject :78\n",
            "Eneter name of third subject : DL\n",
            "Enter marks of first subject :98\n",
            "{'foml': '39', 'adsa': '78', 'DL': '98'}\n"
          ]
        }
      ]
    },
    {
      "cell_type": "markdown",
      "source": [
        "* q4. Figure out a way to store 9 and 9.0 as seperate values in the set."
      ],
      "metadata": {
        "id": "8RS4Fs7EVagW"
      }
    },
    {
      "cell_type": "code",
      "source": [
        "set1 = set()\n",
        "set1.add(9)\n",
        "set1.add(9.0)\n",
        "print(set1)"
      ],
      "metadata": {
        "colab": {
          "base_uri": "https://localhost:8080/"
        },
        "id": "XXgF8hw7VlsY",
        "outputId": "f5837b61-4439-44d0-c17c-d817a815f19a"
      },
      "execution_count": 108,
      "outputs": [
        {
          "output_type": "stream",
          "name": "stdout",
          "text": [
            "{9}\n"
          ]
        }
      ]
    },
    {
      "cell_type": "code",
      "source": [
        "# method 1\n",
        "# store as a int and string\n",
        "set1 = set()\n",
        "set1.add(\"9\")\n",
        "set1.add(9)\n",
        "print(set1)"
      ],
      "metadata": {
        "colab": {
          "base_uri": "https://localhost:8080/"
        },
        "id": "S03nQDiQWpmI",
        "outputId": "409a8d85-911e-4230-b348-038dd5480869"
      },
      "execution_count": 109,
      "outputs": [
        {
          "output_type": "stream",
          "name": "stdout",
          "text": [
            "{9, '9'}\n"
          ]
        }
      ]
    },
    {
      "cell_type": "code",
      "source": [
        "# method 2\n",
        "# insert tuples in a set\n",
        "set1={\n",
        "    (\"int\", 9),\n",
        "    (\"string\", \"9.0\")\n",
        "}\n",
        "print(set1)"
      ],
      "metadata": {
        "colab": {
          "base_uri": "https://localhost:8080/"
        },
        "id": "jQNYe1FeXeyj",
        "outputId": "e950a48f-beb0-409c-c485-276819d7e800"
      },
      "execution_count": 110,
      "outputs": [
        {
          "output_type": "stream",
          "name": "stdout",
          "text": [
            "{('string', '9.0'), ('int', 9)}\n"
          ]
        }
      ]
    },
    {
      "cell_type": "markdown",
      "source": [
        "# Loops"
      ],
      "metadata": {
        "id": "2F2IrBVuXyhN"
      }
    },
    {
      "cell_type": "markdown",
      "source": [
        "* loops are used to repeat the instructions\n",
        "* we have two types of loops\n",
        "  - while loop\n",
        "  - for loop"
      ],
      "metadata": {
        "id": "mdx4LD1kX71S"
      }
    },
    {
      "cell_type": "markdown",
      "source": [
        "### `while condition:`"
      ],
      "metadata": {
        "id": "JNrlylbUfXlO"
      }
    },
    {
      "cell_type": "code",
      "source": [
        "# hello champ 5 times\n",
        "count=0\n",
        "while (count<5):\n",
        "    print(\"hello champ\")\n",
        "    count+=1"
      ],
      "metadata": {
        "colab": {
          "base_uri": "https://localhost:8080/"
        },
        "id": "viBlfmLJXnwO",
        "outputId": "bad41a7e-59a6-49e2-9472-f1d2a5effc26"
      },
      "execution_count": 111,
      "outputs": [
        {
          "output_type": "stream",
          "name": "stdout",
          "text": [
            "hello champ\n",
            "hello champ\n",
            "hello champ\n",
            "hello champ\n",
            "hello champ\n"
          ]
        }
      ]
    },
    {
      "cell_type": "code",
      "source": [
        "# print from 100 to 1\n",
        "i=100\n",
        "while(i>=1):\n",
        "    print(i)\n",
        "    i-=1"
      ],
      "metadata": {
        "colab": {
          "base_uri": "https://localhost:8080/"
        },
        "id": "KjFd1wzbgHjs",
        "outputId": "771040ef-0936-48d5-a70e-dbeff59b3557"
      },
      "execution_count": 112,
      "outputs": [
        {
          "output_type": "stream",
          "name": "stdout",
          "text": [
            "100\n",
            "99\n",
            "98\n",
            "97\n",
            "96\n",
            "95\n",
            "94\n",
            "93\n",
            "92\n",
            "91\n",
            "90\n",
            "89\n",
            "88\n",
            "87\n",
            "86\n",
            "85\n",
            "84\n",
            "83\n",
            "82\n",
            "81\n",
            "80\n",
            "79\n",
            "78\n",
            "77\n",
            "76\n",
            "75\n",
            "74\n",
            "73\n",
            "72\n",
            "71\n",
            "70\n",
            "69\n",
            "68\n",
            "67\n",
            "66\n",
            "65\n",
            "64\n",
            "63\n",
            "62\n",
            "61\n",
            "60\n",
            "59\n",
            "58\n",
            "57\n",
            "56\n",
            "55\n",
            "54\n",
            "53\n",
            "52\n",
            "51\n",
            "50\n",
            "49\n",
            "48\n",
            "47\n",
            "46\n",
            "45\n",
            "44\n",
            "43\n",
            "42\n",
            "41\n",
            "40\n",
            "39\n",
            "38\n",
            "37\n",
            "36\n",
            "35\n",
            "34\n",
            "33\n",
            "32\n",
            "31\n",
            "30\n",
            "29\n",
            "28\n",
            "27\n",
            "26\n",
            "25\n",
            "24\n",
            "23\n",
            "22\n",
            "21\n",
            "20\n",
            "19\n",
            "18\n",
            "17\n",
            "16\n",
            "15\n",
            "14\n",
            "13\n",
            "12\n",
            "11\n",
            "10\n",
            "9\n",
            "8\n",
            "7\n",
            "6\n",
            "5\n",
            "4\n",
            "3\n",
            "2\n",
            "1\n"
          ]
        }
      ]
    },
    {
      "cell_type": "code",
      "source": [
        "# print multiplication number for a number and number from user\n",
        "num=int(input(\"Enter a number : \"))\n",
        "i=1\n",
        "while(i<=10):\n",
        "    print(num*i)\n",
        "    i+=1"
      ],
      "metadata": {
        "colab": {
          "base_uri": "https://localhost:8080/"
        },
        "id": "CS3f2MJUhFXl",
        "outputId": "660c76fb-a0d4-482a-f69a-f07f9a879beb"
      },
      "execution_count": 113,
      "outputs": [
        {
          "output_type": "stream",
          "name": "stdout",
          "text": [
            "Enter a number : 4\n",
            "4\n",
            "8\n",
            "12\n",
            "16\n",
            "20\n",
            "24\n",
            "28\n",
            "32\n",
            "36\n",
            "40\n"
          ]
        }
      ]
    },
    {
      "cell_type": "code",
      "source": [
        "# linear search\n",
        "list=[1,4,9,16,25,36,49,64,81,100]\n",
        "num=int(input(\"Enter a number : \"))\n",
        "length=len(list)\n",
        "i=0;\n",
        "while(i<length):\n",
        "    if(list[i]==num):\n",
        "        print(\"found\")\n",
        "        break\n",
        "    i+=1\n",
        "if(i==length):\n",
        "    print(\"not found\")"
      ],
      "metadata": {
        "colab": {
          "base_uri": "https://localhost:8080/"
        },
        "id": "5k4fWbafhSmt",
        "outputId": "d038209b-3d57-4272-e754-cbb87677381f"
      },
      "execution_count": 114,
      "outputs": [
        {
          "output_type": "stream",
          "name": "stdout",
          "text": [
            "Enter a number : 3\n",
            "not found\n"
          ]
        }
      ]
    },
    {
      "cell_type": "markdown",
      "source": [
        "* `break` used to terminate the loop when encountered\n",
        "* `continue` terminates execution in the current iteration and will execute for upcoming next iterations"
      ],
      "metadata": {
        "id": "lQUQ8VQ7jF84"
      }
    },
    {
      "cell_type": "markdown",
      "source": [
        "### `for loop`"
      ],
      "metadata": {
        "id": "2pjmgCkjkCUM"
      }
    },
    {
      "cell_type": "markdown",
      "source": [
        "* basically used for sequential traversal. ex- list, string, tuples etc"
      ],
      "metadata": {
        "id": "r-aIFDCVkKXf"
      }
    },
    {
      "cell_type": "code",
      "source": [
        "# traversing a list\n",
        "list=[1,23,45,12,87]\n",
        "for i in list:\n",
        "    print(i)"
      ],
      "metadata": {
        "colab": {
          "base_uri": "https://localhost:8080/"
        },
        "id": "0EzPtK7UiCGj",
        "outputId": "5e057e2b-f45f-4021-e49e-b92a44bd4ff2"
      },
      "execution_count": 115,
      "outputs": [
        {
          "output_type": "stream",
          "name": "stdout",
          "text": [
            "1\n",
            "23\n",
            "45\n",
            "12\n",
            "87\n"
          ]
        }
      ]
    },
    {
      "cell_type": "code",
      "source": [
        "# traversing a tuple\n",
        "tuple=(1,23,45,12,87)\n",
        "for i in tuple:\n",
        "    print(i)"
      ],
      "metadata": {
        "colab": {
          "base_uri": "https://localhost:8080/"
        },
        "id": "1cThwS11ltqT",
        "outputId": "0076cc3c-59c7-43ff-d3be-72caac09cbcc"
      },
      "execution_count": 116,
      "outputs": [
        {
          "output_type": "stream",
          "name": "stdout",
          "text": [
            "1\n",
            "23\n",
            "45\n",
            "12\n",
            "87\n"
          ]
        }
      ]
    },
    {
      "cell_type": "code",
      "source": [
        "# trversing a string\n",
        "string = \"hii champ! how are you\"\n",
        "for char in string:\n",
        "    print(char)"
      ],
      "metadata": {
        "colab": {
          "base_uri": "https://localhost:8080/"
        },
        "id": "te3ubsKqmBGi",
        "outputId": "df9161e4-c6d4-4d3b-eb24-479635b10f9c"
      },
      "execution_count": 117,
      "outputs": [
        {
          "output_type": "stream",
          "name": "stdout",
          "text": [
            "h\n",
            "i\n",
            "i\n",
            " \n",
            "c\n",
            "h\n",
            "a\n",
            "m\n",
            "p\n",
            "!\n",
            " \n",
            "h\n",
            "o\n",
            "w\n",
            " \n",
            "a\n",
            "r\n",
            "e\n",
            " \n",
            "y\n",
            "o\n",
            "u\n"
          ]
        }
      ]
    },
    {
      "cell_type": "markdown",
      "source": [
        "* use of `else` : when we want to execute some instruction after completely execution of loop, then we use `else`"
      ],
      "metadata": {
        "id": "Q_aIeGNAm0LC"
      }
    },
    {
      "cell_type": "code",
      "source": [
        "list=[1,23,45,12,87]\n",
        "for i in list:\n",
        "    print(i)\n",
        "else:\n",
        "    print(\"loop completed\")"
      ],
      "metadata": {
        "colab": {
          "base_uri": "https://localhost:8080/"
        },
        "id": "x2iJeHrrmQsN",
        "outputId": "13646ba7-bba8-4aab-8c20-c17438f6e316"
      },
      "execution_count": 118,
      "outputs": [
        {
          "output_type": "stream",
          "name": "stdout",
          "text": [
            "1\n",
            "23\n",
            "45\n",
            "12\n",
            "87\n",
            "loop completed\n"
          ]
        }
      ]
    },
    {
      "cell_type": "code",
      "source": [
        "# here loop will not execute completely, so else condition will not execute\n",
        "list=[1,23,45,12,87]\n",
        "for i in list:\n",
        "    if(i==45):\n",
        "        break\n",
        "    print(i)\n",
        "else:\n",
        "    print(\"loop completed\")"
      ],
      "metadata": {
        "colab": {
          "base_uri": "https://localhost:8080/"
        },
        "id": "CVL2VdfenMIV",
        "outputId": "e2baa8bb-13db-4aff-a9e0-502ce829389a"
      },
      "execution_count": 119,
      "outputs": [
        {
          "output_type": "stream",
          "name": "stdout",
          "text": [
            "1\n",
            "23\n"
          ]
        }
      ]
    },
    {
      "cell_type": "markdown",
      "source": [
        "### range"
      ],
      "metadata": {
        "id": "ejYEd3c5TrMH"
      }
    },
    {
      "cell_type": "markdown",
      "source": [
        "* returns a sequence of number, starting from 0 (default) , and increment by 1 (default) and stops before a specified number\n",
        "* `range(start? , stop , step?)` argument of range where `?` is for optional argument."
      ],
      "metadata": {
        "id": "iKaS_NxmNzI3"
      }
    },
    {
      "cell_type": "code",
      "source": [
        "range1 = range(5)\n",
        "print(range1)\n",
        "print(type(range1))"
      ],
      "metadata": {
        "colab": {
          "base_uri": "https://localhost:8080/"
        },
        "id": "GiGN_l5pnRvf",
        "outputId": "cccaa8db-2cda-4559-acb4-8561a14ec928"
      },
      "execution_count": 120,
      "outputs": [
        {
          "output_type": "stream",
          "name": "stdout",
          "text": [
            "range(0, 5)\n",
            "<class 'range'>\n"
          ]
        }
      ]
    },
    {
      "cell_type": "code",
      "source": [
        "for i in range1:\n",
        "    print(i)"
      ],
      "metadata": {
        "id": "UMf7_PHIEG_d",
        "colab": {
          "base_uri": "https://localhost:8080/"
        },
        "outputId": "254fd031-fc2a-4d64-cbf5-784b46e86228"
      },
      "execution_count": 121,
      "outputs": [
        {
          "output_type": "stream",
          "name": "stdout",
          "text": [
            "0\n",
            "1\n",
            "2\n",
            "3\n",
            "4\n"
          ]
        }
      ]
    },
    {
      "cell_type": "code",
      "source": [
        "# start from 1, end at 10-1=9, step size=1\n",
        "for i in range(1,10):\n",
        "    print(i)"
      ],
      "metadata": {
        "colab": {
          "base_uri": "https://localhost:8080/"
        },
        "id": "9i96N_iTOX-x",
        "outputId": "6506f189-4e2d-49bd-c7a0-fd3488b42eaf"
      },
      "execution_count": 122,
      "outputs": [
        {
          "output_type": "stream",
          "name": "stdout",
          "text": [
            "1\n",
            "2\n",
            "3\n",
            "4\n",
            "5\n",
            "6\n",
            "7\n",
            "8\n",
            "9\n"
          ]
        }
      ]
    },
    {
      "cell_type": "code",
      "source": [
        "# start =2, terminate = 10, step size =2\n",
        "for i in range(2,11,2):\n",
        "    print(i)"
      ],
      "metadata": {
        "colab": {
          "base_uri": "https://localhost:8080/"
        },
        "id": "apNjX0YYOi83",
        "outputId": "1f46a929-c043-4f9e-c546-651c302ab849"
      },
      "execution_count": 123,
      "outputs": [
        {
          "output_type": "stream",
          "name": "stdout",
          "text": [
            "2\n",
            "4\n",
            "6\n",
            "8\n",
            "10\n"
          ]
        }
      ]
    },
    {
      "cell_type": "code",
      "source": [
        "# print a number from 10 to 1\n",
        "for i in range(10,0,-1):\n",
        "    print(i)"
      ],
      "metadata": {
        "colab": {
          "base_uri": "https://localhost:8080/"
        },
        "id": "fiIBqHMwOxXA",
        "outputId": "9618aa85-41bb-4e27-8ce5-3249023ceb37"
      },
      "execution_count": 124,
      "outputs": [
        {
          "output_type": "stream",
          "name": "stdout",
          "text": [
            "10\n",
            "9\n",
            "8\n",
            "7\n",
            "6\n",
            "5\n",
            "4\n",
            "3\n",
            "2\n",
            "1\n"
          ]
        }
      ]
    },
    {
      "cell_type": "markdown",
      "source": [
        "### pass statement"
      ],
      "metadata": {
        "id": "C75eC5vgPxIc"
      }
    },
    {
      "cell_type": "markdown",
      "source": [
        "* pass is a null statement that does nothing. it is used as a placeholder for future code.\n",
        "* ```\n",
        "for i in range(10)\n",
        "      pass\n",
        "```\n",
        "\n"
      ],
      "metadata": {
        "id": "v8Ms30JXP1LO"
      }
    },
    {
      "cell_type": "markdown",
      "source": [
        "```\n",
        " for i in range(5):\n",
        "     \n",
        " print(\" hello\")\n",
        "```\n",
        "it will throw an error, because we are doing nothing inside a for loop.\n",
        "* use:in future we will add instructions inside loop, so till then we write `pass`.\n",
        "* we can also use `pass` in conditional statement\n",
        "\n"
      ],
      "metadata": {
        "id": "ljs3NEilQ2Xd"
      }
    },
    {
      "cell_type": "code",
      "source": [
        "for i in range(5):\n",
        "     pass\n",
        "print(\" hello\")"
      ],
      "metadata": {
        "colab": {
          "base_uri": "https://localhost:8080/"
        },
        "id": "Th846r-XPkzt",
        "outputId": "319d7bd3-f4aa-4b0a-b3fe-f3a20952f935"
      },
      "execution_count": 125,
      "outputs": [
        {
          "output_type": "stream",
          "name": "stdout",
          "text": [
            " hello\n"
          ]
        }
      ]
    },
    {
      "cell_type": "markdown",
      "source": [
        "# Functions\n",
        "* Built-in functions : len, range, print\n",
        "* user defined functions"
      ],
      "metadata": {
        "id": "3eOvVErZRtMi"
      }
    },
    {
      "cell_type": "markdown",
      "source": [
        "```\n",
        "def func_name(param1, param2...):\n",
        "    # instructions\n",
        "    return val\n",
        "```"
      ],
      "metadata": {
        "id": "wiEY4TOXRwxx"
      }
    },
    {
      "cell_type": "code",
      "source": [
        "# function to find a factorial of a num\n",
        "def fact(num):\n",
        "    res=1\n",
        "    for i in range(1,num+1):\n",
        "      res*=i\n",
        "    print(\"factorial of \", num, \"is\", res)\n",
        "\n",
        "fact(5)"
      ],
      "metadata": {
        "colab": {
          "base_uri": "https://localhost:8080/"
        },
        "id": "sCZMqgx3Qtzz",
        "outputId": "35876ab3-165c-40a6-bc5f-af758343beb9"
      },
      "execution_count": 126,
      "outputs": [
        {
          "output_type": "stream",
          "name": "stdout",
          "text": [
            "factorial of  5 is 120\n"
          ]
        }
      ]
    },
    {
      "cell_type": "code",
      "source": [
        "# function to print elements of list in a single line\n",
        "def print_list(list):\n",
        "    for i in list:\n",
        "        print(i, end=\" \")\n",
        "\n",
        "l1=[1,2,3,4,5]\n",
        "print_list(l1)"
      ],
      "metadata": {
        "colab": {
          "base_uri": "https://localhost:8080/"
        },
        "id": "sKMbHnPyWJYA",
        "outputId": "1080e52e-3781-4d28-975f-242ee5896741"
      },
      "execution_count": 127,
      "outputs": [
        {
          "output_type": "stream",
          "name": "stdout",
          "text": [
            "1 2 3 4 5 "
          ]
        }
      ]
    },
    {
      "cell_type": "markdown",
      "source": [
        "* if a function is not returning anything then return type : `None`"
      ],
      "metadata": {
        "id": "zvZOvO_gTq3I"
      }
    },
    {
      "cell_type": "code",
      "source": [
        "# seeing a inbuilt function\n",
        "help(print)"
      ],
      "metadata": {
        "colab": {
          "base_uri": "https://localhost:8080/"
        },
        "id": "CkIf1cwFTeeH",
        "outputId": "f7a2b15c-580b-4eb3-84c8-e07d45f4a6de"
      },
      "execution_count": 128,
      "outputs": [
        {
          "output_type": "stream",
          "name": "stdout",
          "text": [
            "Help on built-in function print in module builtins:\n",
            "\n",
            "print(*args, sep=' ', end='\\n', file=None, flush=False)\n",
            "    Prints the values to a stream, or to sys.stdout by default.\n",
            "    \n",
            "    sep\n",
            "      string inserted between values, default a space.\n",
            "    end\n",
            "      string appended after the last value, default a newline.\n",
            "    file\n",
            "      a file-like object (stream); defaults to the current sys.stdout.\n",
            "    flush\n",
            "      whether to forcibly flush the stream.\n",
            "\n"
          ]
        }
      ]
    },
    {
      "cell_type": "markdown",
      "source": [
        "### default arguments\n",
        "* default arguments always used as a last parameter of a function"
      ],
      "metadata": {
        "id": "f6c8xX-zUyWZ"
      }
    },
    {
      "cell_type": "code",
      "source": [
        "# simple function\n",
        "def cal_prod(a,b):\n",
        "    print(a*b)\n",
        "\n",
        "cal_prod(5,4)"
      ],
      "metadata": {
        "colab": {
          "base_uri": "https://localhost:8080/"
        },
        "id": "OgKmqF5HUOkP",
        "outputId": "cb0bd86c-6474-498a-eca7-a50e67f67910"
      },
      "execution_count": 129,
      "outputs": [
        {
          "output_type": "stream",
          "name": "stdout",
          "text": [
            "20\n"
          ]
        }
      ]
    },
    {
      "cell_type": "code",
      "source": [
        "# default parameter\n",
        "def cal_prod(a,b=1):\n",
        "    print(a*b)\n",
        "\n",
        "cal_prod(5)\n",
        "cal_prod(5,4)"
      ],
      "metadata": {
        "colab": {
          "base_uri": "https://localhost:8080/"
        },
        "id": "kkSDtlEYVKFC",
        "outputId": "71cd788e-b658-4781-cf1a-4b808e2e99f7"
      },
      "execution_count": 130,
      "outputs": [
        {
          "output_type": "stream",
          "name": "stdout",
          "text": [
            "5\n",
            "20\n"
          ]
        }
      ]
    },
    {
      "cell_type": "code",
      "source": [
        "# default parameters\n",
        "def cal_prod(a=1,b=1):\n",
        "    print(a*b)\n",
        "\n",
        "cal_prod()\n",
        "cal_prod(5)\n",
        "cal_prod(5,4)"
      ],
      "metadata": {
        "colab": {
          "base_uri": "https://localhost:8080/"
        },
        "id": "3qrEEK5CVTYG",
        "outputId": "44e7d4de-3d20-45d6-f2d3-ef94fd133366"
      },
      "execution_count": 131,
      "outputs": [
        {
          "output_type": "stream",
          "name": "stdout",
          "text": [
            "1\n",
            "5\n",
            "20\n"
          ]
        }
      ]
    },
    {
      "cell_type": "markdown",
      "source": [
        "# Recursion\n",
        "* when a function calls itself"
      ],
      "metadata": {
        "id": "MZ5nY5tTWszh"
      }
    },
    {
      "cell_type": "code",
      "source": [
        "# prints n to 1 backwards\n",
        "def print_rev(n):\n",
        "    if(n==0):         # base case\n",
        "        return\n",
        "    print(n)\n",
        "    print_rev(n-1)   # recursive case\n",
        "\n",
        "print_rev(5)"
      ],
      "metadata": {
        "colab": {
          "base_uri": "https://localhost:8080/"
        },
        "id": "XulTK7fZVaMw",
        "outputId": "e6063010-a32f-4a1d-aeff-d45070e8cce2"
      },
      "execution_count": 134,
      "outputs": [
        {
          "output_type": "stream",
          "name": "stdout",
          "text": [
            "5\n",
            "4\n",
            "3\n",
            "2\n",
            "1\n"
          ]
        }
      ]
    },
    {
      "cell_type": "code",
      "source": [
        "# recursive function to find factorial of a function\n",
        "def fact(n):\n",
        "    if(n==0 or n==1):\n",
        "        return 1\n",
        "    return n*fact(n-1)\n",
        "\n",
        "print(fact(5))"
      ],
      "metadata": {
        "colab": {
          "base_uri": "https://localhost:8080/"
        },
        "id": "zeOo08y-XqF0",
        "outputId": "a6bc44bf-aae7-41ea-aa8a-a9068c288184"
      },
      "execution_count": 135,
      "outputs": [
        {
          "output_type": "stream",
          "name": "stdout",
          "text": [
            "120\n"
          ]
        }
      ]
    },
    {
      "cell_type": "markdown",
      "source": [
        "# File I/O\n"
      ],
      "metadata": {
        "id": "Kn003z9uZe6D"
      }
    },
    {
      "cell_type": "markdown",
      "source": [
        "* types of files\n",
        "  - `Text Files` : .txt, .docs, .log, etc(data stored in character form)\n",
        "  - `Binary Files`: .mp4, .mov, .png etc\n",
        "* Basic syntax\n",
        "  - `f = open(\"file_name\",\"mode\")`\n",
        "* default mode is `read`"
      ],
      "metadata": {
        "id": "e_qkLUiJZkLk"
      }
    },
    {
      "cell_type": "code",
      "source": [
        "# opening the file\n",
        "f=open(\"/content/text.txt\",\"r\")\n",
        "\n",
        "# reading the file\n",
        "data=f.read()\n",
        "print(data)\n",
        "\n",
        "# type of data\n",
        "print(type(data))\n",
        "\n",
        "# closing the file\n",
        "f.close()"
      ],
      "metadata": {
        "id": "t3DrnfgbYlqX",
        "colab": {
          "base_uri": "https://localhost:8080/"
        },
        "outputId": "2527b465-dae3-4a6f-9bf8-2a2879e5f9c1"
      },
      "execution_count": 139,
      "outputs": [
        {
          "output_type": "stream",
          "name": "stdout",
          "text": [
            "I am a good boy\n",
            "working as phd scholar\n",
            "btw! how are you\n",
            "\n",
            "<class 'str'>\n"
          ]
        }
      ]
    },
    {
      "cell_type": "markdown",
      "source": [
        "* `types of mode`\n",
        "\n",
        "```\n",
        "'r' - open for reading (default)\n",
        "'w' - open for writing, truncating the file first\n",
        "'x' - create a new file and open it for writing\n",
        "'a' - open for writing, appending to the end of the file if it exists\n",
        "'b' - binary mode\n",
        "'t' - text mode(default)\n",
        "'+' - open a disk file for updating(reading and writing)\n",
        "```"
      ],
      "metadata": {
        "id": "2JGXgR8QK1sS"
      }
    },
    {
      "cell_type": "markdown",
      "source": [
        "* we can also combine two modes eg. \"rt\"\n",
        "* `+`\n",
        "  - `r+` read and write\n",
        "  - `w+` write and read\n",
        "  - `a+` append and read\n",
        "  - etc...."
      ],
      "metadata": {
        "id": "o5TvYskhQbOS"
      }
    },
    {
      "cell_type": "markdown",
      "source": [
        "* `line=f.readline()` used to read one line at a once\n"
      ],
      "metadata": {
        "id": "XZYn8jvWRIBc"
      }
    },
    {
      "cell_type": "code",
      "source": [
        "f= open(\"text.txt\",\"r\")\n",
        "print(f.readline())  # print line1\n",
        "print(f.readline())  # print line2\n",
        "print(f.readline())  # print line3\n",
        "f.close()"
      ],
      "metadata": {
        "id": "Xe43zHI_IXFF",
        "colab": {
          "base_uri": "https://localhost:8080/"
        },
        "outputId": "4ca53568-63a5-40b7-80af-dfc519337fdc"
      },
      "execution_count": 140,
      "outputs": [
        {
          "output_type": "stream",
          "name": "stdout",
          "text": [
            "I am a good boy\n",
            "\n",
            "working as phd scholar\n",
            "\n",
            "btw! how are you\n",
            "\n"
          ]
        }
      ]
    },
    {
      "cell_type": "markdown",
      "source": [
        "* `Note`there is a cursor while reading a file, it `only` go towards left to right and then next line.\n",
        "* it can't go backward.\n",
        "* we can't read same line twice as cursor will shift at the end of that line. for that we need to again reopen the file."
      ],
      "metadata": {
        "id": "lFbXh6d1SIrF"
      }
    },
    {
      "cell_type": "markdown",
      "source": [
        "### writing a file\n",
        "* `f=open(\"file_name\",\"w\")`\n",
        "* `f.write(\"this is a new written text\")` # overwrites the entire file\n",
        "\n",
        "\n"
      ],
      "metadata": {
        "id": "TFl6SuGpSxJC"
      }
    },
    {
      "cell_type": "code",
      "source": [
        "f=open(\"text.txt\",\"w\")\n",
        "f.write(\"I want to become a professor\")\n",
        "f.close()"
      ],
      "metadata": {
        "id": "HGRmR_37RsTO"
      },
      "execution_count": 141,
      "outputs": []
    },
    {
      "cell_type": "markdown",
      "source": [
        "* now entire text file will replaces by \"`I want to become a professor`\""
      ],
      "metadata": {
        "id": "d-_c-227TnoJ"
      }
    },
    {
      "cell_type": "markdown",
      "source": [
        "* `f.read(num)` will read only first num characters from the file"
      ],
      "metadata": {
        "id": "Ljc8pKydqcJ_"
      }
    },
    {
      "cell_type": "code",
      "source": [
        "f=open(\"text.txt\",\"r\")\n",
        "print(f.read(5))  # reading first 5 characters from the txt file\n",
        "f.close()"
      ],
      "metadata": {
        "colab": {
          "base_uri": "https://localhost:8080/"
        },
        "id": "lnNSAJVZqk40",
        "outputId": "8235f4be-0c81-450b-d4d0-10ea26135739"
      },
      "execution_count": 142,
      "outputs": [
        {
          "output_type": "stream",
          "name": "stdout",
          "text": [
            "I wan\n"
          ]
        }
      ]
    },
    {
      "cell_type": "markdown",
      "source": [
        "### Append the file\n",
        "* `f=open(\"file_name\",\"a\")`\n",
        "* `f.write(\"this is a new appended written text\")` # adds to the file at the last"
      ],
      "metadata": {
        "id": "AyDnVtHJT4SG"
      }
    },
    {
      "cell_type": "code",
      "source": [
        "f=open(\"text.txt\",\"a\")\n",
        "f.write(\"I want to become a CSE professor\")\n",
        "f.close()"
      ],
      "metadata": {
        "id": "yBBDRP1qrSuH"
      },
      "execution_count": 143,
      "outputs": []
    },
    {
      "cell_type": "code",
      "source": [
        "f=open(\"text.txt\",\"r\")\n",
        "print(f.read())\n",
        "f.close()"
      ],
      "metadata": {
        "id": "J8D7fZtzTh8s",
        "colab": {
          "base_uri": "https://localhost:8080/"
        },
        "outputId": "97d9f60e-a69a-4972-db5a-419215c897af"
      },
      "execution_count": 144,
      "outputs": [
        {
          "output_type": "stream",
          "name": "stdout",
          "text": [
            "I want to become a professorI want to become a CSE professor\n"
          ]
        }
      ]
    },
    {
      "cell_type": "markdown",
      "source": [
        "* to append at new line we will use `\\n`\n",
        "* if we don't have existing file then, `append and writing` mode also create a file."
      ],
      "metadata": {
        "id": "O1lzOoFTrlu2"
      }
    },
    {
      "cell_type": "markdown",
      "source": [
        "### combination of mode with `+`"
      ],
      "metadata": {
        "id": "wOl6pwjKsJ3a"
      }
    },
    {
      "cell_type": "markdown",
      "source": [
        "* `r+` read and overwrite the file\n",
        "* `pointer` will be at the begining of the file"
      ],
      "metadata": {
        "id": "57Q2TN-AsVsx"
      }
    },
    {
      "cell_type": "code",
      "source": [
        "f=open(\"text.txt\",\"r+\")\n",
        "f.write(\"Hey! people\\n\")\n",
        "print(f.read())\n",
        "f.close()"
      ],
      "metadata": {
        "id": "QNma4ek2rMvP",
        "colab": {
          "base_uri": "https://localhost:8080/"
        },
        "outputId": "fa826f94-6144-4767-9349-f4a2e8b91011"
      },
      "execution_count": 145,
      "outputs": [
        {
          "output_type": "stream",
          "name": "stdout",
          "text": [
            "come a professorI want to become a CSE professor\n"
          ]
        }
      ]
    },
    {
      "cell_type": "markdown",
      "source": [
        "  - output in text file looks like:\n",
        "  - while reading the file, we get reading from `come a prof....` because cursor (pointer) will be located just after word people."
      ],
      "metadata": {
        "id": "blHCIAIjthKC"
      }
    },
    {
      "cell_type": "markdown",
      "source": [
        "![image.png](data:image/png;base64,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)"
      ],
      "metadata": {
        "id": "CIV4NrcttWKw"
      }
    },
    {
      "cell_type": "markdown",
      "source": [
        "### `w+` : used for reading and writing\n",
        "* truncate the file and pointer will be at beginning."
      ],
      "metadata": {
        "id": "JKAm-O30t-bX"
      }
    },
    {
      "cell_type": "code",
      "source": [
        "f=open(\"text.txt\",\"w+\")\n",
        "print(f.read()) # we will read empty file as file get truncated\n",
        "f.write(\"I am a disco dancer\") # writing a file\n",
        "f.close()"
      ],
      "metadata": {
        "colab": {
          "base_uri": "https://localhost:8080/"
        },
        "id": "lGGIRSvXsxAo",
        "outputId": "39bb8173-9adf-46d1-807b-1be8c6bf65a8"
      },
      "execution_count": 146,
      "outputs": [
        {
          "output_type": "stream",
          "name": "stdout",
          "text": [
            "\n"
          ]
        }
      ]
    },
    {
      "cell_type": "markdown",
      "source": [
        "\n",
        "![image.png](data:image/png;base64,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)"
      ],
      "metadata": {
        "id": "KBxA3U4ou17O"
      }
    },
    {
      "cell_type": "markdown",
      "source": [
        "### `a+` used for append and read\n",
        "* pointer will be at the end"
      ],
      "metadata": {
        "id": "qd8QMBMIvM23"
      }
    },
    {
      "cell_type": "code",
      "source": [
        "f=open(\"text.txt\",\"a+\")\n",
        "print(f.read()) # read nothing, as pointer is at the end\n",
        "f.write(\"Atif Aslam is the best\") # append at the end\n",
        "f.close()"
      ],
      "metadata": {
        "colab": {
          "base_uri": "https://localhost:8080/"
        },
        "id": "6bVD1n9ouuyZ",
        "outputId": "edc01f81-5855-4ada-fc5a-6f0649d9f52d"
      },
      "execution_count": 147,
      "outputs": [
        {
          "output_type": "stream",
          "name": "stdout",
          "text": [
            "\n"
          ]
        }
      ]
    },
    {
      "cell_type": "markdown",
      "source": [
        "![image.png](data:image/png;base64,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)"
      ],
      "metadata": {
        "id": "FZ7O8hYCv1X-"
      }
    },
    {
      "cell_type": "markdown",
      "source": [
        "### summarization\n",
        "* `r+` read and overwrite, pointer at start , no truncate\n",
        "* `w+` read and overwrite, pointer at begging as file become empty, truncate\n",
        "* `a+` read and append, pointer at end, no truncate"
      ],
      "metadata": {
        "id": "ImV_mz_TwPcW"
      }
    },
    {
      "cell_type": "markdown",
      "source": [
        "### opening the file `with` syntax\n",
        "* bydefault it closes the file, so no need to write `f.close()`\n",
        "\n",
        "```\n",
        "with open(\"file_name\",\"mode_name\") as f:\n",
        "    data=f.read()\n",
        "```\n",
        "\n"
      ],
      "metadata": {
        "id": "7bT-3BA5w4Wy"
      }
    },
    {
      "cell_type": "markdown",
      "source": [
        "* reading the file"
      ],
      "metadata": {
        "id": "etTlTHANx4Oi"
      }
    },
    {
      "cell_type": "code",
      "source": [
        "with open(\"text.txt\",\"r\") as f:\n",
        "    data=f.read()\n",
        "    print(data)"
      ],
      "metadata": {
        "colab": {
          "base_uri": "https://localhost:8080/"
        },
        "id": "FG_Xaqopvv8y",
        "outputId": "1efd3db5-7e0b-40e3-a167-6eb6ebb49e69"
      },
      "execution_count": 148,
      "outputs": [
        {
          "output_type": "stream",
          "name": "stdout",
          "text": [
            "I am a disco dancerAtif Aslam is the best\n"
          ]
        }
      ]
    },
    {
      "cell_type": "markdown",
      "source": [
        "* writing the file"
      ],
      "metadata": {
        "id": "dsWzVQzWx7A9"
      }
    },
    {
      "cell_type": "code",
      "source": [
        "with open(\"text.txt\",\"w\") as f:\n",
        "    f.write(\"Virat kohli is the best\")"
      ],
      "metadata": {
        "id": "t1maQRlix8nE"
      },
      "execution_count": 149,
      "outputs": []
    },
    {
      "cell_type": "markdown",
      "source": [
        "![image.png](data:image/png;base64,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)"
      ],
      "metadata": {
        "id": "r7y2ivovzF0w"
      }
    },
    {
      "cell_type": "markdown",
      "source": [
        "### deleting a file\n",
        "* using the `os` module\n",
        "```\n",
        "import os\n",
        "os.remove(\"file_name\")\n",
        "```"
      ],
      "metadata": {
        "id": "d4hIsR-CzFnF"
      }
    },
    {
      "cell_type": "code",
      "source": [
        "import os\n",
        "os.remove(\"text.txt\")"
      ],
      "metadata": {
        "id": "WlcP3e-dy9tC"
      },
      "execution_count": 150,
      "outputs": []
    },
    {
      "cell_type": "markdown",
      "source": [
        "* now `text.txt` file remove from directory\n",
        "* if we give wrong file name, which is not existed, then it will throw an error"
      ],
      "metadata": {
        "id": "gQuqwmpp0Skp"
      }
    },
    {
      "cell_type": "markdown",
      "source": [
        "### Practice problem"
      ],
      "metadata": {
        "id": "QWkGZFj90ooq"
      }
    },
    {
      "cell_type": "markdown",
      "source": [
        "Create a new file \"practice.txt\" using python. Add the following data in it:\n",
        "  - Hi everyone\n",
        "  - we are learning File I/0\n",
        "  - using Java.\n",
        "  - I like programming in Java.\n",
        "\n",
        "WAF that replace all occurrences of \"java\" with \"python\" in above file.\n",
        "\n",
        "Now check whether word `learning` is present in file or not, also find its line number"
      ],
      "metadata": {
        "id": "-fs6cvFx0qzx"
      }
    },
    {
      "cell_type": "code",
      "source": [
        "# creating of file will be done in write mode\n",
        "with open(\"practice.txt\",\"w\") as f:\n",
        "    f.write(\"Hi everyone\\n\")\n",
        "    f.write(\"we are learning File I/0\\n\")\n",
        "    f.write(\"using Java.\\n\")\n",
        "    f.write(\"I like programming in Java.\")"
      ],
      "metadata": {
        "id": "oO1c3wGq0dFU"
      },
      "execution_count": 151,
      "outputs": []
    },
    {
      "cell_type": "markdown",
      "source": [
        "![image.png](data:image/png;base64,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)"
      ],
      "metadata": {
        "id": "n2V-ckk21aqs"
      }
    },
    {
      "cell_type": "code",
      "source": [
        "# now we will replace java by python\n",
        "with open(\"practice.txt\",\"r\") as f:\n",
        "    data=f.read()  # here file content is stored in data as a  string\n",
        "\n",
        "#replacing java by python\n",
        "new_data=data.replace(\"Java\",\"python\")\n",
        "\n",
        "# overwrite the file\n",
        "with open(\"practice.txt\",\"w\") as f:\n",
        "    f.write(new_data)\n"
      ],
      "metadata": {
        "id": "01qOkzq11bDp"
      },
      "execution_count": 152,
      "outputs": []
    },
    {
      "cell_type": "markdown",
      "source": [
        "![image.png](data:image/png;base64,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)"
      ],
      "metadata": {
        "id": "FoQTAyRN2vLV"
      }
    },
    {
      "cell_type": "code",
      "source": [
        "# checking for word learning in file\n",
        "flag=0\n",
        "line_num=0\n",
        "with open(\"practice.txt\",\"r\") as f:\n",
        "    for word in f:  #at once iterate each line\n",
        "        line_num+=1\n",
        "        if \"learning\" in word:\n",
        "            print(word)\n",
        "            print(\"learning exist in file in line number :\", line_num)\n",
        "            flag=1\n",
        "\n",
        "\n",
        "if(flag==0):\n",
        "    print(\"learning does not exist in file\")"
      ],
      "metadata": {
        "colab": {
          "base_uri": "https://localhost:8080/"
        },
        "id": "MoCAP5k72f9g",
        "outputId": "943d1494-1c8d-4d5e-9bb0-58d6577d67dc"
      },
      "execution_count": 153,
      "outputs": [
        {
          "output_type": "stream",
          "name": "stdout",
          "text": [
            "we are learning File I/0\n",
            "\n",
            "learning exist in file in line number : 2\n"
          ]
        }
      ]
    },
    {
      "cell_type": "markdown",
      "source": [
        "* `From a file containing numbers separated by comma, print the count of even numbers`"
      ],
      "metadata": {
        "id": "v0X5PvR3q_9O"
      }
    },
    {
      "cell_type": "code",
      "source": [
        "# creating a file\n",
        "with open(\"num.txt\",\"w\") as f:\n",
        "    f.write(\"1,2,45,233,12,4,98,87,92\")"
      ],
      "metadata": {
        "id": "pzmHIIdO37xo"
      },
      "execution_count": 136,
      "outputs": []
    },
    {
      "cell_type": "markdown",
      "source": [
        "*Approach:\n",
        "  - initially individual number will be in string\n",
        "  - parse/casting for int\n",
        "  - check num is even or not"
      ],
      "metadata": {
        "id": "VPpfnQ7Tr5HQ"
      }
    },
    {
      "cell_type": "code",
      "source": [
        "with open(\"num.txt\",\"r\") as f:\n",
        "    data=f.read()\n",
        "    print(data)\n",
        "# wrting code from scratch\n",
        "    num=\"\"\n",
        "    count=0\n",
        "    for i in range(len(data)):\n",
        "        if (data[i]==\",\"):\n",
        "            num=int(num)\n",
        "            if(num%2==0):\n",
        "                print(num)\n",
        "                count+=1\n",
        "            num=\"\"\n",
        "        else:\n",
        "          num+=data[i]\n",
        "\n",
        "    # Process the last number\n",
        "    if num:\n",
        "        num = int(num)\n",
        "        if num % 2 == 0:\n",
        "            print(num)\n",
        "            count += 1\n",
        "    print(\"Total even numbers are :\",count)"
      ],
      "metadata": {
        "colab": {
          "base_uri": "https://localhost:8080/"
        },
        "id": "gpJ6FjaWrsVj",
        "outputId": "72a847b1-faf3-4e2b-a799-f389b2c80278"
      },
      "execution_count": 137,
      "outputs": [
        {
          "output_type": "stream",
          "name": "stdout",
          "text": [
            "1,2,45,233,12,4,98,87,92\n",
            "2\n",
            "12\n",
            "4\n",
            "98\n",
            "92\n",
            "Total even numbers are : 5\n"
          ]
        }
      ]
    },
    {
      "cell_type": "markdown",
      "source": [
        "* another approach\n",
        "  - storing in list and using seperator for that"
      ],
      "metadata": {
        "id": "Qli_wFUa79Qu"
      }
    },
    {
      "cell_type": "code",
      "source": [
        "with open(\"num.txt\",\"r\") as f:\n",
        "    data=f.read()\n",
        "    print(data)\n",
        "\n",
        "    nums=data.split(\",\")  # storing data in nums on basis of comma seperator\n",
        "    count=0\n",
        "    for num in nums:\n",
        "        if(int(num)%2==0):\n",
        "            print(num)\n",
        "            count+=1\n",
        "    print(\"Total even numbers are :\",count)"
      ],
      "metadata": {
        "colab": {
          "base_uri": "https://localhost:8080/"
        },
        "id": "8mSZo8Sy8ACq",
        "outputId": "7fccd7ec-6c0b-4754-99ab-36fad02d9942"
      },
      "execution_count": 154,
      "outputs": [
        {
          "output_type": "stream",
          "name": "stdout",
          "text": [
            "1,2,45,233,12,4,98,87,92\n",
            "2\n",
            "12\n",
            "4\n",
            "98\n",
            "92\n",
            "Total even numbers are : 5\n"
          ]
        }
      ]
    },
    {
      "cell_type": "markdown",
      "source": [
        "# OOP in Pynthon"
      ],
      "metadata": {
        "id": "qSQ4cYl19_Yt"
      }
    },
    {
      "cell_type": "markdown",
      "source": [
        "* To map with real world scenarios, we started using objects in code"
      ],
      "metadata": {
        "id": "Ga_6n6sW-F1W"
      }
    },
    {
      "cell_type": "markdown",
      "source": [
        "* Class is a blueprint for creating objects. Generally class name started by Capital Character.\n",
        "```\n",
        "class Students:\n",
        "    name=\"John Abraham\"\n",
        "```\n",
        "* Objects is an instance of class\n",
        "```\n",
        "s1=student()\n",
        "print(s1.name)\n",
        "```\n",
        "\n",
        "\n"
      ],
      "metadata": {
        "id": "8SH0bNduAezX"
      }
    },
    {
      "cell_type": "code",
      "source": [
        "# creating class\n",
        "class Student:\n",
        "    name=\"Ujjwal\"\n",
        "# Creating object\n",
        "s1=Student()\n",
        "print(s1)  # printing object with its location\n",
        "print(s1.name)"
      ],
      "metadata": {
        "colab": {
          "base_uri": "https://localhost:8080/"
        },
        "id": "IXsyvDBB-E_9",
        "outputId": "e9dcac1d-2c2f-46bd-a9b5-793043e81fdd"
      },
      "execution_count": 155,
      "outputs": [
        {
          "output_type": "stream",
          "name": "stdout",
          "text": [
            "<__main__.Student object at 0x78311061d690>\n",
            "Ujjwal\n"
          ]
        }
      ]
    },
    {
      "cell_type": "code",
      "source": [
        "# another example of class for car\n",
        "class Car:\n",
        "    color=\"Blue\"\n",
        "    model=\"Audi A8\"\n",
        "# objects\n",
        "car1=Car()\n",
        "print(car1.color)\n",
        "print(car1.model)"
      ],
      "metadata": {
        "colab": {
          "base_uri": "https://localhost:8080/"
        },
        "id": "PeSE9qk7BfrV",
        "outputId": "c39501de-bf5d-412b-8560-3f7d307dcc5a"
      },
      "execution_count": 156,
      "outputs": [
        {
          "output_type": "stream",
          "name": "stdout",
          "text": [
            "Blue\n",
            "Audi A8\n"
          ]
        }
      ]
    },
    {
      "cell_type": "markdown",
      "source": [
        "### Constructor\n",
        "All classes have a function called `__init__`,which is always executed when the class is being initiated.\n",
        "```\n",
        "class Student:\n",
        "    def __init__(self,fullname):\n",
        "        self.name=fullname\n",
        "```\n",
        "object creation\n",
        "```\n",
        "s1 = Student(\"champ\")\n",
        "print(s1.name)\n",
        "```\n",
        "The parameter `self` is a reference to the current instance of class, and is used to access variables that belongs to the class"
      ],
      "metadata": {
        "id": "Zhsa6vBVCLDJ"
      }
    },
    {
      "cell_type": "code",
      "source": [
        "#  creating class\n",
        "class Studnet:\n",
        "    def __init__(self):\n",
        "        print(self)  # poiniting to the object\n",
        "        self.name=\"Ujjwal\"\n",
        "# creating object\n",
        "s1=Studnet()\n",
        "print(s1) #printing object\n",
        "print(s1.name)"
      ],
      "metadata": {
        "colab": {
          "base_uri": "https://localhost:8080/"
        },
        "id": "MaOjMshFCIEA",
        "outputId": "68020d92-5a70-42f0-84de-912193c654c6"
      },
      "execution_count": 157,
      "outputs": [
        {
          "output_type": "stream",
          "name": "stdout",
          "text": [
            "<__main__.Studnet object at 0x783120c17b10>\n",
            "<__main__.Studnet object at 0x783120c17b10>\n",
            "Ujjwal\n"
          ]
        }
      ]
    },
    {
      "cell_type": "markdown",
      "source": [
        "* Class for Student having name and marks too"
      ],
      "metadata": {
        "id": "kKX48eFaa0PB"
      }
    },
    {
      "cell_type": "code",
      "source": [
        "# creating class for student\n",
        "class Student:\n",
        "    def __init__(self,name,marks):\n",
        "        self.name=name\n",
        "        self.marks=marks\n",
        "        print(\"new students added succesfully\")\n",
        "# creating objects\n",
        "s1 = Student(\"Ujjwal\",98)\n",
        "print(s1.name)\n",
        "print(s1.marks)\n",
        "\n",
        "s2 = Student(\"Champ\",67)\n",
        "print(s2.name)\n",
        "print(s2.marks)"
      ],
      "metadata": {
        "colab": {
          "base_uri": "https://localhost:8080/"
        },
        "id": "_kxVY6NMaLzs",
        "outputId": "4b04ed1a-897c-4da7-b1b8-78b80215fd03"
      },
      "execution_count": 158,
      "outputs": [
        {
          "output_type": "stream",
          "name": "stdout",
          "text": [
            "new students added succesfully\n",
            "Ujjwal\n",
            "98\n",
            "new students added succesfully\n",
            "Champ\n",
            "67\n"
          ]
        }
      ]
    },
    {
      "cell_type": "markdown",
      "source": [
        "* If a constructor has no parameter except `self` :then it is  `default constructor` otherwise `parameterised constructor`"
      ],
      "metadata": {
        "id": "YpFfghpibt1j"
      }
    },
    {
      "cell_type": "markdown",
      "source": [
        "### Class & Instance Attributes\n",
        "  - `Class.attr` : common for all objects, take only memory block, declare without `self`, eg. college_name\n",
        "  - `obj.attr` : distict for all objects, take distinct memory block, declare with `self`, eg. student_name\n",
        "  - object attribute has high precedence (if we have conflict in nomenclature, then object attribute will be printed)"
      ],
      "metadata": {
        "id": "NlA-laEacGpa"
      }
    },
    {
      "cell_type": "code",
      "source": [
        "# Student class\n",
        "class Student:\n",
        "    fab_player=\"Virat Kohli\"\n",
        "    fab_food=\"Biryani\"\n",
        "    def __init__(self,name,age,city):\n",
        "        self.name=name\n",
        "        self.age=age\n",
        "        self.city=city"
      ],
      "metadata": {
        "id": "agB1KgRbb8Cw"
      },
      "execution_count": 159,
      "outputs": []
    },
    {
      "cell_type": "code",
      "source": [
        "# defining object\n",
        "s1=Student(\"Ujjwal\",20,\"Delhi\")\n",
        "\n",
        "# printing object attributes\n",
        "print(s1.name,s1.age,s1.city)\n",
        "\n",
        "#printing class attributes\n",
        "print(s1.fab_player,s1.fab_food)\n",
        "\n",
        "# another way of printing class attributes\n",
        "print(Student.fab_player,Student.fab_food)"
      ],
      "metadata": {
        "colab": {
          "base_uri": "https://localhost:8080/"
        },
        "id": "MkSvZGMXedsh",
        "outputId": "e5caff0c-fd5a-4cff-c5da-31f0d9f716fb"
      },
      "execution_count": 160,
      "outputs": [
        {
          "output_type": "stream",
          "name": "stdout",
          "text": [
            "Ujjwal 20 Delhi\n",
            "Virat Kohli Biryani\n",
            "Virat Kohli Biryani\n"
          ]
        }
      ]
    },
    {
      "cell_type": "markdown",
      "source": [
        "### Methods\n",
        "- As class is a collection of attributes and methods\n",
        "- Attributes : properties\n",
        "- methods - functions\n",
        "```\n",
        "def func_name(self):\n",
        "    print(\"Hello champ\")\n",
        "```\n",
        "- all class function has parameters `self` as compulsary"
      ],
      "metadata": {
        "id": "m28nl8FTfaW-"
      }
    },
    {
      "cell_type": "code",
      "source": [
        "# Student class\n",
        "class Student:\n",
        "    fab_player=\"Virat Kohli\"\n",
        "    fab_food=\"Biryani\"\n",
        "    def __init__(self,name,age,city):\n",
        "        self.name=name\n",
        "        self.age=age\n",
        "        self.city=city\n",
        "    def greeting(Self):\n",
        "        print(\"Welcome to AMD!\")\n",
        "        print(\"How can i help you Mr.\",Self.name)\n",
        "\n",
        "# creating object\n",
        "s1=Student(\"Ujjwal\",23,\"Patna\")\n",
        "s1.greeting()\n"
      ],
      "metadata": {
        "colab": {
          "base_uri": "https://localhost:8080/"
        },
        "id": "iAaybG4_e9iR",
        "outputId": "a231387d-1c8f-45bf-843e-67bdd1b2e70d"
      },
      "execution_count": 161,
      "outputs": [
        {
          "output_type": "stream",
          "name": "stdout",
          "text": [
            "Welcome to AMD!\n",
            "How can i help you Mr. Ujjwal\n"
          ]
        }
      ]
    },
    {
      "cell_type": "markdown",
      "source": [
        "* its not compulsary, we use same word `self` in as parameter in both method and constructor and methods.\n",
        "* But inside that method or constructor use coorosponding parametrised word self.\n",
        "* here I used `self` in constructor and `Self` in methods.  \n",
        "* For better practice, to avoid confusion, we can use same parameter self throughout the class"
      ],
      "metadata": {
        "id": "KnktyyemhvKL"
      }
    },
    {
      "cell_type": "markdown",
      "source": [
        "* we can also change value directly of an object attribute"
      ],
      "metadata": {
        "id": "Rlf0XPQ3jWAu"
      }
    },
    {
      "cell_type": "code",
      "source": [
        "s1.name=\"BatMan\" #Changed name from Ujjwal to BatMan\n",
        "s1.greeting()"
      ],
      "metadata": {
        "colab": {
          "base_uri": "https://localhost:8080/"
        },
        "id": "vxlA6DgxhUrl",
        "outputId": "70d6b871-0264-4ecd-99b8-4f3dc4e259db"
      },
      "execution_count": 162,
      "outputs": [
        {
          "output_type": "stream",
          "name": "stdout",
          "text": [
            "Welcome to AMD!\n",
            "How can i help you Mr. BatMan\n"
          ]
        }
      ]
    },
    {
      "cell_type": "markdown",
      "source": [
        "### Static Methods\n"
      ],
      "metadata": {
        "id": "faGSv2ZCjwE5"
      }
    },
    {
      "cell_type": "markdown",
      "source": [
        "Methods that don't use self parameter (work at class level)\n",
        "```\n",
        "class Student:\n",
        "    @staticmethod   # decorator\n",
        "    def collge():\n",
        "        print(\"IIT Hyderabad\")\n",
        "```\n",
        "Decorator takes a function as a input and also returns a function as output,without modifying it permanently.\n",
        "\n",
        "Usecase: if in a function we don't need any attributes, then there is no use of self . in such cases we use static methods"
      ],
      "metadata": {
        "id": "pBjnMnqEj1QN"
      }
    },
    {
      "cell_type": "code",
      "source": [
        "# Student class\n",
        "class Student:\n",
        "    fab_player=\"Virat Kohli\"\n",
        "    fab_food=\"Biryani\"\n",
        "    def __init__(self,name,age,city):\n",
        "        self.name=name\n",
        "        self.age=age\n",
        "        self.city=city\n",
        "    def greeting(Self):\n",
        "        print(\"Welcome to AMD!\")\n",
        "        print(\"How can i help you Mr.\",Self.name)\n",
        "\n",
        "    @staticmethod # compulsary as we r not using self in college method\n",
        "    def college():\n",
        "        print(\"IIT Hyderabad\")\n",
        "\n",
        "# creating object\n",
        "s1=Student(\"Ujjwal\",23,\"Patna\")\n",
        "s1.college()"
      ],
      "metadata": {
        "colab": {
          "base_uri": "https://localhost:8080/"
        },
        "id": "NIh105a1jlJb",
        "outputId": "bffd0508-130c-4a4d-fe60-3c7c55c3bcbf"
      },
      "execution_count": 163,
      "outputs": [
        {
          "output_type": "stream",
          "name": "stdout",
          "text": [
            "IIT Hyderabad\n"
          ]
        }
      ]
    },
    {
      "cell_type": "markdown",
      "source": [
        "### Abstraction\n",
        "Hiding the implementation details of a class and only showing the essential features to the user"
      ],
      "metadata": {
        "id": "6sYgIW4jmVRo"
      }
    },
    {
      "cell_type": "code",
      "source": [
        "# class for Automatic Car\n",
        "class Car:\n",
        "    def __init__(self):\n",
        "        self.acc=False\n",
        "        self.brk=False\n",
        "        self.clutch=False\n",
        "\n",
        "    def start(self):\n",
        "        self.acc=True\n",
        "        self.clutch=True\n",
        "        print(\"car started\")\n",
        "\n",
        "# object creation\n",
        "car1=Car()\n",
        "car1.start()\n",
        "# now user can directly start the car without knowing about clutch and accelerator. and seems like automatic car"
      ],
      "metadata": {
        "colab": {
          "base_uri": "https://localhost:8080/"
        },
        "id": "yFovcS-Pm5eY",
        "outputId": "001037bc-1f27-4f50-e84a-9645dce3fd86"
      },
      "execution_count": 164,
      "outputs": [
        {
          "output_type": "stream",
          "name": "stdout",
          "text": [
            "car started\n"
          ]
        }
      ]
    },
    {
      "cell_type": "markdown",
      "source": [
        "### Encapsulation\n",
        "Wrapping data and functions in to a single unit(object)\n",
        "  - As a class consist of attributes and methods. so each object is instance of class, so it is said as encapsulation."
      ],
      "metadata": {
        "id": "1Y4h4PxFmiOq"
      }
    },
    {
      "cell_type": "markdown",
      "source": [
        "### `del` keyword : used to delete object properties or object itself"
      ],
      "metadata": {
        "id": "awL0k7KFsa5i"
      }
    },
    {
      "cell_type": "markdown",
      "source": [
        "`del object_name`\n",
        "\n",
        "`del object_name.attribute_name`"
      ],
      "metadata": {
        "id": "lGU5BJNTsnDl"
      }
    },
    {
      "cell_type": "code",
      "source": [
        "class Student:\n",
        "    def __init__(self,name):\n",
        "        self.name=name\n",
        "s1=Student(\"Ujjwal\")\n",
        "print(s1.name)"
      ],
      "metadata": {
        "id": "llQD6NWamD1G",
        "colab": {
          "base_uri": "https://localhost:8080/"
        },
        "outputId": "b8aa7eca-29ae-4ae5-9cf3-c161bf8fa44d"
      },
      "execution_count": 169,
      "outputs": [
        {
          "output_type": "stream",
          "name": "stdout",
          "text": [
            "Ujjwal\n"
          ]
        }
      ]
    },
    {
      "cell_type": "code",
      "source": [
        "# deleting object\n",
        "del s1"
      ],
      "metadata": {
        "id": "POrCVx6KtOC_"
      },
      "execution_count": 170,
      "outputs": []
    },
    {
      "cell_type": "markdown",
      "source": [
        "### private Access modifier\n",
        "* works inside the class only\n",
        "* `__attributename` is syntax i.e double underscore in beginning"
      ],
      "metadata": {
        "id": "78ViMtRdtV_d"
      }
    },
    {
      "cell_type": "code",
      "source": [
        "# class for Bank Account\n",
        "class BankAccount:\n",
        "    def __init__(self,name,password):\n",
        "        self.name=name    # name is public\n",
        "        self.__passowrd=password  # password is private\n",
        "\n",
        "    # Corrected indentation: get_password is now a method of the class\n",
        "    def get_password(self):\n",
        "        print(self.__passowrd)\n",
        "\n",
        "s1=BankAccount(\"Ujjwal\",\"1234\")\n",
        "print(s1.name)\n",
        "print(s1.get_password()) # Call the get_password method without parentheses"
      ],
      "metadata": {
        "colab": {
          "base_uri": "https://localhost:8080/"
        },
        "id": "JFw8LHfUvtCt",
        "outputId": "4d814e07-c6bd-4a63-872f-255961787e6b"
      },
      "execution_count": 171,
      "outputs": [
        {
          "output_type": "stream",
          "name": "stdout",
          "text": [
            "Ujjwal\n",
            "1234\n",
            "None\n"
          ]
        }
      ]
    },
    {
      "cell_type": "markdown",
      "source": [
        "here by creating object, we can access name but not password directly"
      ],
      "metadata": {
        "id": "tV2QoosluKMC"
      }
    },
    {
      "cell_type": "code",
      "source": [
        "class Person:\n",
        "    __name = \"Champ\" # private attribute\n",
        "\n",
        "    def __hello(self):  # private function\n",
        "        print(\"Hello\")\n",
        "\n",
        "    def welcome(self):  # not private, can be called from outside\n",
        "        self.__hello()\n",
        "        print(\"Welcome to AMD\")\n",
        "\n",
        "p = Person()\n",
        "print(p.welcome())"
      ],
      "metadata": {
        "id": "fgkj2MZPteay",
        "colab": {
          "base_uri": "https://localhost:8080/"
        },
        "outputId": "3ef04956-f983-47bd-c28d-43dd6ee4fc9e"
      },
      "execution_count": 172,
      "outputs": [
        {
          "output_type": "stream",
          "name": "stdout",
          "text": [
            "Hello\n",
            "Welcome to AMD\n",
            "None\n"
          ]
        }
      ]
    },
    {
      "cell_type": "markdown",
      "source": [
        "### Inheritance\n",
        "When  one class(child/derived) derives the properties & methods of another class(parent/base)\n",
        "```\n",
        "class Car:   # parent class\n",
        "  ...\n",
        "\n",
        "class TataCar(Car)  # child class inherit parent\n",
        "  ....\n",
        "```"
      ],
      "metadata": {
        "id": "9rbYM_b6N459"
      }
    },
    {
      "cell_type": "code",
      "source": [
        "# exapmle, also sigle inheritance example\n",
        "class Car:\n",
        "    @staticmethod\n",
        "    def start():\n",
        "        print(\"Car started..\")\n",
        "    @staticmethod\n",
        "    def stop():\n",
        "        print(\"Car stopped..\")\n",
        "\n",
        "class TataCar(Car):     # inherited parent class Car\n",
        "    def __init__(self,name):\n",
        "        self.name=name\n",
        "\n",
        "car1=TataCar(\"Harrier\")\n",
        "car1.start()      # start is in parent class method\n",
        "car1.stop()\n"
      ],
      "metadata": {
        "id": "TccItZlPtT8h",
        "colab": {
          "base_uri": "https://localhost:8080/"
        },
        "outputId": "1d598ec7-2d3d-45ec-ca7a-2eef5680d005"
      },
      "execution_count": 173,
      "outputs": [
        {
          "output_type": "stream",
          "name": "stdout",
          "text": [
            "Car started..\n",
            "Car stopped..\n"
          ]
        }
      ]
    },
    {
      "cell_type": "markdown",
      "source": [
        "#### Types of Inheritance"
      ],
      "metadata": {
        "id": "p1aGFLpZtVhS"
      }
    },
    {
      "cell_type": "markdown",
      "source": [
        "* Single Inheritance : single parent class and single child class\n",
        "\n",
        "```\n",
        "class Car:   # parent class\n",
        "  ...\n",
        "\n",
        "class TataCar(Car)  # child class inherit parent\n",
        "  ....\n",
        "```\n",
        "\n",
        "\n",
        "* Multiple inheritance : properties are inherently generation by generation. extension of single inheritance\n",
        "\n",
        "```\n",
        "class Car:   # parent class\n",
        "  ...\n",
        "\n",
        "class TataCar(Car):  # child class inherit parent\n",
        "  ....\n",
        "\n",
        "class Nexa(TataCar): # having all properties of TataCar and Car class\n",
        "    ...\n",
        "```\n",
        "\n",
        "* Multiple Inheritance : one child class has multiple parents.\n",
        "\n",
        "```\n",
        "class A:    # parent 1 class\n",
        "    ...\n",
        "class B:    # parent 2 class\n",
        "    ...\n",
        "class C(A,B):  # derived class\n",
        "    ...\n",
        "```"
      ],
      "metadata": {
        "id": "V_nxIU6iPooB"
      }
    },
    {
      "cell_type": "markdown",
      "source": [
        "### `Super method` :used to acess methods of the parent class\n",
        "- if we have to access parents class constructor of function or etc, we need to use `super()`\n",
        "\n",
        "\n",
        "\n"
      ],
      "metadata": {
        "id": "0h0h8Kmb2x9s"
      }
    },
    {
      "cell_type": "code",
      "source": [
        "class A:\n",
        "    def __init__(self):\n",
        "        print(\"A constructor\")\n",
        "    @staticmethod\n",
        "    def start():\n",
        "        print(\"hello start\")\n",
        "class B(A):\n",
        "    def __init__(self,name):\n",
        "        print(\"B constructor\")\n",
        "        self.name=name\n",
        "        print(self.name)\n",
        "\n",
        "C=B(\"ujjwal\")"
      ],
      "metadata": {
        "id": "_zISAoJUPmvb",
        "colab": {
          "base_uri": "https://localhost:8080/"
        },
        "outputId": "fe4c75ee-4a62-4513-da63-df77a78f7ac9"
      },
      "execution_count": 174,
      "outputs": [
        {
          "output_type": "stream",
          "name": "stdout",
          "text": [
            "B constructor\n",
            "ujjwal\n"
          ]
        }
      ]
    },
    {
      "cell_type": "code",
      "source": [
        "class A:\n",
        "    def __init__(self):\n",
        "        print(\"A constructor\")\n",
        "    @staticmethod\n",
        "    def start():\n",
        "        print(\"hello start\")\n",
        "class B(A):\n",
        "    def __init__(self,name):\n",
        "        print(\"B constructor\")\n",
        "        self.name=name\n",
        "        print(self.name)\n",
        "        super().__init__()  # calling parent class constructor\n",
        "        super().start()  # calling parent class method\n",
        "\n",
        "C=B(\"ujjwal\")"
      ],
      "metadata": {
        "colab": {
          "base_uri": "https://localhost:8080/"
        },
        "id": "TDJidSix-e-Q",
        "outputId": "0b3210e2-f526-463e-9b5f-e05a577f06c9"
      },
      "execution_count": 175,
      "outputs": [
        {
          "output_type": "stream",
          "name": "stdout",
          "text": [
            "B constructor\n",
            "ujjwal\n",
            "A constructor\n",
            "hello start\n"
          ]
        }
      ]
    },
    {
      "cell_type": "markdown",
      "source": [
        "### **class method** : class method is bound to the class and receives the class as an implicit first argument.\n",
        "- Note: static method can't acess or modify class state and generally fot utility."
      ],
      "metadata": {
        "id": "uZwjxiPQApEX"
      }
    },
    {
      "cell_type": "code",
      "source": [
        "class Person:\n",
        "    name=\"anonymous\"\n",
        "\n",
        "    def changeName(self,name):\n",
        "        self.name=name\n",
        "\n",
        "p1=Person()\n",
        "print(p1.name)\n",
        "p1.changeName(\"Ujjwal\")  # only change the instance, not changing the class attribute name\n",
        "print(p1.name)"
      ],
      "metadata": {
        "colab": {
          "base_uri": "https://localhost:8080/"
        },
        "id": "7nZLT4nH_y6Y",
        "outputId": "a05280e0-b6d4-45ae-8763-b900021b9d7f"
      },
      "execution_count": 176,
      "outputs": [
        {
          "output_type": "stream",
          "name": "stdout",
          "text": [
            "anonymous\n",
            "Ujjwal\n"
          ]
        }
      ]
    },
    {
      "cell_type": "code",
      "source": [
        "print(Person.name)   # class attribute didn't change"
      ],
      "metadata": {
        "colab": {
          "base_uri": "https://localhost:8080/"
        },
        "id": "T-dBcHLNCvOR",
        "outputId": "84568f87-cd0a-4455-b6c1-04c5fde9c538"
      },
      "execution_count": 177,
      "outputs": [
        {
          "output_type": "stream",
          "name": "stdout",
          "text": [
            "anonymous\n"
          ]
        }
      ]
    },
    {
      "cell_type": "markdown",
      "source": [
        "* ways to change, class attribute\n",
        "1. ```\n",
        "    def changeName(self,name):\n",
        "        Person.name=name\n",
        "```\n",
        "\n",
        "2. ```\n",
        "    def changeName(self,name):\n",
        "        self.__class__.name=name\n",
        "```\n",
        "\n",
        "3. ```\n",
        "    @classmethod\n",
        "    def changeName(cls,name):       # cls 'class' default argument\n",
        "        cls.name=name\n",
        "```"
      ],
      "metadata": {
        "id": "ybs0BUjhJCPS"
      }
    },
    {
      "cell_type": "markdown",
      "source": [
        "### we use **@property** decorator on any method in the class to use the method as a property"
      ],
      "metadata": {
        "id": "J3eXRrzGKYUV"
      }
    },
    {
      "cell_type": "code",
      "source": [
        "class Student:\n",
        "    def __init__(self,phy,chem,math):\n",
        "        self.phy=phy\n",
        "        self.chem=chem\n",
        "        self.math=math\n",
        "        self.totalInclass=self.phy+self.chem+self.math\n",
        "\n",
        "    @property\n",
        "    def total(self):    # total will act as attribute, not as a function\n",
        "        return self.phy+self.chem+self.math"
      ],
      "metadata": {
        "id": "SiJOcFQqIrDK"
      },
      "execution_count": 178,
      "outputs": []
    },
    {
      "cell_type": "code",
      "source": [
        "Satyabh=Student(100,80,90)\n",
        "print(Satyabh.total)\n",
        "print(Satyabh.totalInclass)"
      ],
      "metadata": {
        "colab": {
          "base_uri": "https://localhost:8080/"
        },
        "id": "kNOJskYjNSD9",
        "outputId": "bf65fe3e-1ef1-4e12-aa5a-c0947bcf9419"
      },
      "execution_count": 179,
      "outputs": [
        {
          "output_type": "stream",
          "name": "stdout",
          "text": [
            "270\n",
            "270\n"
          ]
        }
      ]
    },
    {
      "cell_type": "code",
      "source": [
        "# now we will update the value of phy from 100 to 50\n",
        "Satyabh.phy=50\n",
        "print(Satyabh.total)    # will be automatically updated\n",
        "print(Satyabh.totalInclass)  # will remain same as it was earlier"
      ],
      "metadata": {
        "colab": {
          "base_uri": "https://localhost:8080/"
        },
        "id": "Zhe6xL-TNhbE",
        "outputId": "a19d7029-e3a4-4224-cb1d-85c7a3a170e4"
      },
      "execution_count": 180,
      "outputs": [
        {
          "output_type": "stream",
          "name": "stdout",
          "text": [
            "220\n",
            "270\n"
          ]
        }
      ]
    },
    {
      "cell_type": "markdown",
      "source": [
        "### **Polymorphism**- **Operator overloading** : When the same operator is allowed to have different meaning according to the context"
      ],
      "metadata": {
        "id": "T5XUusYHN0pg"
      }
    },
    {
      "cell_type": "code",
      "source": [
        "# Operator overloading i.e implicit overloading i.e default in python\n",
        "print(1+2)   # summation\n",
        "print(\"Ujjwal\"+\" Singh\") #concatination\n",
        "print([1,2,3]+[4,5,6])  # merging"
      ],
      "metadata": {
        "colab": {
          "base_uri": "https://localhost:8080/"
        },
        "id": "aU-1sGAgNp1z",
        "outputId": "3434acc8-3df7-4e33-aa2e-06f76f75c58d"
      },
      "execution_count": 181,
      "outputs": [
        {
          "output_type": "stream",
          "name": "stdout",
          "text": [
            "3\n",
            "Ujjwal Singh\n",
            "[1, 2, 3, 4, 5, 6]\n"
          ]
        }
      ]
    },
    {
      "cell_type": "code",
      "source": [
        "class Complex:\n",
        "    def __init__(self,real,img):\n",
        "        self.real=real\n",
        "        self.img=img\n",
        "    def showNumber(self):\n",
        "        print(self.real,\"i +\",self.img,\"j\")\n",
        "\n",
        "    # creating dunder function\n",
        "    def __add__(self,num2):\n",
        "        r=self.real+num2.real\n",
        "        i=self.img+num2.img\n",
        "        return Complex(r,i)\n",
        "\n",
        "    # creating dunder function for subtraction\n",
        "    def __sub__(self,num2):\n",
        "        r=self.real-num2.real\n",
        "        i=self.img-num2.img\n",
        "        return Complex(r,i)\n",
        "\n",
        "num1=Complex(1,2)\n",
        "num2=Complex(3,4)\n",
        "num1.showNumber()\n",
        "num2.showNumber()"
      ],
      "metadata": {
        "colab": {
          "base_uri": "https://localhost:8080/"
        },
        "id": "RGFoMajmO2Tl",
        "outputId": "44780f55-4a16-4d5b-8ff7-ca12aad9babc"
      },
      "execution_count": 182,
      "outputs": [
        {
          "output_type": "stream",
          "name": "stdout",
          "text": [
            "1 i + 2 j\n",
            "3 i + 4 j\n"
          ]
        }
      ]
    },
    {
      "cell_type": "code",
      "source": [
        "num3=num1+num2\n",
        "num3.showNumber()"
      ],
      "metadata": {
        "colab": {
          "base_uri": "https://localhost:8080/"
        },
        "id": "nxbhr6GkQgBS",
        "outputId": "6f63c2c2-2fcf-4bf4-c5c4-365381adb37c"
      },
      "execution_count": 184,
      "outputs": [
        {
          "output_type": "stream",
          "name": "stdout",
          "text": [
            "4 i + 6 j\n"
          ]
        }
      ]
    },
    {
      "cell_type": "code",
      "source": [
        "num4=num1-num2\n",
        "num4.showNumber()"
      ],
      "metadata": {
        "colab": {
          "base_uri": "https://localhost:8080/"
        },
        "id": "Ig-uJgmpSsZa",
        "outputId": "634c5efa-6e2d-46eb-834e-c8be9e85b081"
      },
      "execution_count": 183,
      "outputs": [
        {
          "output_type": "stream",
          "name": "stdout",
          "text": [
            "-2 i + -2 j\n"
          ]
        }
      ]
    },
    {
      "cell_type": "markdown",
      "source": [
        "Question: define a Circle Class to create a circle with radius r using the constructor. Define an Area() method of the class which calculates the area of the circle. Define a perimeter() method of the class which allows you to calculate the perimeter of the circle"
      ],
      "metadata": {
        "id": "RekgCWYYxNgN"
      }
    },
    {
      "cell_type": "code",
      "source": [
        "class Circle:\n",
        "    def __init__(self,r):\n",
        "        self.r=r\n",
        "        print(\"Radius is \",r)\n",
        "    def Area(self):\n",
        "        print(\"Area is \",3.14*self.r*self.r)\n",
        "    def Perimeter(self):\n",
        "        print(\"Perimeter is \",2*3.14*self.r)\n",
        "c1=Circle(7)\n",
        "print(c1.Area())\n",
        "print(c1.Perimeter())\n"
      ],
      "metadata": {
        "colab": {
          "base_uri": "https://localhost:8080/"
        },
        "id": "XTVbR1OEwQIg",
        "outputId": "2ce65108-913c-402b-d88a-799ead3ee95b"
      },
      "execution_count": 185,
      "outputs": [
        {
          "output_type": "stream",
          "name": "stdout",
          "text": [
            "Radius is  7\n",
            "Area is  153.86\n",
            "None\n",
            "Perimeter is  43.96\n",
            "None\n"
          ]
        }
      ]
    },
    {
      "cell_type": "markdown",
      "source": [
        "Question: Create a class Order which stores items and its price.\n",
        "use Dunder function __gt__() to convey that:\n",
        "orer1>order2 if price of order1 > order2"
      ],
      "metadata": {
        "id": "000mrIP3zR-O"
      }
    },
    {
      "cell_type": "code",
      "source": [
        "class Order:\n",
        "    def __init__(self,item,price):\n",
        "        self.item=item\n",
        "        self.price=price\n",
        "\n",
        "    def __gt__(self,order2):\n",
        "        if(self.price>order2.price):\n",
        "            print(\"order1 > order2\")\n",
        "        else:\n",
        "            print(\"order1 < order2\")\n",
        "\n",
        "ord1=Order(\"strawberry\",30)\n",
        "ord2=Order(\"mango\",50)\n",
        "ord1>ord2"
      ],
      "metadata": {
        "id": "cd-vGo2EywzS"
      },
      "execution_count": null,
      "outputs": []
    },
    {
      "cell_type": "markdown",
      "source": [
        "* Completed some basics revision of python\n",
        "  - Variabes and Datatypes\n",
        "  - Strings\n",
        "  - Conditional statements\n",
        "  - Loop\n",
        "  - functions\n",
        "  - recursion\n",
        "  - list\n",
        "  - set\n",
        "  - dictionary\n",
        "  - etc...."
      ],
      "metadata": {
        "id": "9xURK1ak0x_S"
      }
    }
  ]
}