{
 "cells": [
  {
   "cell_type": "markdown",
   "id": "91b56c83-969a-4061-8606-a9ae803bc5ec",
   "metadata": {},
   "source": [
    "### Part-1 : array ###"
   ]
  },
  {
   "cell_type": "code",
   "execution_count": 2,
   "id": "c69dfdb3-cb70-40c7-89a7-c1f5c0bdef10",
   "metadata": {},
   "outputs": [],
   "source": [
    "import numpy as np"
   ]
  },
  {
   "cell_type": "code",
   "execution_count": 3,
   "id": "ed41490d-54c4-4c86-a265-77ffcc1d4136",
   "metadata": {},
   "outputs": [
    {
     "name": "stdout",
     "output_type": "stream",
     "text": [
      "[1, 2, 3, 4, 5]\n"
     ]
    }
   ],
   "source": [
    "list=[1,2,3,4,5]\n",
    "print(list)"
   ]
  },
  {
   "cell_type": "markdown",
   "id": "49875109-1dc8-45fb-9b0e-7d35f570f79f",
   "metadata": {},
   "source": [
    "### Defining array ###"
   ]
  },
  {
   "cell_type": "code",
   "execution_count": 4,
   "id": "a5ea23bd-69e0-433b-b7b6-ef87b2d774fd",
   "metadata": {},
   "outputs": [
    {
     "name": "stdout",
     "output_type": "stream",
     "text": [
      "1D-array\n",
      "[1 2 3 4 5]\n"
     ]
    }
   ],
   "source": [
    "print(\"1D-array\")\n",
    "a=np.array([1,2,3,4,5])\n",
    "print(a)\n"
   ]
  },
  {
   "cell_type": "code",
   "execution_count": 5,
   "id": "7c3749ab-1d9f-4574-95c4-b9f2ff0b885f",
   "metadata": {},
   "outputs": [
    {
     "name": "stdout",
     "output_type": "stream",
     "text": [
      "2D-array\n",
      "[[ 1  2  3  4  5]\n",
      " [ 6  7  8  9 10]]\n"
     ]
    }
   ],
   "source": [
    "print(\"2D-array\")\n",
    "b=np.array([[1,2,3,4,5], [6,7,8,9,10]])\n",
    "print(b)"
   ]
  },
  {
   "cell_type": "code",
   "execution_count": 6,
   "id": "1fec6787-02a8-4d66-9016-c889bdbc9c75",
   "metadata": {},
   "outputs": [
    {
     "name": "stdout",
     "output_type": "stream",
     "text": [
      "3D-array\n",
      "[[[ 1  2  3  4]\n",
      "  [ 5  6  7  8]\n",
      "  [ 9 10 11 12]]]\n"
     ]
    }
   ],
   "source": [
    "print(\"3D-array\")\n",
    "c=np.array([[[1,2,3,4],[5,6,7,8],[9,10,11,12]]])\n",
    "print(c)"
   ]
  },
  {
   "cell_type": "markdown",
   "id": "ab800ef6-b25d-42e5-9897-7972523c402f",
   "metadata": {},
   "source": [
    "### finding type ###"
   ]
  },
  {
   "cell_type": "code",
   "execution_count": 7,
   "id": "a37b0770-a820-4e1a-93e6-e21ee48ba38e",
   "metadata": {},
   "outputs": [
    {
     "data": {
      "text/plain": [
       "numpy.ndarray"
      ]
     },
     "execution_count": 7,
     "metadata": {},
     "output_type": "execute_result"
    }
   ],
   "source": [
    "type(a)"
   ]
  },
  {
   "cell_type": "markdown",
   "id": "d13b6b2a-42dd-4a8b-96a6-c41b98095e2d",
   "metadata": {},
   "source": [
    "### size gives total no of elements in that n array ###"
   ]
  },
  {
   "cell_type": "code",
   "execution_count": 8,
   "id": "8178efbb-6a8b-4269-97b5-2e696f4feba7",
   "metadata": {},
   "outputs": [
    {
     "name": "stdout",
     "output_type": "stream",
     "text": [
      "5\n",
      "10\n",
      "12\n"
     ]
    }
   ],
   "source": [
    "print(a.size)\n",
    "print(b.size)\n",
    "print(c.size)"
   ]
  },
  {
   "cell_type": "markdown",
   "id": "e79eae1e-62db-400c-a928-95bba2561b37",
   "metadata": {},
   "source": [
    "### shape gives (rows,col) ###"
   ]
  },
  {
   "cell_type": "code",
   "execution_count": 9,
   "id": "fc673999-5768-456b-83ef-ea74ad2242fa",
   "metadata": {},
   "outputs": [
    {
     "name": "stdout",
     "output_type": "stream",
     "text": [
      "(5,)\n",
      "(2, 5)\n",
      "(1, 3, 4)\n"
     ]
    }
   ],
   "source": [
    "print(a.shape)\n",
    "print(b.shape)\n",
    "print(c.shape)"
   ]
  },
  {
   "cell_type": "markdown",
   "id": "1861976c-1580-4507-b6c2-0a989e4d77bf",
   "metadata": {},
   "source": [
    "### 1 - 3D data of 3 rows and 4 col ###"
   ]
  },
  {
   "cell_type": "markdown",
   "id": "ae2ade99-a5e1-46fc-979f-c42c940c178c",
   "metadata": {},
   "source": [
    "### dtype - type of data present in array ###"
   ]
  },
  {
   "cell_type": "code",
   "execution_count": 10,
   "id": "34bbc599-6e79-4c58-b269-8115985c0dfa",
   "metadata": {},
   "outputs": [
    {
     "name": "stdout",
     "output_type": "stream",
     "text": [
      "int32\n",
      "int32\n",
      "int32\n"
     ]
    }
   ],
   "source": [
    "print(a.dtype)\n",
    "print(b.dtype)\n",
    "print(c.dtype)"
   ]
  },
  {
   "cell_type": "code",
   "execution_count": 11,
   "id": "8f5606f4-004f-4dd1-86f1-c234b6c9e9cf",
   "metadata": {},
   "outputs": [
    {
     "name": "stdout",
     "output_type": "stream",
     "text": [
      "[[[1.  2.4 3. ]\n",
      "  [6.2 2.  2. ]\n",
      "  [1.  5.5 0.8]]]\n",
      "float64\n"
     ]
    }
   ],
   "source": [
    "d=np.array([[[1,2.4,3],[6.2,2,2.0],[1,5.5,0.8]]])\n",
    "print(d)\n",
    "print(d.dtype)"
   ]
  },
  {
   "cell_type": "code",
   "execution_count": 12,
   "id": "f1a7b86c-e769-454b-a5b8-66a82229dbdb",
   "metadata": {},
   "outputs": [
    {
     "data": {
      "text/plain": [
       "array([[[1. ],\n",
       "        [6.2],\n",
       "        [1. ]],\n",
       "\n",
       "       [[2.4],\n",
       "        [2. ],\n",
       "        [5.5]],\n",
       "\n",
       "       [[3. ],\n",
       "        [2. ],\n",
       "        [0.8]]])"
      ]
     },
     "execution_count": 12,
     "metadata": {},
     "output_type": "execute_result"
    }
   ],
   "source": [
    "#make transpose of a function\n",
    "d.transpose()"
   ]
  },
  {
   "cell_type": "markdown",
   "id": "50803bb3-c255-4f17-879c-52ea5e4c614d",
   "metadata": {},
   "source": [
    "## Part-2 : ones, zero , empty ##"
   ]
  },
  {
   "cell_type": "markdown",
   "id": "88a43b7a-69a8-4c9f-a48a-e9bfd92e70d9",
   "metadata": {},
   "source": [
    "### np.empty((tensor size) , dtype= datatype) ###\n",
    "### np.ones((tensor size) , dtype= datatype) ###\n",
    "### np.zeros((tensor size) , dtype= datatype) ###\n",
    "### default dtype : float , if tensor size has one parameter : represent columns ###"
   ]
  },
  {
   "cell_type": "code",
   "execution_count": 69,
   "id": "19d21b0f-c64e-4285-8417-a656186c6593",
   "metadata": {},
   "outputs": [
    {
     "data": {
      "text/plain": [
       "array([[117, 106, 106],\n",
       "       [119,  97, 108]])"
      ]
     },
     "execution_count": 69,
     "metadata": {},
     "output_type": "execute_result"
    }
   ],
   "source": [
    "np.empty((2,3),dtype=int)"
   ]
  },
  {
   "cell_type": "code",
   "execution_count": 70,
   "id": "ef39c4c6-b294-4607-89d5-6b9f5e0579f3",
   "metadata": {},
   "outputs": [
    {
     "data": {
      "text/plain": [
       "array([1., 1., 1.])"
      ]
     },
     "execution_count": 70,
     "metadata": {},
     "output_type": "execute_result"
    }
   ],
   "source": [
    "np.ones(3)"
   ]
  },
  {
   "cell_type": "code",
   "execution_count": 71,
   "id": "02e4f089-8cdb-4d0c-b690-5e389bb4e47b",
   "metadata": {},
   "outputs": [
    {
     "data": {
      "text/plain": [
       "array([['1', '1', '1'],\n",
       "       ['1', '1', '1'],\n",
       "       ['1', '1', '1']], dtype='<U1')"
      ]
     },
     "execution_count": 71,
     "metadata": {},
     "output_type": "execute_result"
    }
   ],
   "source": [
    "np.ones((3,3),dtype=str)"
   ]
  },
  {
   "cell_type": "code",
   "execution_count": 72,
   "id": "e5aed2a1-957f-436d-860b-0614b42d3e1a",
   "metadata": {},
   "outputs": [
    {
     "data": {
      "text/plain": [
       "array([[ True,  True,  True],\n",
       "       [ True,  True,  True],\n",
       "       [ True,  True,  True]])"
      ]
     },
     "execution_count": 72,
     "metadata": {},
     "output_type": "execute_result"
    }
   ],
   "source": [
    "np.ones((3,3),dtype=bool)"
   ]
  },
  {
   "cell_type": "code",
   "execution_count": 73,
   "id": "0720e717-04c9-47fd-aee1-5ebfe3100836",
   "metadata": {},
   "outputs": [
    {
     "data": {
      "text/plain": [
       "array([['', '', ''],\n",
       "       ['', '', ''],\n",
       "       ['', '', '']], dtype='<U1')"
      ]
     },
     "execution_count": 73,
     "metadata": {},
     "output_type": "execute_result"
    }
   ],
   "source": [
    "np.zeros((3,3),dtype=str)"
   ]
  },
  {
   "cell_type": "code",
   "execution_count": 74,
   "id": "ad62e539-7aa7-4c82-ae4c-e267f1a56942",
   "metadata": {},
   "outputs": [
    {
     "data": {
      "text/plain": [
       "array([['1', '1', '1'],\n",
       "       ['1', '1', '1'],\n",
       "       ['1', '1', '1']], dtype='<U1')"
      ]
     },
     "execution_count": 74,
     "metadata": {},
     "output_type": "execute_result"
    }
   ],
   "source": [
    "np.ones((3,3),dtype=str)"
   ]
  },
  {
   "cell_type": "code",
   "execution_count": 75,
   "id": "5cecb826-ff70-4df0-a7f2-79743e8d44ba",
   "metadata": {},
   "outputs": [
    {
     "data": {
      "text/plain": [
       "array([[1, 1, 1],\n",
       "       [1, 1, 1],\n",
       "       [1, 1, 1]])"
      ]
     },
     "execution_count": 75,
     "metadata": {},
     "output_type": "execute_result"
    }
   ],
   "source": [
    "np.ones((3,3),dtype=int)"
   ]
  },
  {
   "cell_type": "markdown",
   "id": "cefcfc63-0e42-4bee-a5c9-95dbf3b9d867",
   "metadata": {},
   "source": [
    "## Part-3 : More on Arrays ##"
   ]
  },
  {
   "cell_type": "markdown",
   "id": "d7450745-cbf4-4618-ae98-c0bc60122727",
   "metadata": {},
   "source": [
    "### np.arange(start, end, step) ###    \n",
    "where step is optional\n",
    "it works like a for loop"
   ]
  },
  {
   "cell_type": "code",
   "execution_count": 24,
   "id": "dbe709fa-1a7c-42e7-afcb-9cd67630b1c2",
   "metadata": {},
   "outputs": [
    {
     "name": "stdout",
     "output_type": "stream",
     "text": [
      "[ 1  2  3  4  5  6  7  8  9 10 11 12 13 14 15 16 17 18 19]\n"
     ]
    }
   ],
   "source": [
    "a=np.arange(1,20)\n",
    "print(a)"
   ]
  },
  {
   "cell_type": "code",
   "execution_count": 25,
   "id": "a3054283-864c-438e-8828-00be6e229e60",
   "metadata": {},
   "outputs": [
    {
     "name": "stdout",
     "output_type": "stream",
     "text": [
      "[ 1  3  5  7  9 11 13 15 17 19]\n"
     ]
    }
   ],
   "source": [
    "b=np.arange(1,20,2)\n",
    "print(b)"
   ]
  },
  {
   "cell_type": "code",
   "execution_count": 27,
   "id": "ff406503-b759-47c0-8b19-49d210ab4dee",
   "metadata": {},
   "outputs": [
    {
     "name": "stdout",
     "output_type": "stream",
     "text": [
      "[ 2  4  6  8 10 12 14 16 18]\n"
     ]
    }
   ],
   "source": [
    "c=np.arange(2,20,2)\n",
    "print(c)"
   ]
  },
  {
   "cell_type": "markdown",
   "id": "11472d05-09e1-4eab-8521-2d708db0cd4d",
   "metadata": {},
   "source": [
    "### arr.reshape(rows,cols) ###\n",
    "used to convert a single array into multidimensional array"
   ]
  },
  {
   "cell_type": "code",
   "execution_count": 32,
   "id": "0cc39265-7c3b-495e-afde-7184bf7c325d",
   "metadata": {},
   "outputs": [
    {
     "name": "stdout",
     "output_type": "stream",
     "text": [
      "[[ 2  4  6]\n",
      " [ 8 10 12]\n",
      " [14 16 18]]\n"
     ]
    }
   ],
   "source": [
    "c=c.reshape(3,3)\n",
    "print(c)"
   ]
  },
  {
   "cell_type": "code",
   "execution_count": 36,
   "id": "8ecedae9-d0d8-4a1a-b486-818e87511c85",
   "metadata": {},
   "outputs": [
    {
     "name": "stdout",
     "output_type": "stream",
     "text": [
      "[[ 1  3  5  7  9]\n",
      " [11 13 15 17 19]]\n"
     ]
    }
   ],
   "source": [
    "b=b.reshape(2,5)\n",
    "print(b)"
   ]
  },
  {
   "cell_type": "markdown",
   "id": "a1d22de1-8649-4323-bacf-3ae71582c437",
   "metadata": {},
   "source": [
    "### arr.flatten() ###\n",
    "it is inverse of reshape function and convert multidimensional array in to single array"
   ]
  },
  {
   "cell_type": "code",
   "execution_count": 37,
   "id": "dafb4589-983d-4dcd-94cd-76062198f7b0",
   "metadata": {},
   "outputs": [
    {
     "name": "stdout",
     "output_type": "stream",
     "text": [
      "[ 1  3  5  7  9 11 13 15 17 19]\n"
     ]
    }
   ],
   "source": [
    "b=b.flatten()\n",
    "print(b)"
   ]
  },
  {
   "cell_type": "markdown",
   "id": "a38eb39b-4614-4a2c-8ad8-ccf2aaa1e6e2",
   "metadata": {},
   "source": [
    "### arr.ravel() ###\n",
    "it is also inverse of reshape function"
   ]
  },
  {
   "cell_type": "code",
   "execution_count": 40,
   "id": "97b1f9d6-30cd-4b58-9281-cfd57bd46efb",
   "metadata": {},
   "outputs": [
    {
     "name": "stdout",
     "output_type": "stream",
     "text": [
      "[ 2  4  6  8 10 12 14 16 18]\n"
     ]
    }
   ],
   "source": [
    "c=c.ravel()\n",
    "print(c)"
   ]
  },
  {
   "cell_type": "markdown",
   "id": "9984f4bd-fd51-4ee8-aa1f-ae8fa48ca04a",
   "metadata": {},
   "source": [
    "# ravel ###\n",
    "return reference of original array, original array also get changes and faster and library level function\n",
    "### faltten ###\n",
    "return copy of original array, original array is unaffected and slower due to occupying extra space and is method of ndarray object"
   ]
  },
  {
   "cell_type": "markdown",
   "id": "f550a067-a899-4eef-8840-03cc35e7c53f",
   "metadata": {},
   "source": [
    "## Part - 4 : Array indexing ##"
   ]
  },
  {
   "cell_type": "code",
   "execution_count": 41,
   "id": "34e6cea1-3b1e-4280-bb87-fbb230efe4ae",
   "metadata": {},
   "outputs": [
    {
     "data": {
      "text/plain": [
       "array([[ 1,  2,  3,  4,  5],\n",
       "       [ 6,  7,  8,  9, 10],\n",
       "       [11, 12, 13, 14, 15],\n",
       "       [16, 17, 18, 19, 20],\n",
       "       [21, 22, 23, 24, 25],\n",
       "       [26, 27, 28, 29, 30],\n",
       "       [31, 32, 33, 34, 35],\n",
       "       [36, 37, 38, 39, 40],\n",
       "       [41, 42, 43, 44, 45],\n",
       "       [46, 47, 48, 49, 50]])"
      ]
     },
     "execution_count": 41,
     "metadata": {},
     "output_type": "execute_result"
    }
   ],
   "source": [
    "a=np.arange(1,51)\n",
    "a=a.reshape(10,5)\n",
    "a"
   ]
  },
  {
   "cell_type": "code",
   "execution_count": 42,
   "id": "c3fdbf30-6a2a-4909-afe5-d1b0c057f774",
   "metadata": {},
   "outputs": [
    {
     "data": {
      "text/plain": [
       "array([1, 2, 3, 4, 5])"
      ]
     },
     "execution_count": 42,
     "metadata": {},
     "output_type": "execute_result"
    }
   ],
   "source": [
    "# ptint zeroth row\n",
    "a[0]"
   ]
  },
  {
   "cell_type": "code",
   "execution_count": 50,
   "id": "599736ab-9299-4d57-9f32-91e0da519d96",
   "metadata": {},
   "outputs": [
    {
     "data": {
      "text/plain": [
       "array([11, 12, 13, 14, 15])"
      ]
     },
     "execution_count": 50,
     "metadata": {},
     "output_type": "execute_result"
    }
   ],
   "source": [
    "a[2]"
   ]
  },
  {
   "cell_type": "code",
   "execution_count": 51,
   "id": "78f56a3a-98c4-44a4-9e9a-655a83b2e6a8",
   "metadata": {},
   "outputs": [
    {
     "data": {
      "text/plain": [
       "1"
      ]
     },
     "execution_count": 51,
     "metadata": {},
     "output_type": "execute_result"
    }
   ],
   "source": [
    "a[0,0]"
   ]
  },
  {
   "cell_type": "code",
   "execution_count": 52,
   "id": "da489591-67b8-4e94-ad15-a7d8f88a845e",
   "metadata": {},
   "outputs": [
    {
     "data": {
      "text/plain": [
       "20"
      ]
     },
     "execution_count": 52,
     "metadata": {},
     "output_type": "execute_result"
    }
   ],
   "source": [
    "# print index 3,4\n",
    "a[3,4]"
   ]
  },
  {
   "cell_type": "code",
   "execution_count": 53,
   "id": "d4847503-5389-4e7b-bba1-0822321ccc6f",
   "metadata": {},
   "outputs": [
    {
     "data": {
      "text/plain": [
       "array([[11, 12, 13, 14, 15],\n",
       "       [16, 17, 18, 19, 20],\n",
       "       [21, 22, 23, 24, 25]])"
      ]
     },
     "execution_count": 53,
     "metadata": {},
     "output_type": "execute_result"
    }
   ],
   "source": [
    "a[2:5]\n",
    "# print rows 2, 3 and 4"
   ]
  },
  {
   "cell_type": "code",
   "execution_count": 55,
   "id": "6a2b037a-05f9-4c31-b210-28d817ce31c9",
   "metadata": {},
   "outputs": [
    {
     "data": {
      "text/plain": [
       "array([[ 1,  2,  3,  4,  5],\n",
       "       [ 6,  7,  8,  9, 10],\n",
       "       [11, 12, 13, 14, 15],\n",
       "       [16, 17, 18, 19, 20],\n",
       "       [21, 22, 23, 24, 25],\n",
       "       [26, 27, 28, 29, 30],\n",
       "       [31, 32, 33, 34, 35],\n",
       "       [36, 37, 38, 39, 40],\n",
       "       [41, 42, 43, 44, 45],\n",
       "       [46, 47, 48, 49, 50]])"
      ]
     },
     "execution_count": 55,
     "metadata": {},
     "output_type": "execute_result"
    }
   ],
   "source": [
    "a[0:10]\n",
    "# if last row more than actual row, it will not give any error"
   ]
  },
  {
   "cell_type": "code",
   "execution_count": 56,
   "id": "0295ddad-f3cb-4ea2-9f20-8d08e70360c6",
   "metadata": {},
   "outputs": [
    {
     "data": {
      "text/plain": [
       "array([[ 1,  2,  3,  4,  5],\n",
       "       [ 6,  7,  8,  9, 10],\n",
       "       [11, 12, 13, 14, 15],\n",
       "       [16, 17, 18, 19, 20],\n",
       "       [21, 22, 23, 24, 25],\n",
       "       [26, 27, 28, 29, 30],\n",
       "       [31, 32, 33, 34, 35],\n",
       "       [36, 37, 38, 39, 40],\n",
       "       [41, 42, 43, 44, 45],\n",
       "       [46, 47, 48, 49, 50]])"
      ]
     },
     "execution_count": 56,
     "metadata": {},
     "output_type": "execute_result"
    }
   ],
   "source": [
    "a[0:100]"
   ]
  },
  {
   "cell_type": "markdown",
   "id": "3839db86-61f7-4fe8-97ee-6ed62206b3af",
   "metadata": {},
   "source": [
    "### to print specific column ###\n",
    "arr[initialrow:finalrow, columnnumber]  or\n",
    "arr[:,colNumber]\n"
   ]
  },
  {
   "cell_type": "code",
   "execution_count": 57,
   "id": "fad15116-7cd0-468f-a137-8f91b422b2b4",
   "metadata": {},
   "outputs": [
    {
     "data": {
      "text/plain": [
       "array([ 5, 10, 15, 20, 25, 30, 35, 40, 45, 50])"
      ]
     },
     "execution_count": 57,
     "metadata": {},
     "output_type": "execute_result"
    }
   ],
   "source": [
    "a[:,4]"
   ]
  },
  {
   "cell_type": "code",
   "execution_count": 59,
   "id": "0613eaf0-ee6f-4b87-baa3-14c38296801c",
   "metadata": {},
   "outputs": [
    {
     "data": {
      "text/plain": [
       "array([13, 18, 23, 28, 33])"
      ]
     },
     "execution_count": 59,
     "metadata": {},
     "output_type": "execute_result"
    }
   ],
   "source": [
    "a[2:7,2]"
   ]
  },
  {
   "cell_type": "code",
   "execution_count": 60,
   "id": "7c68d9e7-f13d-4ca0-9bc3-ead322c4587f",
   "metadata": {},
   "outputs": [
    {
     "data": {
      "text/plain": [
       "array([[ 1,  2,  3,  4,  5],\n",
       "       [ 6,  7,  8,  9, 10],\n",
       "       [11, 12, 13, 14, 15],\n",
       "       [16, 17, 18, 19, 20],\n",
       "       [21, 22, 23, 24, 25],\n",
       "       [26, 27, 28, 29, 30],\n",
       "       [31, 32, 33, 34, 35],\n",
       "       [36, 37, 38, 39, 40],\n",
       "       [41, 42, 43, 44, 45],\n",
       "       [46, 47, 48, 49, 50]])"
      ]
     },
     "execution_count": 60,
     "metadata": {},
     "output_type": "execute_result"
    }
   ],
   "source": [
    "# all rows and all column\n",
    "a[:,:]"
   ]
  },
  {
   "cell_type": "markdown",
   "id": "22c22c16-da85-4bf8-88cb-87441736dc55",
   "metadata": {},
   "source": [
    "### group of columns ###\n",
    "arr[:,c1:c2]"
   ]
  },
  {
   "cell_type": "code",
   "execution_count": 61,
   "id": "20b182b1-9e04-4ec6-8509-fd4ac19a8b67",
   "metadata": {},
   "outputs": [
    {
     "data": {
      "text/plain": [
       "array([[ 3,  4,  5],\n",
       "       [ 8,  9, 10],\n",
       "       [13, 14, 15],\n",
       "       [18, 19, 20],\n",
       "       [23, 24, 25],\n",
       "       [28, 29, 30],\n",
       "       [33, 34, 35],\n",
       "       [38, 39, 40],\n",
       "       [43, 44, 45],\n",
       "       [48, 49, 50]])"
      ]
     },
     "execution_count": 61,
     "metadata": {},
     "output_type": "execute_result"
    }
   ],
   "source": [
    "a[:,2:5]"
   ]
  },
  {
   "cell_type": "code",
   "execution_count": 62,
   "id": "58ac4418-b6db-425e-8c4d-84c91f3071f3",
   "metadata": {},
   "outputs": [
    {
     "data": {
      "text/plain": [
       "array([[1, 2],\n",
       "       [6, 7]])"
      ]
     },
     "execution_count": 62,
     "metadata": {},
     "output_type": "execute_result"
    }
   ],
   "source": [
    "a[0:2,0:2]"
   ]
  },
  {
   "cell_type": "code",
   "execution_count": 63,
   "id": "7fb5e370-615a-4549-9cde-f22a56c824f6",
   "metadata": {},
   "outputs": [
    {
     "data": {
      "text/plain": [
       "dtype('int32')"
      ]
     },
     "execution_count": 63,
     "metadata": {},
     "output_type": "execute_result"
    }
   ],
   "source": [
    "# checking data type\n",
    "a.dtype"
   ]
  },
  {
   "cell_type": "markdown",
   "id": "2d28e27b-3066-45d5-b7b8-5f0a4fcaf8d0",
   "metadata": {},
   "source": [
    "## Part - 5 ##"
   ]
  },
  {
   "cell_type": "markdown",
   "id": "a1409da9-f2d6-4e28-bfbc-b4e7039149ec",
   "metadata": {},
   "source": [
    "### operations on matrices ###"
   ]
  },
  {
   "cell_type": "code",
   "execution_count": 65,
   "id": "d2e75ca4-5457-414d-b31b-7a0032bd9307",
   "metadata": {},
   "outputs": [
    {
     "name": "stdout",
     "output_type": "stream",
     "text": [
      "[[ 0  1  2]\n",
      " [ 3  4  5]\n",
      " [ 6  7  8]\n",
      " [ 9 10 11]\n",
      " [12 13 14]\n",
      " [15 16 17]]\n",
      "[[20 21 22]\n",
      " [23 24 25]\n",
      " [26 27 28]\n",
      " [29 30 31]\n",
      " [32 33 34]\n",
      " [35 36 37]]\n"
     ]
    }
   ],
   "source": [
    "a=np.arange(0,18).reshape(6,3)\n",
    "b=np.arange(20,38).reshape(6,3)\n",
    "print(a)\n",
    "print(b)"
   ]
  },
  {
   "cell_type": "markdown",
   "id": "33153549-b093-4cde-a896-368f48f62fcf",
   "metadata": {},
   "source": [
    "### addition ###"
   ]
  },
  {
   "cell_type": "code",
   "execution_count": 66,
   "id": "17178425-81cb-446e-91a8-0159f8870791",
   "metadata": {},
   "outputs": [
    {
     "data": {
      "text/plain": [
       "array([[20, 22, 24],\n",
       "       [26, 28, 30],\n",
       "       [32, 34, 36],\n",
       "       [38, 40, 42],\n",
       "       [44, 46, 48],\n",
       "       [50, 52, 54]])"
      ]
     },
     "execution_count": 66,
     "metadata": {},
     "output_type": "execute_result"
    }
   ],
   "source": [
    "a+b"
   ]
  },
  {
   "cell_type": "code",
   "execution_count": 68,
   "id": "b9a71a5a-2332-4432-a88e-9bb0adab1eeb",
   "metadata": {},
   "outputs": [
    {
     "data": {
      "text/plain": [
       "array([[20, 22, 24],\n",
       "       [26, 28, 30],\n",
       "       [32, 34, 36],\n",
       "       [38, 40, 42],\n",
       "       [44, 46, 48],\n",
       "       [50, 52, 54]])"
      ]
     },
     "execution_count": 68,
     "metadata": {},
     "output_type": "execute_result"
    }
   ],
   "source": [
    "# giving the same addition result\n",
    "np.add(a,b)"
   ]
  },
  {
   "cell_type": "markdown",
   "id": "7acecb2b-b4db-49dd-9b7e-9ddb85e12213",
   "metadata": {},
   "source": [
    "### subtraction ###"
   ]
  },
  {
   "cell_type": "code",
   "execution_count": 69,
   "id": "3fa559bd-20d2-4b29-965f-17ccfac79d9a",
   "metadata": {},
   "outputs": [
    {
     "data": {
      "text/plain": [
       "array([[-20, -20, -20],\n",
       "       [-20, -20, -20],\n",
       "       [-20, -20, -20],\n",
       "       [-20, -20, -20],\n",
       "       [-20, -20, -20],\n",
       "       [-20, -20, -20]])"
      ]
     },
     "execution_count": 69,
     "metadata": {},
     "output_type": "execute_result"
    }
   ],
   "source": [
    "a-b"
   ]
  },
  {
   "cell_type": "code",
   "execution_count": 70,
   "id": "7576092f-84b5-4d19-b2af-756e9193251e",
   "metadata": {},
   "outputs": [
    {
     "data": {
      "text/plain": [
       "array([[20, 20, 20],\n",
       "       [20, 20, 20],\n",
       "       [20, 20, 20],\n",
       "       [20, 20, 20],\n",
       "       [20, 20, 20],\n",
       "       [20, 20, 20]])"
      ]
     },
     "execution_count": 70,
     "metadata": {},
     "output_type": "execute_result"
    }
   ],
   "source": [
    "np.subtract(b,a)"
   ]
  },
  {
   "cell_type": "markdown",
   "id": "e18e9966-7de7-4178-973b-48f0fce3eaed",
   "metadata": {},
   "source": [
    "### Khatri-Rao product ###"
   ]
  },
  {
   "cell_type": "code",
   "execution_count": 71,
   "id": "d545799f-ce67-4033-b668-5e152064ffb8",
   "metadata": {},
   "outputs": [
    {
     "data": {
      "text/plain": [
       "array([[  0,  21,  44],\n",
       "       [ 69,  96, 125],\n",
       "       [156, 189, 224],\n",
       "       [261, 300, 341],\n",
       "       [384, 429, 476],\n",
       "       [525, 576, 629]])"
      ]
     },
     "execution_count": 71,
     "metadata": {},
     "output_type": "execute_result"
    }
   ],
   "source": [
    "a*b"
   ]
  },
  {
   "cell_type": "code",
   "execution_count": 72,
   "id": "7a20598e-528a-426e-864c-3d789db2d551",
   "metadata": {},
   "outputs": [
    {
     "data": {
      "text/plain": [
       "array([[  0,  21,  44],\n",
       "       [ 69,  96, 125],\n",
       "       [156, 189, 224],\n",
       "       [261, 300, 341],\n",
       "       [384, 429, 476],\n",
       "       [525, 576, 629]])"
      ]
     },
     "execution_count": 72,
     "metadata": {},
     "output_type": "execute_result"
    }
   ],
   "source": [
    "np.multiply(a,b)"
   ]
  },
  {
   "cell_type": "markdown",
   "id": "7f75b195-9900-4034-a6b3-a29ecd049fca",
   "metadata": {},
   "source": [
    "### Division ###"
   ]
  },
  {
   "cell_type": "code",
   "execution_count": 73,
   "id": "debd9962-13b1-424b-9b10-c955dc3acf23",
   "metadata": {},
   "outputs": [
    {
     "data": {
      "text/plain": [
       "array([[0.        , 0.04761905, 0.09090909],\n",
       "       [0.13043478, 0.16666667, 0.2       ],\n",
       "       [0.23076923, 0.25925926, 0.28571429],\n",
       "       [0.31034483, 0.33333333, 0.35483871],\n",
       "       [0.375     , 0.39393939, 0.41176471],\n",
       "       [0.42857143, 0.44444444, 0.45945946]])"
      ]
     },
     "execution_count": 73,
     "metadata": {},
     "output_type": "execute_result"
    }
   ],
   "source": [
    "a/b"
   ]
  },
  {
   "cell_type": "code",
   "execution_count": 75,
   "id": "38ac10e5-cb49-422e-b2e3-67e3889e8184",
   "metadata": {},
   "outputs": [
    {
     "data": {
      "text/plain": [
       "array([[0.        , 0.04761905, 0.09090909],\n",
       "       [0.13043478, 0.16666667, 0.2       ],\n",
       "       [0.23076923, 0.25925926, 0.28571429],\n",
       "       [0.31034483, 0.33333333, 0.35483871],\n",
       "       [0.375     , 0.39393939, 0.41176471],\n",
       "       [0.42857143, 0.44444444, 0.45945946]])"
      ]
     },
     "execution_count": 75,
     "metadata": {},
     "output_type": "execute_result"
    }
   ],
   "source": [
    "np.divide(a,b)"
   ]
  },
  {
   "cell_type": "markdown",
   "id": "f929e9a9-e499-481d-9734-e0609bd36c4b",
   "metadata": {},
   "source": [
    "## Matrix Multiplication : @ ##"
   ]
  },
  {
   "cell_type": "markdown",
   "id": "7e1f35f9-b2b2-494b-9854-e090f2739f54",
   "metadata": {},
   "source": [
    "### make sure matrix should be compatible ###"
   ]
  },
  {
   "cell_type": "code",
   "execution_count": 80,
   "id": "5b8769cc-158c-4017-b27c-dcec511c7544",
   "metadata": {},
   "outputs": [
    {
     "data": {
      "text/plain": [
       "(3, 6)"
      ]
     },
     "execution_count": 80,
     "metadata": {},
     "output_type": "execute_result"
    }
   ],
   "source": [
    "a=a.reshape(3,6)\n",
    "a.shape"
   ]
  },
  {
   "cell_type": "code",
   "execution_count": 79,
   "id": "bfcb4edf-266b-4da3-aaf7-5dadb4e94abb",
   "metadata": {},
   "outputs": [
    {
     "data": {
      "text/plain": [
       "array([[ 465,  480,  495],\n",
       "       [1455, 1506, 1557],\n",
       "       [2445, 2532, 2619]])"
      ]
     },
     "execution_count": 79,
     "metadata": {},
     "output_type": "execute_result"
    }
   ],
   "source": [
    "a@b"
   ]
  },
  {
   "cell_type": "code",
   "execution_count": 81,
   "id": "091116ae-3d8f-4fd4-a968-09ed9b0dec85",
   "metadata": {},
   "outputs": [
    {
     "data": {
      "text/plain": [
       "array([[ 465,  480,  495],\n",
       "       [1455, 1506, 1557],\n",
       "       [2445, 2532, 2619]])"
      ]
     },
     "execution_count": 81,
     "metadata": {},
     "output_type": "execute_result"
    }
   ],
   "source": [
    "a.dot(b)"
   ]
  },
  {
   "cell_type": "markdown",
   "id": "69bcd92b-8319-4483-9540-a66e8183a7b1",
   "metadata": {},
   "source": [
    "### maxima and minima in array ###"
   ]
  },
  {
   "cell_type": "code",
   "execution_count": 83,
   "id": "c95db50e-8c84-4d09-b956-023434f10a7c",
   "metadata": {},
   "outputs": [
    {
     "data": {
      "text/plain": [
       "17"
      ]
     },
     "execution_count": 83,
     "metadata": {},
     "output_type": "execute_result"
    }
   ],
   "source": [
    "a.max()"
   ]
  },
  {
   "cell_type": "code",
   "execution_count": 84,
   "id": "23a85770-f3df-4cea-8e3a-f89c98cc92dd",
   "metadata": {},
   "outputs": [
    {
     "data": {
      "text/plain": [
       "37"
      ]
     },
     "execution_count": 84,
     "metadata": {},
     "output_type": "execute_result"
    }
   ],
   "source": [
    "b.max()"
   ]
  },
  {
   "cell_type": "code",
   "execution_count": 85,
   "id": "91f392c0-cbd8-4b7d-b2fb-aae78c3523a0",
   "metadata": {},
   "outputs": [
    {
     "data": {
      "text/plain": [
       "0"
      ]
     },
     "execution_count": 85,
     "metadata": {},
     "output_type": "execute_result"
    }
   ],
   "source": [
    "a.min()"
   ]
  },
  {
   "cell_type": "code",
   "execution_count": 87,
   "id": "c5ae0759-d864-495e-8765-e6ff1b19c849",
   "metadata": {},
   "outputs": [
    {
     "data": {
      "text/plain": [
       "2619"
      ]
     },
     "execution_count": 87,
     "metadata": {},
     "output_type": "execute_result"
    }
   ],
   "source": [
    "(a@b).max()"
   ]
  },
  {
   "cell_type": "code",
   "execution_count": 89,
   "id": "f8baace4-4ac9-4f66-98bd-00064e1517c4",
   "metadata": {},
   "outputs": [
    {
     "data": {
      "text/plain": [
       "17"
      ]
     },
     "execution_count": 89,
     "metadata": {},
     "output_type": "execute_result"
    }
   ],
   "source": [
    "# finding index of maximum\n",
    "a.argmax()"
   ]
  },
  {
   "cell_type": "markdown",
   "id": "ac2e30cd-52a5-4452-8869-9d03a14d037d",
   "metadata": {},
   "source": [
    "### sum of  elements of an array ###"
   ]
  },
  {
   "cell_type": "code",
   "execution_count": 97,
   "id": "811add03-1297-4346-ae32-c65b9ffc2f9e",
   "metadata": {},
   "outputs": [
    {
     "data": {
      "text/plain": [
       "513"
      ]
     },
     "execution_count": 97,
     "metadata": {},
     "output_type": "execute_result"
    }
   ],
   "source": [
    "# sum of all elements in an array\n",
    "np.sum(b)"
   ]
  },
  {
   "cell_type": "code",
   "execution_count": 95,
   "id": "5ee95bcb-4d41-49b9-90de-446e3dcd7276",
   "metadata": {},
   "outputs": [
    {
     "data": {
      "text/plain": [
       "array([ 63,  72,  81,  90,  99, 108])"
      ]
     },
     "execution_count": 95,
     "metadata": {},
     "output_type": "execute_result"
    }
   ],
   "source": [
    "# sum of rows , axis=1 for rows  . here total 5 rows so 5 output\n",
    "np.sum(b,axis=1)"
   ]
  },
  {
   "cell_type": "code",
   "execution_count": 96,
   "id": "961b4dc4-f823-4a0b-bc6a-fb9aef0f4afa",
   "metadata": {},
   "outputs": [
    {
     "data": {
      "text/plain": [
       "array([165, 171, 177])"
      ]
     },
     "execution_count": 96,
     "metadata": {},
     "output_type": "execute_result"
    }
   ],
   "source": [
    "# sum of columns , axis=0 for rows  . here total 3 columns so 3 output\n",
    "np.sum(b,axis=0)"
   ]
  },
  {
   "cell_type": "markdown",
   "id": "e9289e1b-b70e-4049-9891-a82380f816e6",
   "metadata": {},
   "source": [
    "### some statistics ###"
   ]
  },
  {
   "cell_type": "code",
   "execution_count": 99,
   "id": "44f98791-0c30-432e-a9d0-40f4c81a40f9",
   "metadata": {},
   "outputs": [
    {
     "data": {
      "text/plain": [
       "28.5"
      ]
     },
     "execution_count": 99,
     "metadata": {},
     "output_type": "execute_result"
    }
   ],
   "source": [
    "# mean of entire array\n",
    "np.mean(b)"
   ]
  },
  {
   "cell_type": "code",
   "execution_count": 100,
   "id": "cd1095b6-3016-43ac-89c3-49af867028d1",
   "metadata": {},
   "outputs": [
    {
     "data": {
      "text/plain": [
       "array([[4.47213595, 4.58257569, 4.69041576],\n",
       "       [4.79583152, 4.89897949, 5.        ],\n",
       "       [5.09901951, 5.19615242, 5.29150262],\n",
       "       [5.38516481, 5.47722558, 5.56776436],\n",
       "       [5.65685425, 5.74456265, 5.83095189],\n",
       "       [5.91607978, 6.        , 6.08276253]])"
      ]
     },
     "execution_count": 100,
     "metadata": {},
     "output_type": "execute_result"
    }
   ],
   "source": [
    "# finding square root of each element of array\n",
    "np.sqrt(b)"
   ]
  },
  {
   "cell_type": "code",
   "execution_count": 101,
   "id": "cb576a50-3332-4224-830a-bf26a321b50d",
   "metadata": {},
   "outputs": [
    {
     "data": {
      "text/plain": [
       "5.188127472091127"
      ]
     },
     "execution_count": 101,
     "metadata": {},
     "output_type": "execute_result"
    }
   ],
   "source": [
    "# standard deviation of entire array\n",
    "np.std(b)"
   ]
  },
  {
   "cell_type": "code",
   "execution_count": 102,
   "id": "5d2bbfa6-bfcf-4283-896e-bc49868461a2",
   "metadata": {},
   "outputs": [
    {
     "data": {
      "text/plain": [
       "array([[2.99573227, 3.04452244, 3.09104245],\n",
       "       [3.13549422, 3.17805383, 3.21887582],\n",
       "       [3.25809654, 3.29583687, 3.33220451],\n",
       "       [3.36729583, 3.40119738, 3.4339872 ],\n",
       "       [3.4657359 , 3.49650756, 3.52636052],\n",
       "       [3.55534806, 3.58351894, 3.61091791]])"
      ]
     },
     "execution_count": 102,
     "metadata": {},
     "output_type": "execute_result"
    }
   ],
   "source": [
    "# log of each index\n",
    "np.log(b)"
   ]
  },
  {
   "cell_type": "markdown",
   "id": "9ed893c5-253d-41aa-a321-28eb56f2c154",
   "metadata": {},
   "source": [
    "## Part - 6  : Trignometric function value ##"
   ]
  },
  {
   "cell_type": "code",
   "execution_count": 104,
   "id": "ddd90eb3-8111-4ae3-b695-a02724d84635",
   "metadata": {},
   "outputs": [
    {
     "data": {
      "text/plain": [
       "3.141592653589793"
      ]
     },
     "execution_count": 104,
     "metadata": {},
     "output_type": "execute_result"
    }
   ],
   "source": [
    "np.pi"
   ]
  },
  {
   "cell_type": "code",
   "execution_count": 106,
   "id": "36a263b7-c1d9-4ff2-9e5f-9c89b6716631",
   "metadata": {},
   "outputs": [
    {
     "data": {
      "text/plain": [
       "1.0"
      ]
     },
     "execution_count": 106,
     "metadata": {},
     "output_type": "execute_result"
    }
   ],
   "source": [
    "np.sin(np.pi/2)"
   ]
  },
  {
   "cell_type": "code",
   "execution_count": 107,
   "id": "6ff9326c-07b9-44f2-90d9-5da7868fb7e7",
   "metadata": {},
   "outputs": [
    {
     "data": {
      "text/plain": [
       "0.49999999999999994"
      ]
     },
     "execution_count": 107,
     "metadata": {},
     "output_type": "execute_result"
    }
   ],
   "source": [
    "np.sin(np.pi/6)"
   ]
  },
  {
   "cell_type": "code",
   "execution_count": 108,
   "id": "f7ed765a-b7ac-48fa-bba6-9bb42db00efb",
   "metadata": {},
   "outputs": [
    {
     "data": {
      "text/plain": [
       "6.123233995736766e-17"
      ]
     },
     "execution_count": 108,
     "metadata": {},
     "output_type": "execute_result"
    }
   ],
   "source": [
    "np.cos(np.pi/2)"
   ]
  },
  {
   "cell_type": "code",
   "execution_count": 109,
   "id": "8c0dac61-41a4-4af4-b9a3-3ce2ebd6b40d",
   "metadata": {},
   "outputs": [
    {
     "data": {
      "text/plain": [
       "0.0"
      ]
     },
     "execution_count": 109,
     "metadata": {},
     "output_type": "execute_result"
    }
   ],
   "source": [
    "np.tan(0)"
   ]
  },
  {
   "cell_type": "code",
   "execution_count": 112,
   "id": "f661b528-8a4b-4d7e-93cf-c5369cd15438",
   "metadata": {},
   "outputs": [
    {
     "data": {
      "text/plain": [
       "0.7265425280053608"
      ]
     },
     "execution_count": 112,
     "metadata": {},
     "output_type": "execute_result"
    }
   ],
   "source": [
    "np.tan(np.pi/5)"
   ]
  },
  {
   "cell_type": "code",
   "execution_count": 114,
   "id": "9f2fb292-e313-4b80-acfd-75290b48847a",
   "metadata": {},
   "outputs": [
    {
     "data": {
      "text/plain": [
       "1.633123935319537e+16"
      ]
     },
     "execution_count": 114,
     "metadata": {},
     "output_type": "execute_result"
    }
   ],
   "source": [
    "np.tan(np.pi/2)"
   ]
  },
  {
   "cell_type": "markdown",
   "id": "af1dea55-92de-4dd7-a852-dc427562d386",
   "metadata": {},
   "source": [
    "### Plotting the graph of curve ###"
   ]
  },
  {
   "cell_type": "code",
   "execution_count": 115,
   "id": "c564b5b2-e32d-4a4d-a87d-84617610e670",
   "metadata": {},
   "outputs": [],
   "source": [
    "import matplotlib.pyplot as plt"
   ]
  },
  {
   "cell_type": "code",
   "execution_count": 116,
   "id": "c68d8a30-f4af-42d4-b2c3-b9f9374a1321",
   "metadata": {},
   "outputs": [
    {
     "name": "stdout",
     "output_type": "stream",
     "text": [
      "[ 0.          0.09983342  0.19866933  0.29552021  0.38941834  0.47942554\n",
      "  0.56464247  0.64421769  0.71735609  0.78332691  0.84147098  0.89120736\n",
      "  0.93203909  0.96355819  0.98544973  0.99749499  0.9995736   0.99166481\n",
      "  0.97384763  0.94630009  0.90929743  0.86320937  0.8084964   0.74570521\n",
      "  0.67546318  0.59847214  0.51550137  0.42737988  0.33498815  0.23924933\n",
      "  0.14112001  0.04158066 -0.05837414 -0.15774569 -0.2555411  -0.35078323\n",
      " -0.44252044 -0.52983614 -0.61185789 -0.68776616 -0.7568025  -0.81827711\n",
      " -0.87157577 -0.91616594 -0.95160207 -0.97753012 -0.993691   -0.99992326\n",
      " -0.99616461 -0.98245261 -0.95892427 -0.92581468 -0.88345466 -0.83226744\n",
      " -0.77276449 -0.70554033 -0.63126664 -0.55068554 -0.46460218 -0.37387666\n",
      " -0.2794155  -0.1821625  -0.0830894 ]\n"
     ]
    }
   ],
   "source": [
    "x_sin= np.arange(0,2*np.pi,0.1)\n",
    "y_sin=np.sin(x_sin)\n",
    "print(y_sin)"
   ]
  },
  {
   "cell_type": "code",
   "execution_count": 122,
   "id": "9d61a7de-f67f-422e-8f3a-9ab9c195cad6",
   "metadata": {},
   "outputs": [
    {
     "data": {
      "image/png": "[encoded data removed]",
      "text/plain": [
       "<Figure size 400x400 with 1 Axes>"
      ]
     },
     "metadata": {},
     "output_type": "display_data"
    }
   ],
   "source": [
    "plt.figure(figsize = (4,4)) # dimension of plot graph\n",
    "plt.plot(x_sin,y_sin)\n",
    "plt.title('Sin Curve')\n",
    "plt.show()"
   ]
  },
  {
   "cell_type": "code",
   "execution_count": 124,
   "id": "ba4e362f-2732-4b80-b130-115eaf68c324",
   "metadata": {},
   "outputs": [
    {
     "name": "stdout",
     "output_type": "stream",
     "text": [
      "[ 1.          0.99500417  0.98006658  0.95533649  0.92106099  0.87758256\n",
      "  0.82533561  0.76484219  0.69670671  0.62160997  0.54030231  0.45359612\n",
      "  0.36235775  0.26749883  0.16996714  0.0707372  -0.02919952 -0.12884449\n",
      " -0.22720209 -0.32328957 -0.41614684 -0.5048461  -0.58850112 -0.66627602\n",
      " -0.73739372 -0.80114362 -0.85688875 -0.90407214 -0.94222234 -0.97095817\n",
      " -0.9899925  -0.99913515 -0.99829478 -0.98747977 -0.96679819 -0.93645669\n",
      " -0.89675842 -0.84810003 -0.79096771 -0.7259323  -0.65364362 -0.57482395\n",
      " -0.49026082 -0.40079917 -0.30733287 -0.2107958  -0.11215253 -0.01238866\n",
      "  0.08749898  0.18651237  0.28366219  0.37797774  0.46851667  0.55437434\n",
      "  0.63469288  0.70866977  0.77556588  0.83471278  0.88551952  0.92747843\n",
      "  0.96017029  0.98326844  0.9965421 ]\n"
     ]
    },
    {
     "data": {
      "image/png": "[encoded data removed]",
      "text/plain": [
       "<Figure size 400x400 with 1 Axes>"
      ]
     },
     "metadata": {},
     "output_type": "display_data"
    }
   ],
   "source": [
    "x_cos= np.arange(0,2*np.pi,0.1)\n",
    "y_cos=np.cos(x_cos)\n",
    "print(y_cos)\n",
    "plt.figure(figsize = (4,4)) # dimension of plot graph\n",
    "plt.plot(x_cos,y_cos)\n",
    "plt.title('Cos Curve')\n",
    "plt.show()"
   ]
  },
  {
   "cell_type": "code",
   "execution_count": 125,
   "id": "aac18ea6-5416-49b1-a810-bf1b9221dbd1",
   "metadata": {},
   "outputs": [
    {
     "name": "stdout",
     "output_type": "stream",
     "text": [
      "[ 1.          0.99500417  0.98006658  0.95533649  0.92106099  0.87758256\n",
      "  0.82533561  0.76484219  0.69670671  0.62160997  0.54030231  0.45359612\n",
      "  0.36235775  0.26749883  0.16996714  0.0707372  -0.02919952 -0.12884449\n",
      " -0.22720209 -0.32328957 -0.41614684 -0.5048461  -0.58850112 -0.66627602\n",
      " -0.73739372 -0.80114362 -0.85688875 -0.90407214 -0.94222234 -0.97095817\n",
      " -0.9899925  -0.99913515 -0.99829478 -0.98747977 -0.96679819 -0.93645669\n",
      " -0.89675842 -0.84810003 -0.79096771 -0.7259323  -0.65364362 -0.57482395\n",
      " -0.49026082 -0.40079917 -0.30733287 -0.2107958  -0.11215253 -0.01238866\n",
      "  0.08749898  0.18651237  0.28366219  0.37797774  0.46851667  0.55437434\n",
      "  0.63469288  0.70866977  0.77556588  0.83471278  0.88551952  0.92747843\n",
      "  0.96017029  0.98326844  0.9965421 ]\n"
     ]
    },
    {
     "data": {
      "image/png": "[encoded data removed]",
      "text/plain": [
       "<Figure size 400x400 with 1 Axes>"
      ]
     },
     "metadata": {},
     "output_type": "display_data"
    }
   ],
   "source": [
    "x_tan= np.arange(0,2*np.pi,0.1)\n",
    "y_tan=np.cos(x_tan)\n",
    "print(y_tan)\n",
    "plt.figure(figsize = (4,4)) # dimension of plot graph\n",
    "plt.plot(x_tan,y_tan)\n",
    "plt.title('tan Curve')\n",
    "plt.show()"
   ]
  },
  {
   "cell_type": "code",
   "execution_count": 127,
   "id": "840bf256-b883-4f9a-a52c-6c036b94d2b2",
   "metadata": {},
   "outputs": [
    {
     "name": "stdout",
     "output_type": "stream",
     "text": [
      "[            inf  9.96664442e+00  4.93315488e+00  3.23272814e+00\n",
      "  2.36522242e+00  1.83048772e+00  1.46169595e+00  1.18724183e+00\n",
      "  9.71214601e-01  7.93551148e-01  6.42092616e-01  5.08968105e-01\n",
      "  3.88779569e-01  2.77615647e-01  1.72476726e-01  7.09148443e-02\n",
      " -2.92119782e-02 -1.29927464e-01 -2.33303535e-01 -3.41635355e-01\n",
      " -4.57657554e-01 -5.84847806e-01 -7.27895776e-01 -8.93484463e-01\n",
      " -1.09168603e+00 -1.33864813e+00 -1.66224340e+00 -2.11538302e+00\n",
      " -2.81270349e+00 -4.05835272e+00 -7.01525255e+00 -2.40288416e+01\n",
      "  1.71016604e+01  6.25994754e+00  3.78333734e+00  2.66961648e+00\n",
      "  2.02647907e+00  1.60068362e+00  1.29273108e+00  1.05549291e+00\n",
      "  8.63691154e-01  7.02480784e-01  5.62499368e-01  4.37474431e-01\n",
      "  3.22963640e-01  2.15641233e-01  1.12864589e-01  1.23896143e-02\n",
      " -8.78358684e-02 -1.89843629e-01 -2.95812916e-01 -4.08265012e-01\n",
      " -5.30323394e-01 -6.66101193e-01 -8.21327696e-01 -1.00443553e+00\n",
      " -1.22858683e+00 -1.51577029e+00 -1.90597366e+00 -2.48070692e+00\n",
      " -3.43635300e+00 -5.39775429e+00 -1.19936125e+01]\n"
     ]
    },
    {
     "name": "stderr",
     "output_type": "stream",
     "text": [
      "C:\\Users\\91628\\AppData\\Local\\Temp\\ipykernel_4088\\2435753342.py:2: RuntimeWarning: divide by zero encountered in divide\n",
      "  y_cot=1/np.tan(x_cot)\n"
     ]
    },
    {
     "data": {
      "image/png": "[encoded data removed]",
      "text/plain": [
       "<Figure size 400x400 with 1 Axes>"
      ]
     },
     "metadata": {},
     "output_type": "display_data"
    }
   ],
   "source": [
    "x_cot= np.arange(0,2*np.pi,0.1)\n",
    "y_cot=1/np.tan(x_cot)\n",
    "print(y_cot)\n",
    "plt.figure(figsize = (4,4)) # dimension of plot graph\n",
    "plt.plot(x_cot,y_cot)\n",
    "plt.title('Cot Curve')\n",
    "plt.show()"
   ]
  },
  {
   "cell_type": "markdown",
   "id": "fac30a10-6946-454e-9ea7-22ce441efb1b",
   "metadata": {},
   "source": [
    "### Plotting all 4 graph in a single frame using subplot ###"
   ]
  },
  {
   "cell_type": "code",
   "execution_count": 135,
   "id": "ba77a362-754d-4b55-8374-99c8d1de9890",
   "metadata": {},
   "outputs": [
    {
     "data": {
      "image/png": "[encoded data removed]",
      "text/plain": [
       "<Figure size 800x800 with 4 Axes>"
      ]
     },
     "metadata": {},
     "output_type": "display_data"
    }
   ],
   "source": [
    "plt.figure(figsize=(8,8))\n",
    "plt.subplot(2,2,1)  # 2-rows , 2-cols , 1- index number\n",
    "plt.plot(x_sin,y_sin,'r-')   # r- is for red dash for graph line\n",
    "plt.title('Sin Curve')\n",
    "\n",
    "plt.subplot(2,2,2)  # 2-rows , 2-cols , 2- index number\n",
    "plt.plot(x_cos,y_cos,'g-')   # g- is for green dash for graph line\n",
    "plt.title('Cos Curve')\n",
    "\n",
    "plt.subplot(2,2,3)  # 2-rows , 2-cols , 3- index number\n",
    "plt.plot(x_cot,y_cot,'b-')   # b- is for blue dash for graph line\n",
    "plt.title('Cot Curve')\n",
    "\n",
    "plt.subplot(2,2,4)  # 2-rows , 2-cols , 4- index number\n",
    "plt.plot(x_tan,y_tan,'y-')   # y- is for yellow dash for graph line\n",
    "plt.title('tan Curve')\n",
    "\n",
    "plt.show()"
   ]
  },
  {
   "cell_type": "markdown",
   "id": "12daba41-1476-4a10-9bb7-9ed475f87795",
   "metadata": {},
   "source": [
    "## Part -7 : Random Operations ##"
   ]
  },
  {
   "cell_type": "markdown",
   "id": "71fa75a6-e5f8-46e2-8cac-4bf3213b89ae",
   "metadata": {},
   "source": [
    "### np.random.random((tensor_size)) ### \n",
    "gives random generated tensor array"
   ]
  },
  {
   "cell_type": "code",
   "execution_count": 8,
   "id": "9f95c2b1-f12d-49e6-89cb-ac130af27469",
   "metadata": {},
   "outputs": [
    {
     "data": {
      "text/plain": [
       "array([0.74385758])"
      ]
     },
     "execution_count": 8,
     "metadata": {},
     "output_type": "execute_result"
    }
   ],
   "source": [
    "np.random.random(1)"
   ]
  },
  {
   "cell_type": "code",
   "execution_count": 5,
   "id": "730058dc-5ac0-4a54-ba5e-8285688a24fa",
   "metadata": {},
   "outputs": [
    {
     "data": {
      "text/plain": [
       "array([0.65505578, 0.66025972])"
      ]
     },
     "execution_count": 5,
     "metadata": {},
     "output_type": "execute_result"
    }
   ],
   "source": [
    "np.random.random(2)"
   ]
  },
  {
   "cell_type": "code",
   "execution_count": 6,
   "id": "3fd930d6-9088-48ab-a48b-508cb87c57b0",
   "metadata": {},
   "outputs": [
    {
     "data": {
      "text/plain": [
       "array([[0.03608071, 0.87480286],\n",
       "       [0.93798745, 0.75711079]])"
      ]
     },
     "execution_count": 6,
     "metadata": {},
     "output_type": "execute_result"
    }
   ],
   "source": [
    "np.random.random((2,2))"
   ]
  },
  {
   "cell_type": "code",
   "execution_count": 10,
   "id": "7200722a-292c-4461-b03c-3377b12b72da",
   "metadata": {},
   "outputs": [
    {
     "data": {
      "text/plain": [
       "array([[[0.25425927, 0.57094594],\n",
       "        [0.11425655, 0.54259703]],\n",
       "\n",
       "       [[0.09026517, 0.09672206],\n",
       "        [0.17055677, 0.2681249 ]]])"
      ]
     },
     "execution_count": 10,
     "metadata": {},
     "output_type": "execute_result"
    }
   ],
   "source": [
    "np.random.random((2,2,2))"
   ]
  },
  {
   "cell_type": "markdown",
   "id": "d5cde5e1-517f-467b-b83a-6b725a2c075a",
   "metadata": {},
   "source": [
    "### np.random.randint(initial_index, final index, (tensor size)) ###   \n",
    "gives random integer in [initial , final)  , tensor size is optional"
   ]
  },
  {
   "cell_type": "code",
   "execution_count": 20,
   "id": "d1dc3204-22ef-4c52-ae07-93389dd78221",
   "metadata": {},
   "outputs": [
    {
     "data": {
      "text/plain": [
       "8"
      ]
     },
     "execution_count": 20,
     "metadata": {},
     "output_type": "execute_result"
    }
   ],
   "source": [
    "np.random.randint(1,10)"
   ]
  },
  {
   "cell_type": "code",
   "execution_count": 21,
   "id": "f0298cfb-8dd3-45d4-b3f9-c16565df32a2",
   "metadata": {},
   "outputs": [
    {
     "data": {
      "text/plain": [
       "array([[8, 1],\n",
       "       [9, 5]])"
      ]
     },
     "execution_count": 21,
     "metadata": {},
     "output_type": "execute_result"
    }
   ],
   "source": [
    "np.random.randint(1,10,(2,2))"
   ]
  },
  {
   "cell_type": "markdown",
   "id": "b658c329-3894-4b08-93a0-55f972002437",
   "metadata": {},
   "source": [
    "### rand( tensor size ) : generate random floated array ###\n",
    "### randn ( tensor size ) : generate random floated array including negative number also ###"
   ]
  },
  {
   "cell_type": "code",
   "execution_count": 22,
   "id": "4875b0a6-a772-4cf3-ab43-ebf01d831685",
   "metadata": {},
   "outputs": [
    {
     "data": {
      "text/plain": [
       "array([[0.54346302, 0.10711396],\n",
       "       [0.30073127, 0.14159478]])"
      ]
     },
     "execution_count": 22,
     "metadata": {},
     "output_type": "execute_result"
    }
   ],
   "source": [
    "np.random.rand(2,2)"
   ]
  },
  {
   "cell_type": "code",
   "execution_count": 23,
   "id": "67af95aa-0d6c-40a7-9df5-92f96399eab4",
   "metadata": {},
   "outputs": [
    {
     "data": {
      "text/plain": [
       "array([[ 0.444128  , -1.04926783],\n",
       "       [ 0.79593452, -0.14847985]])"
      ]
     },
     "execution_count": 23,
     "metadata": {},
     "output_type": "execute_result"
    }
   ],
   "source": [
    "np.random.randn(2,2)"
   ]
  },
  {
   "cell_type": "code",
   "execution_count": 30,
   "id": "1fc4aa92-bf00-4c67-b0ce-5b5842e83928",
   "metadata": {},
   "outputs": [
    {
     "data": {
      "text/plain": [
       "array([[[ 0.47960668],\n",
       "        [-1.44027519],\n",
       "        [-1.16731251],\n",
       "        [ 1.01836482],\n",
       "        [-2.14524271],\n",
       "        [-1.36156384],\n",
       "        [ 1.48441746],\n",
       "        [ 0.50617507],\n",
       "        [-1.38606231],\n",
       "        [ 1.62228258]],\n",
       "\n",
       "       [[ 0.21530252],\n",
       "        [-0.46717156],\n",
       "        [ 0.02023312],\n",
       "        [ 1.35271823],\n",
       "        [ 0.13340743],\n",
       "        [ 0.40403041],\n",
       "        [-1.61454209],\n",
       "        [-0.85998904],\n",
       "        [ 1.53953435],\n",
       "        [-0.3978515 ]]])"
      ]
     },
     "execution_count": 30,
     "metadata": {},
     "output_type": "execute_result"
    }
   ],
   "source": [
    "np.random.randn(2,10,1)"
   ]
  },
  {
   "cell_type": "markdown",
   "id": "caf81105-167b-4a34-8ffd-6c1dd7712661",
   "metadata": {},
   "source": [
    "### choice(array) ### \n",
    "randomly choose random number from an array"
   ]
  },
  {
   "cell_type": "code",
   "execution_count": 35,
   "id": "548811bf-3ef9-4977-91fe-6cbdb2fab87d",
   "metadata": {},
   "outputs": [
    {
     "name": "stdout",
     "output_type": "stream",
     "text": [
      "[1 2 3 4 5 6 7 8 9]\n"
     ]
    }
   ],
   "source": [
    "# printing an ascending array \n",
    "a=np.arange(1,10)\n",
    "print(a)"
   ]
  },
  {
   "cell_type": "code",
   "execution_count": 38,
   "id": "2abce476-ae9d-4a59-97e8-924f3b81b66c",
   "metadata": {},
   "outputs": [
    {
     "data": {
      "text/plain": [
       "4"
      ]
     },
     "execution_count": 38,
     "metadata": {},
     "output_type": "execute_result"
    }
   ],
   "source": [
    "np.random.choice(a)"
   ]
  },
  {
   "cell_type": "markdown",
   "id": "d6a3536b-043e-417e-b101-85e0e4309333",
   "metadata": {},
   "source": [
    "## Part - 8 : Strings ##"
   ]
  },
  {
   "cell_type": "code",
   "execution_count": 39,
   "id": "bc5f45ab-2be7-4ba4-bab9-c9d1652254e7",
   "metadata": {},
   "outputs": [],
   "source": [
    "s1=\"Ujjwal is my name\"\n",
    "s2=\"Aman is my friend\""
   ]
  },
  {
   "cell_type": "code",
   "execution_count": 42,
   "id": "a23024a8-4221-4c71-b22e-7463823320d6",
   "metadata": {},
   "outputs": [
    {
     "data": {
      "text/plain": [
       "array('Ujjwal is my nameAman is my friend', dtype='<U34')"
      ]
     },
     "execution_count": 42,
     "metadata": {},
     "output_type": "execute_result"
    }
   ],
   "source": [
    "# char.add is used to cancatenate the strings\n",
    "np.char.add(s1 , s2)"
   ]
  },
  {
   "cell_type": "code",
   "execution_count": 43,
   "id": "80145afe-6446-402d-8827-5810299ed239",
   "metadata": {},
   "outputs": [
    {
     "data": {
      "text/plain": [
       "array('UJJWAL IS MY NAME', dtype='<U17')"
      ]
     },
     "execution_count": 43,
     "metadata": {},
     "output_type": "execute_result"
    }
   ],
   "source": [
    "# for upper case \n",
    "np.char.upper(s1)"
   ]
  },
  {
   "cell_type": "code",
   "execution_count": 44,
   "id": "f83a5de1-fe28-4782-9b9f-58736c5b04bf",
   "metadata": {},
   "outputs": [
    {
     "data": {
      "text/plain": [
       "array('aman is my friend', dtype='<U17')"
      ]
     },
     "execution_count": 44,
     "metadata": {},
     "output_type": "execute_result"
    }
   ],
   "source": [
    "# for lower case\n",
    "np.char.lower(s2)"
   ]
  },
  {
   "cell_type": "markdown",
   "id": "028fc44b-3a51-4e4b-bbcc-74d0279e71ce",
   "metadata": {},
   "source": [
    "### char.split(string) : split the string where it found spaces and store in array ###\n",
    "### char.splitlines(string) : split the string where it found newline and store in array ###"
   ]
  },
  {
   "cell_type": "code",
   "execution_count": 45,
   "id": "aab57c41-4116-4e9f-93df-4a32077dd23e",
   "metadata": {},
   "outputs": [
    {
     "data": {
      "text/plain": [
       "array(list(['Ujjwal', 'is', 'my', 'name']), dtype=object)"
      ]
     },
     "execution_count": 45,
     "metadata": {},
     "output_type": "execute_result"
    }
   ],
   "source": [
    "np.char.split(s1)"
   ]
  },
  {
   "cell_type": "code",
   "execution_count": 46,
   "id": "12dcf4f4-e385-410b-ad58-3d6464ea5bcd",
   "metadata": {},
   "outputs": [
    {
     "data": {
      "text/plain": [
       "array(list(['ujjwal', 'is', 'is', 'my', 'name', 'ujjwal', 'singh']),\n",
       "      dtype=object)"
      ]
     },
     "execution_count": 46,
     "metadata": {},
     "output_type": "execute_result"
    }
   ],
   "source": [
    "s3=\"ujjwal is is my name ujjwal singh \"\n",
    "np.char.split(s3)"
   ]
  },
  {
   "cell_type": "code",
   "execution_count": 50,
   "id": "bc77ebe5-465c-4df5-9cf2-623cca7b2326",
   "metadata": {},
   "outputs": [
    {
     "name": "stdout",
     "output_type": "stream",
     "text": [
      "Hey Naf \n",
      " How are you \n",
      " what are you doing nowdays\n"
     ]
    },
    {
     "data": {
      "text/plain": [
       "array(list(['Hey Naf ', ' How are you ', ' what are you doing nowdays']),\n",
       "      dtype=object)"
      ]
     },
     "execution_count": 50,
     "metadata": {},
     "output_type": "execute_result"
    }
   ],
   "source": [
    "s4=\"Hey Naf \\n How are you \\n what are you doing nowdays\"\n",
    "# print(s4)\n",
    "np.char.splitlines(s4)"
   ]
  },
  {
   "cell_type": "markdown",
   "id": "b93c02f8-5ce3-4440-8db0-1db56dfa563e",
   "metadata": {},
   "source": [
    "### char.replace(stringName, \"old name\" , \"new name\" ) ###"
   ]
  },
  {
   "cell_type": "code",
   "execution_count": 51,
   "id": "b190c024-17a6-48f8-aab3-7881588ff9e7",
   "metadata": {},
   "outputs": [
    {
     "data": {
      "text/plain": [
       "array('Aman is is my name Aman singh ', dtype='<U30')"
      ]
     },
     "execution_count": 51,
     "metadata": {},
     "output_type": "execute_result"
    }
   ],
   "source": [
    "np.char.replace(s3, \"ujjwal\" , \"Aman\" )"
   ]
  },
  {
   "cell_type": "markdown",
   "id": "4f7b792e-bf6c-4e83-b7ce-742a7028e1d1",
   "metadata": {},
   "source": [
    "### char.center(\"center word\" , Toal surrounding size , \"surrounding character\") ###"
   ]
  },
  {
   "cell_type": "code",
   "execution_count": 53,
   "id": "270ce5f8-8c07-461c-9174-a901828f3510",
   "metadata": {},
   "outputs": [
    {
     "data": {
      "text/plain": [
       "array('****************************good bye bubu*****************************',\n",
       "      dtype='<U70')"
      ]
     },
     "execution_count": 53,
     "metadata": {},
     "output_type": "execute_result"
    }
   ],
   "source": [
    "np.char.center(\"good bye bubu\" , 70 , \"*\" )"
   ]
  },
  {
   "cell_type": "code",
   "execution_count": 64,
   "id": "8a9e371d-f212-45dd-9fdf-ecce2deb44d1",
   "metadata": {},
   "outputs": [
    {
     "name": "stdout",
     "output_type": "stream",
     "text": [
      "################ let me tell you kutti story #################\n"
     ]
    }
   ],
   "source": [
    "print(np.char.center(\" let me tell you kutti story \" , 62 , \"#\"))"
   ]
  }
 ],
 "metadata": {
  "kernelspec": {
   "display_name": "Python 3 (ipykernel)",
   "language": "python",
   "name": "python3"
  },
  "language_info": {
   "codemirror_mode": {
    "name": "ipython",
    "version": 3
   },
   "file_extension": ".py",
   "mimetype": "text/x-python",
   "name": "python",
   "nbconvert_exporter": "python",
   "pygments_lexer": "ipython3",
   "version": "3.12.1"
  }
 },
 "nbformat": 4,
 "nbformat_minor": 5
}
